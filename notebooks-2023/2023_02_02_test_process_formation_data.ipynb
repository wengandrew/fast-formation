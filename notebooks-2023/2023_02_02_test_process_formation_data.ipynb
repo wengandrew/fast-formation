{
 "cells": [
  {
   "cell_type": "markdown",
   "id": "94e349af-b241-4b61-9a8f-dfe35464b3ea",
   "metadata": {},
   "source": [
    "# Test processing of formation data\n",
    "\n",
    "Let's figure out how to process data from formation cycles for cells having three different formation protocols: baseline, fast, and super-fast.\n",
    "\n",
    "Compile information on UMBLFEB2022 formation cells\n",
    "\n",
    "2/2/2023"
   ]
  },
  {
   "cell_type": "code",
   "execution_count": 1,
   "id": "dee48878-92a0-4af7-b00e-1c8d5d41eb35",
   "metadata": {},
   "outputs": [],
   "source": [
    "import os, sys\n",
    "from matplotlib import pyplot as plt\n",
    "\n",
    "if os.path.basename(os.getcwd()) == 'notebooks-2023':\n",
    "    os.chdir('../')\n",
    "    sys.path.insert(0, 'src/')\n",
    "    \n",
    "import numpy as np\n",
    "import pandas as pd\n",
    "from matplotlib import pyplot as plt\n",
    "%matplotlib ipympl\n",
    "\n",
    "import src.plotter as plotter\n",
    "import src.vas as vas\n",
    "import src.parsers as parsers\n",
    "\n",
    "%load_ext autoreload\n",
    "%autoreload 2\n",
    "\n",
    "plotter.initialize(plt)"
   ]
  },
  {
   "cell_type": "code",
   "execution_count": 3,
   "id": "59cc35ef-b301-48b3-b505-3b0f5960d58d",
   "metadata": {},
   "outputs": [
    {
     "name": "stdout",
     "output_type": "stream",
     "text": [
      "Initializing Voltaiq Analytic Studio Helper...\n",
      "Initializing test records...\n",
      "Initializing devices...\n",
      "Done.\n"
     ]
    }
   ],
   "source": [
    "# Initialize the helper class\n",
    "vh = vas.VasHelper()\n",
    "vas_helper = vh"
   ]
  },
  {
   "cell_type": "code",
   "execution_count": 11,
   "id": "979228d9-b00c-44f9-8c0a-3fb599060ccd",
   "metadata": {},
   "outputs": [
    {
     "name": "stdout",
     "output_type": "stream",
     "text": [
      "UMBL2022FEB_CELL152030_FORMBASE_1_P25C_0P0PSI_20220713\n",
      "UMBL2022FEB_CELL152030_FORMTAP_1_P25C_0P0PSI_20220711_R1\n",
      "UMBL2022FEB_CELL152030_FORMAGING_1_P45C_0P0PSI_20220720_R1\n"
     ]
    }
   ],
   "source": [
    "device_name = 'UMBL2022FEB_CELL152030'\n",
    "\n",
    "test_list, _ = vas_helper.get_test_names(device_name)\n",
    "\n",
    "formation_test_list = []\n",
    "for test_name in test_list:\n",
    "    if 'FORMAGING' in test_name:\n",
    "        test_name_form_aging = test_name\n",
    "    elif 'FORMTAP' in test_name:\n",
    "        test_name_form_tap = test_name\n",
    "    elif any(x in test_name for x in ['FORMBASE', 'FORMFAST1', 'FORMFAST2']):\n",
    "        test_name_form = test_name\n",
    "        \n",
    "print(test_name_form)\n",
    "print(test_name_form_tap)\n",
    "print(test_name_form_aging)\n",
    "\n",
    "df_form = vas_helper.get_cycler_data(test_name_form)\n",
    "df_form_tap = vas_helper.get_cycler_data(test_name_form_tap)\n",
    "df_form_aging = vas_helper.get_cycler_data(test_name_form_aging)"
   ]
  },
  {
   "cell_type": "markdown",
   "id": "bbb70f42-dfdc-4986-a228-5088dc26fd27",
   "metadata": {},
   "source": [
    "# First inspect the entire dataset"
   ]
  },
  {
   "cell_type": "code",
   "execution_count": 14,
   "id": "850b14dd-e0d8-4da1-930f-7a54b6ce62f4",
   "metadata": {},
   "outputs": [
    {
     "data": {
      "application/vnd.jupyter.widget-view+json": {
       "model_id": "9377ca8fe48a47358c702667914cca4d",
       "version_major": 2,
       "version_minor": 0
      },
      "text/plain": [
       "Canvas(toolbar=Toolbar(toolitems=[('Home', 'Reset original view', 'home', 'home'), ('Back', 'Back to previous …"
      ]
     },
     "metadata": {},
     "output_type": "display_data"
    }
   ],
   "source": [
    "plot_vars = ['voltage_v', 'cycle_index', 'step_index']\n",
    "xvar = 'datetime'\n",
    "nrows = len(plot_vars)\n",
    "\n",
    "fh, axs = plt.subplots(nrows=nrows, ncols=1, \n",
    "                       figsize=(8, nrows * 3), sharex=True)\n",
    "\n",
    "for df in [df_form, df_form_tap, df_form_aging]:\n",
    "\n",
    "    for yvar, ax in zip(plot_vars, axs):\n",
    "        ax.plot(df[xvar], df[yvar])\n",
    "        ax.set_ylabel(yvar)\n",
    "        if ax != axs[-1]:\n",
    "            ax.tick_params(labelbottom=False)\n",
    "    \n",
    "axs[-1].set_xlabel(xvar);\n",
    "axs[0].set_title(device_name);"
   ]
  },
  {
   "cell_type": "markdown",
   "id": "a875312a-0f5b-4b32-ac9f-5b0f4ceed52a",
   "metadata": {},
   "source": [
    "# Process the Tap Charge data"
   ]
  },
  {
   "cell_type": "code",
   "execution_count": null,
   "id": "3a97b570-6e74-409d-89e5-5a7f28d146b9",
   "metadata": {},
   "outputs": [],
   "source": []
  },
  {
   "cell_type": "markdown",
   "id": "20342053-d6b9-41bb-abf8-ce33bce6d313",
   "metadata": {},
   "source": [
    "# Process the Formation Metrics"
   ]
  },
  {
   "cell_type": "code",
   "execution_count": null,
   "id": "4183d765-80c7-47c9-bc1a-eb0ed1c4522d",
   "metadata": {},
   "outputs": [],
   "source": []
  },
  {
   "cell_type": "markdown",
   "id": "b4b1bc99-7f4e-4e42-beb3-4a04c4adb460",
   "metadata": {},
   "source": [
    "# Process the dV/dQ Data From Formation RPT"
   ]
  },
  {
   "cell_type": "code",
   "execution_count": null,
   "id": "83b77a35-2a20-454f-bbef-27aad21e1635",
   "metadata": {},
   "outputs": [],
   "source": []
  },
  {
   "cell_type": "markdown",
   "id": "1a941f7e-0c96-4e23-93eb-576a4b2067aa",
   "metadata": {},
   "source": [
    "# Process the HPPC Data From Formation RPT"
   ]
  },
  {
   "cell_type": "code",
   "execution_count": null,
   "id": "660dd18a-2915-4ea2-8e3c-9c990f0e14ba",
   "metadata": {},
   "outputs": [],
   "source": []
  },
  {
   "cell_type": "markdown",
   "id": "96226bc9-a5fa-49ce-85d8-3f8d33e782c2",
   "metadata": {},
   "source": [
    "# Process the Formation 2-week Aging Data"
   ]
  },
  {
   "cell_type": "code",
   "execution_count": null,
   "id": "8e95d5f2-f099-40a2-8e07-730d81c22e5c",
   "metadata": {},
   "outputs": [],
   "source": []
  }
 ],
 "metadata": {
  "kernelspec": {
   "display_name": "Python 3 (ipykernel)",
   "language": "python",
   "name": "python3"
  },
  "language_info": {
   "codemirror_mode": {
    "name": "ipython",
    "version": 3
   },
   "file_extension": ".py",
   "mimetype": "text/x-python",
   "name": "python",
   "nbconvert_exporter": "python",
   "pygments_lexer": "ipython3",
   "version": "3.9.6"
  }
 },
 "nbformat": 4,
 "nbformat_minor": 5
}
