{
 "cells": [
  {
   "cell_type": "markdown",
   "id": "94e349af-b241-4b61-9a8f-dfe35464b3ea",
   "metadata": {},
   "source": [
    "# Process the Parallel Cycling Data\n",
    "\n",
    "2/16/2023"
   ]
  },
  {
   "cell_type": "code",
   "execution_count": 56,
   "id": "dee48878-92a0-4af7-b00e-1c8d5d41eb35",
   "metadata": {},
   "outputs": [
    {
     "name": "stdout",
     "output_type": "stream",
     "text": [
      "The autoreload extension is already loaded. To reload it, use:\n",
      "  %reload_ext autoreload\n"
     ]
    }
   ],
   "source": [
    "import os, sys\n",
    "from matplotlib import pyplot as plt\n",
    "\n",
    "if os.path.basename(os.getcwd()) == 'notebooks-2023':\n",
    "    os.chdir('../')\n",
    "    sys.path.insert(0, 'src/')\n",
    "    \n",
    "import numpy as np\n",
    "import pandas as pd\n",
    "from scipy import interpolate\n",
    "from matplotlib import pyplot as plt\n",
    "%matplotlib ipympl\n",
    "\n",
    "import src.plotter as plotter\n",
    "import src.vas as vas\n",
    "import src.parsers as parsers\n",
    "\n",
    "from datetime import datetime, timedelta\n",
    "\n",
    "%load_ext autoreload\n",
    "%autoreload 2\n",
    "\n",
    "plotter.initialize(plt)"
   ]
  },
  {
   "cell_type": "code",
   "execution_count": 2,
   "id": "59cc35ef-b301-48b3-b505-3b0f5960d58d",
   "metadata": {},
   "outputs": [
    {
     "name": "stdout",
     "output_type": "stream",
     "text": [
      "Initializing Voltaiq Analytic Studio Helper...\n",
      "Initializing test records...\n",
      "Initializing devices...\n",
      "Done.\n"
     ]
    }
   ],
   "source": [
    "# Initialize the helper class\n",
    "vh = vas.VasHelper()"
   ]
  },
  {
   "cell_type": "markdown",
   "id": "4807352f-ddf8-43a5-9cc4-86f51054bff8",
   "metadata": {},
   "source": [
    "# Load the data for the pre-conditioning test for Cell A"
   ]
  },
  {
   "cell_type": "code",
   "execution_count": 146,
   "id": "781dfe13-fe3e-492d-90ca-66fabe10e1c5",
   "metadata": {},
   "outputs": [
    {
     "data": {
      "text/plain": [
       "(['UMBL2022FEB_CELL152098_CYC_1C1CR1_P45C_5P0PSI_20230217_R1-01-025',\n",
       "  'UMBL2022FEB_CELL152098_RPT_1_P45C_5P0PSI_20230201_R1-01-025',\n",
       "  'UMBL2022FEB_CELL152098_CYC_VMONITOR_P45C_5P0PSI_20221206_R1-01-025',\n",
       "  'UMBL2022FEB_CELL152098_CYC_1C1CR1_P45C_5P0PSI_20220923_R1',\n",
       "  'UMBL2022FEB_CELL152098_FORMAGING_1_P45C_5P0PSI_20220909_R1',\n",
       "  'UMBL2022FEB_CELL152098_FORMTAP_2_P45C_5P0PSI_20220901_R1',\n",
       "  'UMBL2022FEB_CELL152098_FORMFAST_2_P45C_5P0PSI_20220902_R1'],\n",
       " ['UMBL2022FEB_CELL152098_FORMFAST_2_P45C_P5P0PSI_20220902_R16_AuxDat_TC24_20221206_131017',\n",
       "  'UMBL2022FEB_CELL152098_FORMFAST_2_P45C_P5P0PSI_20220902_R15_AuxDat_TC24_20221205_110240',\n",
       "  'UMBL2022FEB_CELL152098_FORMFAST_2_P45C_P5P0PSI_20220902_R14_AuxDat_TC24_20221113_130449',\n",
       "  'UMBL2022FEB_CELL152098_FORMFAST_2_P45C_P5P0PSI_20220902_R13_AuxDat_TC24_20221104_165743',\n",
       "  'UMBL2022FEB_CELL152098_FORMFAST_2_P45C_P5P0PSI_20220902_R12_AuxDat_TC24_20221103_000118',\n",
       "  'UMBL2022FEB_CELL152098_FORMFAST_2_P45C_P5P0PSI_20220902_R10_AuxDat_TC24_20221031_142905',\n",
       "  'UMBL2022FEB_CELL152098_FORMFAST_2_P45C_P5P0PSI_20220902_R9_AuxDat_TC24_20221021_152017',\n",
       "  'UMBL2022FEB_CELL152098_FORMFAST_2_P45C_P5P0PSI_20220902_R8_AuxDat_TC24_20221020_152815',\n",
       "  'UMBL2022FEB_CELL152098_FORMFAST_2_P45C_P5P0PSI_20220902_R7_AuxDat_TC24_20221019_152033',\n",
       "  'UMBL2022FEB_CELL152098_FORMFAST_2_P45C_P5P0PSI_20220902_R7_AuxDat_TC24_20221019_095916',\n",
       "  'UMBL2022FEB_CELL152098_FORMFAST_2_P45C_P5P0PSI_20220902_R6_AuxDat_TC24_20221018_223856',\n",
       "  'UMBL2022FEB_CELL152098_FORMFAST_2_P45C_P5P0PSI_20220902_R5_AuxDat_TC24_20221013_193951',\n",
       "  'UMBL2022FEB_CELL152098_FORMFAST_2_P45C_P5P0PSI_20220902_R5_AuxDat_TC24_20221013_193931',\n",
       "  'UMBL2022FEB_CELL152098_FORMFAST_2_P45C_P5P0PSI_20220902_R5_AuxDat_TC24_20221013_121556',\n",
       "  'UMBL2022FEB_CELL152098_FORMFAST_2_P45C_P5P0PSI_20220902_R4_AuxDat_TC24_20221013_110715',\n",
       "  'UMBL2022FEB_CELL152098_FORMFAST_2_P45C_P5P0PSI_20220902_R4_AuxDat_TC24_20221013_104450',\n",
       "  'UMBL2022FEB_CELL152098_FORMFAST_2_P45C_P5P0PSI_20220902_R4_AuxDat_TC24_20221013_105615',\n",
       "  'UMBL2022FEB_CELL152098_FORMFAST_2_P45C_P5P0PSI_20220902_R4_AuxDat_TC24_20221013_104545',\n",
       "  'UMBL2022FEB_CELL152098_FORMFAST_2_P45C_P5P0PSI_20220902_R4_AuxDat_TC24_20221013_104025',\n",
       "  'UMBL2022FEB_CELL152098_FORMFAST_2_P45C_P5P0PSI_20220902_R4_AuxDat_TC24_20221013_104145',\n",
       "  'UMBL2022FEB_CELL152098_FORMFAST_2_P45C_P5P0PSI_20220902_R4_AuxDat_TC24_20221013_104255',\n",
       "  'UMBL2022FEB_CELL152098_FORMFAST_2_P45C_P5P0PSI_20220902_R4_AuxDat_TC24_20221013_110810',\n",
       "  'UMBL2022FEB_CELL152098_FORMFAST_2_P45C_P5P0PSI_20220902_R4_AuxDat_TC24_20221013_105930',\n",
       "  'UMBL2022FEB_CELL152098_FORMFAST_2_P45C_P5P0PSI_20220902_R4_AuxDat_TC24_20221013_101330',\n",
       "  'UMBL2022FEB_CELL152098_FORMFAST_2_P45C_P5P0PSI_20220902_R4_AuxDat_TC24_20221013_110520',\n",
       "  'UMBL2022FEB_CELL152098_FORMFAST_2_P45C_P5P0PSI_20220902_R4_AuxDat_TC24_20221013_103935',\n",
       "  'UMBL2022FEB_CELL152098_FORMFAST_2_P45C_P5P0PSI_20220902_R4_AuxDat_TC24_20221012_175614',\n",
       "  'UMBL2022FEB_CELL152098_FORMFAST_2_P45C_P5P0PSI_20220902_R1_AuxDat_TC24_20221012_174819',\n",
       "  'UMBL2022FEB_CELL152098_FORMFAST_2_P45C_P5P0PSI_20220902_R4_AuxDat_TC24_20221012_175109',\n",
       "  'UMBL2022FEB_CELL152098_FORMFAST_2_P45C_P5P0PSI_20220902_R1_AuxDat_TC24_20221012_174159',\n",
       "  'UMBL2022FEB_CELL152098_FORMFAST_2_P45C_P5P0PSI_20220902_R1_AuxDat_TC24_20220902_103620',\n",
       "  'UMBL2022FEB_CELL152098_FORMTAP_2_P45C_P5P0PSI_20220901_R1_AuxDat_TC24_20220901_213224'])"
      ]
     },
     "execution_count": 146,
     "metadata": {},
     "output_type": "execute_result"
    }
   ],
   "source": [
    "vh.get_test_names('UMBL2022FEB_CELL152098')"
   ]
  },
  {
   "cell_type": "code",
   "execution_count": 147,
   "id": "1e40fcf0-ad53-46e6-9ad0-ad9207944c2d",
   "metadata": {},
   "outputs": [
    {
     "name": "stdout",
     "output_type": "stream",
     "text": [
      "Working on \"UMBL2022FEB_CELL151805_CYC_1C1CR1_P45C_5P0PSI_20220804_R1\"...\n",
      "Initialization complete.\n"
     ]
    }
   ],
   "source": [
    "cell_a_str = 'Cell 151805'\n",
    "\n",
    "parser_cyc_a = parsers.CyclingDataParser('UMBL2022FEB_CELL151805', vh,\n",
    "                                 key='UMBL2022FEB_CELL151805_CYC_1C1CR1_P45C_5P0PSI_20220804_R1',\n",
    "                                 offs=0)\n",
    "\n",
    "df_cyc_a           = parser_cyc_a.get_cycling_info()\n",
    "\n",
    "parser_rpt_a       = parsers.RptDataParser(parser_cyc_a.df_rpt)\n",
    "rpt_start_cycles_a = parser_rpt_a.get_rpt_start_cycles(offs=0)\n",
    "df_rpt_a           = parser_rpt_a.get_rpt_info(rpt_start_cycles_a)\n",
    "\n",
    "rpt_tot_discharge_capacity_ah = []\n",
    "for cycle_index in df_rpt_a['cycle_index']:\n",
    "    rpt_tot_discharge_capacity_ah.append(df_cyc_a['tot_discharge_capacity_ah']\\\n",
    "                                        [df_cyc_a.index == cycle_index].values[0])    \n",
    "df_rpt_a['tot_discharge_capacity_ah'] = rpt_tot_discharge_capacity_ah\n",
    "\n",
    "df_hppc_a = parser_rpt_a.get_hppc_info(rpt_start_cycles_a)\n",
    "\n",
    "hppc_tot_discharge_capacity_ah = []\n",
    "for cycle_index in df_hppc_a['cycle_index']:\n",
    "    hppc_tot_discharge_capacity_ah.append(df_cyc_a['tot_discharge_capacity_ah']\\\n",
    "                                         [df_cyc_a.index == cycle_index].values[0])\n",
    "    \n",
    "df_hppc_a['tot_discharge_capacity_ah'] = hppc_tot_discharge_capacity_ah"
   ]
  },
  {
   "cell_type": "markdown",
   "id": "185a100a-20b5-4f7f-8581-9b411aa92baa",
   "metadata": {},
   "source": [
    "# Load the data for the pre-conditioning test for Cell B"
   ]
  },
  {
   "cell_type": "code",
   "execution_count": 148,
   "id": "0a19e6ab-2a0c-4a00-85d4-06fe90a79d7a",
   "metadata": {},
   "outputs": [
    {
     "name": "stdout",
     "output_type": "stream",
     "text": [
      "Working on \"UMBL2022FEB_CELL152098_CYC_1C1CR1_P45C_5P0PSI_20220923_R1\"...\n",
      "Initialization complete.\n"
     ]
    }
   ],
   "source": [
    "cell_b_str = 'Cell 152098'\n",
    "\n",
    "parser_cyc_b = parsers.CyclingDataParser('UMBL2022FEB_CELL152098', vh,\n",
    "                        key='UMBL2022FEB_CELL152098_CYC_1C1CR1_P45C_5P0PSI_20220923_R1',\n",
    "                        offs=0)\n",
    "\n",
    "df_cyc_b           = parser_cyc_b.get_cycling_info()\n",
    "\n",
    "parser_rpt_b       = parsers.RptDataParser(parser_cyc_b.df_rpt)\n",
    "rpt_start_cycles_b = parser_rpt_b.get_rpt_start_cycles(offs=0)\n",
    "df_rpt_b           = parser_rpt_b.get_rpt_info(rpt_start_cycles_b)\n",
    "\n",
    "rpt_tot_discharge_capacity_ah = []\n",
    "for cycle_index in df_rpt_b['cycle_index']:\n",
    "    rpt_tot_discharge_capacity_ah.append(df_cyc_b['tot_discharge_capacity_ah']\\\n",
    "                                         [df_cyc_b.index == cycle_index].values[0])\n",
    "df_rpt_b['tot_discharge_capacity_ah'] = rpt_tot_discharge_capacity_ah\n",
    "\n",
    "df_hppc_b = parser_rpt_b.get_hppc_info(rpt_start_cycles_b)\n",
    "\n",
    "hppc_tot_discharge_capacity_ah = []\n",
    "for cycle_index in df_hppc_b['cycle_index']:\n",
    "    hppc_tot_discharge_capacity_ah.append(df_cyc_b['tot_discharge_capacity_ah']\\\n",
    "                                         [df_cyc_b.index == cycle_index].values[0])\n",
    "    \n",
    "df_hppc_b['tot_discharge_capacity_ah'] = hppc_tot_discharge_capacity_ah"
   ]
  },
  {
   "cell_type": "markdown",
   "id": "f68e9085-3d07-447a-8a3e-5770bd39efce",
   "metadata": {},
   "source": [
    "## RPT at the end of the test"
   ]
  },
  {
   "cell_type": "code",
   "execution_count": 150,
   "id": "9c99cfa1-d4d4-46aa-999c-a9b91bda9864",
   "metadata": {},
   "outputs": [
    {
     "name": "stdout",
     "output_type": "stream",
     "text": [
      "Working on \"UMBL2022FEB_CELL151804_CYC_1C1CR1_P45C_5P0PSI_20220804_R1\"...\n",
      "Initialization complete.\n"
     ]
    }
   ],
   "source": [
    "cell_c_str = 'Cell 151804'\n",
    "\n",
    "parser_cyc_c = parsers.CyclingDataParser('UMBL2022FEB_CELL151804', vh,\n",
    "                                 key='UMBL2022FEB_CELL151804_CYC_1C1CR1_P45C_5P0PSI_20220804_R1',\n",
    "                                 offs=0)\n",
    "\n",
    "df_cyc_c           = parser_cyc_c.get_cycling_info()\n",
    "\n",
    "parser_rpt_c       = parsers.RptDataParser(parser_cyc_c.df_rpt)\n",
    "rpt_start_cycles_c = parser_rpt_c.get_rpt_start_cycles(offs=0)\n",
    "df_rpt_c           = parser_rpt_c.get_rpt_info(rpt_start_cycles_c)\n",
    "\n",
    "rpt_tot_discharge_capacity_ah = []\n",
    "for cycle_index in df_rpt_c['cycle_index']:\n",
    "    rpt_tot_discharge_capacity_ah.append(df_cyc_c['tot_discharge_capacity_ah']\\\n",
    "                                        [df_cyc_c.index == cycle_index].values[0])    \n",
    "df_rpt_c['tot_discharge_capacity_ah'] = rpt_tot_discharge_capacity_ah\n",
    "\n",
    "df_hppc_c = parser_rpt_c.get_hppc_info(rpt_start_cycles_c)\n",
    "\n",
    "hppc_tot_discharge_capacity_ah = []\n",
    "for cycle_index in df_hppc_c['cycle_index']:\n",
    "    hppc_tot_discharge_capacity_ah.append(df_cyc_c['tot_discharge_capacity_ah']\\\n",
    "                                         [df_cyc_c.index == cycle_index].values[0])\n",
    "    \n",
    "df_hppc_c['tot_discharge_capacity_ah'] = hppc_tot_discharge_capacity_ah"
   ]
  },
  {
   "cell_type": "markdown",
   "id": "227ca60d-1acf-46ea-8232-cb89cb249b29",
   "metadata": {},
   "source": [
    "# Load the data for the parallel test"
   ]
  },
  {
   "cell_type": "code",
   "execution_count": 151,
   "id": "09326fd4-643e-4000-9953-00baf2cd65d8",
   "metadata": {},
   "outputs": [
    {
     "name": "stdout",
     "output_type": "stream",
     "text": [
      "Working on \"UMBL2022FEB_CELL151805_CYC_1C1CPARALLEL_P45C_5P0PSI_20221206_R1-01-005\"...\n",
      "Initialization complete.\n"
     ]
    }
   ],
   "source": [
    "cell_p_str = 'Parallel'\n",
    "\n",
    "parser_cyc_p = parsers.CyclingDataParser('UMBL2022FEB_CELL151805', vh,\n",
    "                                 key='UMBL2022FEB_CELL151805_CYC_1C1CPARALLEL_P45C_5P0PSI_20221206_R1',\n",
    "                                 offs=0)\n",
    "\n",
    "df_cyc_p           = parser_cyc_p.get_cycling_info()\n",
    "\n",
    "parser_rpt_p       = parsers.RptDataParser(parser_cyc_p.df_rpt)\n",
    "rpt_start_cycles_p = parser_rpt_p.get_rpt_start_cycles(offs=0)\n",
    "df_rpt_p           = parser_rpt_p.get_rpt_info(rpt_start_cycles_p)\n",
    "\n",
    "rpt_tot_discharge_capacity_ah = []\n",
    "for cycle_index in df_rpt_p['cycle_index']:\n",
    "    rpt_tot_discharge_capacity_ah.append(df_cyc_p['tot_discharge_capacity_ah']\\\n",
    "                                         [df_cyc_p.index == cycle_index].values[0])\n",
    "df_rpt_p['tot_discharge_capacity_ah'] = rpt_tot_discharge_capacity_ah\n",
    "\n",
    "df_hppc_p = parser_rpt_p.get_hppc_info(rpt_start_cycles_p)\n",
    "\n",
    "hppc_tot_discharge_capacity_ah = []\n",
    "for cycle_index in df_hppc_p['cycle_index']:\n",
    "    hppc_tot_discharge_capacity_ah.append(df_cyc_p['tot_discharge_capacity_ah']\\\n",
    "                                         [df_cyc_p.index == cycle_index].values[0])\n",
    "    \n",
    "df_hppc_p['tot_discharge_capacity_ah'] = hppc_tot_discharge_capacity_ah"
   ]
  },
  {
   "cell_type": "markdown",
   "id": "022614ab-1998-4df1-b940-583f87ac1b8b",
   "metadata": {},
   "source": [
    "## Load the RPT done on the individual cells after the parallel test hit 50% apparent capacity fade"
   ]
  },
  {
   "cell_type": "code",
   "execution_count": 175,
   "id": "9873fe7e-0b45-436c-b173-de812ebce583",
   "metadata": {},
   "outputs": [
    {
     "name": "stdout",
     "output_type": "stream",
     "text": [
      "Working on \"UMBL2022FEB_CELL151805_RPT_1_P45C_5P0PSI_20230201_R1-01-005\"...\n",
      "Initialization complete.\n"
     ]
    }
   ],
   "source": [
    "parser_cyc_a2 = parsers.CyclingDataParser('UMBL2022FEB_CELL151805', vh,\n",
    "                                 key='UMBL2022FEB_CELL151805_RPT_1_P45C_5P0PSI_20230201_R1-01-005',\n",
    "                                 offs=0)\n",
    "\n",
    "df_cyc_a2           = parser_cyc_a2.get_cycling_info()\n",
    "\n",
    "parser_rpt_a2       = parsers.RptDataParser(parser_cyc_a2.df_rpt)\n",
    "rpt_start_cycles_a2 = parser_rpt_a2.get_rpt_start_cycles(offs=0)\n",
    "df_rpt_a2           = parser_rpt_a2.get_rpt_info(rpt_start_cycles_a2)\n",
    "df_rpt_a2['tot_discharge_capacity_ah'] = df_cyc_p['tot_discharge_capacity_ah'].max()/2\n",
    "\n",
    "df_hppc_a2 = parser_rpt_a2.get_hppc_info(rpt_start_cycles_a2)\n",
    "df_hppc_a2['tot_discharge_capacity_ah'] = df_cyc_p['tot_discharge_capacity_ah'].max()/2"
   ]
  },
  {
   "cell_type": "code",
   "execution_count": 176,
   "id": "dbe5189b-8d46-4456-b208-b976fa61a23c",
   "metadata": {},
   "outputs": [
    {
     "name": "stdout",
     "output_type": "stream",
     "text": [
      "Working on \"UMBL2022FEB_CELL152098_RPT_1_P45C_5P0PSI_20230201_R1-01-025\"...\n",
      "Initialization complete.\n"
     ]
    }
   ],
   "source": [
    "parser_cyc_b2 = parsers.CyclingDataParser('UMBL2022FEB_CELL152098', vh,\n",
    "                                 key='UMBL2022FEB_CELL152098_RPT_1_P45C_5P0PSI_20230201_R1-01-025',\n",
    "                                 offs=0)\n",
    "\n",
    "df_cyc_b2           = parser_cyc_b2.get_cycling_info()\n",
    "\n",
    "parser_rpt_b2       = parsers.RptDataParser(parser_cyc_b2.df_rpt)\n",
    "rpt_start_cycles_b2 = parser_rpt_b2.get_rpt_start_cycles(offs=0)\n",
    "df_rpt_b2           = parser_rpt_b2.get_rpt_info(rpt_start_cycles_b2)\n",
    "\n",
    "# Offest total throughput by the parallel cycle test throughput\n",
    "df_rpt_b2['tot_discharge_capacity_ah'] = df_cyc_p['tot_discharge_capacity_ah'].max()/2\n",
    "\n",
    "df_hppc_b2 = parser_rpt_a2.get_hppc_info(rpt_start_cycles_b2)\n",
    "\n",
    "# Offset total throughput by parallel cycle test throughput\n",
    "df_hppc_b2['tot_discharge_capacity_ah'] = df_cyc_p['tot_discharge_capacity_ah'].max()/2"
   ]
  },
  {
   "cell_type": "markdown",
   "id": "eeef2264-277d-4017-8d2b-12bdb09fe78a",
   "metadata": {},
   "source": [
    "## Load the brief cycling test done on the individual cells after the parallel test hit 50% apparent capacity fade, in order to extract the 1C discharge capacity loss for each individual cell"
   ]
  },
  {
   "cell_type": "code",
   "execution_count": 172,
   "id": "5ef978a4-30d4-4add-97a3-1dca5f43c465",
   "metadata": {},
   "outputs": [
    {
     "name": "stdout",
     "output_type": "stream",
     "text": [
      "Working on \"UMBL2022FEB_CELL151805_CYC_1C1CR1_P45C_5P0PSI_20230222_R1-01-005\"...\n",
      "Initialization complete.\n"
     ]
    }
   ],
   "source": [
    "parser_cyc_a3 = parsers.CyclingDataParser('UMBL2022FEB_CELL151805', vh,\n",
    "                                          key='UMBL2022FEB_CELL151805_CYC_1C1CR1_P45C_5P0PSI_20230222_R1-01-005',\n",
    "                                          offs=0)\n",
    "\n",
    "df_cyc_a3 = parser_cyc_a3.get_cycling_info()\n",
    "\n",
    "# Offset total throughput by the parallel cycle test throughput\n",
    "df_cyc_a3['tot_discharge_capacity_ah'] += df_cyc_p['tot_discharge_capacity_ah'].max()/2"
   ]
  },
  {
   "cell_type": "code",
   "execution_count": 173,
   "id": "c2bde16e-72c7-462b-a48f-cf7f13d518f8",
   "metadata": {},
   "outputs": [
    {
     "name": "stdout",
     "output_type": "stream",
     "text": [
      "Working on \"UMBL2022FEB_CELL152098_CYC_1C1CR1_P45C_5P0PSI_20230217_R1-01-025\"...\n",
      "Initialization complete.\n"
     ]
    }
   ],
   "source": [
    "parser_cyc_b3 = parsers.CyclingDataParser('UMBL2022FEB_CELL152098', vh,\n",
    "                                          key='UMBL2022FEB_CELL152098_CYC_1C1CR1_P45C_5P0PSI_20230217_R1-01-025',\n",
    "                                          offs=0)\n",
    "\n",
    "# Offset total throughput by the parallel cycle test throughput\n",
    "df_cyc_b3 = parser_cyc_b3.get_cycling_info()\n",
    "\n",
    "# Offset total throughput by the parallel cycle test throughput\n",
    "df_cyc_b3['tot_discharge_capacity_ah'] += df_cyc_p['tot_discharge_capacity_ah'].max()/2"
   ]
  },
  {
   "cell_type": "markdown",
   "id": "3a1f9e63-2a0a-4051-91b5-24ebf2ceacff",
   "metadata": {},
   "source": [
    "# Plot the data during the pre-conditioning"
   ]
  },
  {
   "cell_type": "code",
   "execution_count": 170,
   "id": "6f6ed849-b830-492d-b759-7024427b5a6d",
   "metadata": {},
   "outputs": [
    {
     "data": {
      "application/vnd.jupyter.widget-view+json": {
       "model_id": "0eff1e89bef24c4aa0a03a6c7790021b",
       "version_major": 2,
       "version_minor": 0
      },
      "text/plain": [
       "Canvas(toolbar=Toolbar(toolitems=[('Home', 'Reset original view', 'home', 'home'), ('Back', 'Back to previous …"
      ]
     },
     "metadata": {},
     "output_type": "display_data"
    }
   ],
   "source": [
    "gg = (0.4, 0.4, 0.4)\n",
    "\n",
    "plt.figure(figsize=(10, 7))\n",
    "plt.plot(df_rpt_a['tot_discharge_capacity_ah']/2.5, df_rpt_a['c20_discharge_capacity_ah'], ls='--', c='r', marker='o', label=cell_a_str)\n",
    "plt.plot(df_rpt_b['tot_discharge_capacity_ah']/2.5, df_rpt_b['c20_discharge_capacity_ah'], ls='--', c='b', marker='o', label=cell_b_str)\n",
    "plt.plot(df_rpt_c['tot_discharge_capacity_ah']/2.5, df_rpt_c['c20_discharge_capacity_ah'], ls='--', c=gg, marker='o', label=cell_c_str)\n",
    "plt.plot(df_cyc_a['tot_discharge_capacity_ah']/2.5, df_cyc_a['discharge_capacity_ah'], c='r', ls='', marker='o', ms=3, label='')\n",
    "plt.plot(df_cyc_b['tot_discharge_capacity_ah']/2.5, df_cyc_b['discharge_capacity_ah'], c='b', ls='', marker='o', ms=3, label='')\n",
    "plt.plot(df_cyc_c['tot_discharge_capacity_ah']/2.5, df_cyc_c['discharge_capacity_ah'], c=gg, ls='', marker='o', ms=3, label='')\n",
    "\n",
    "plt.axhline(y=2.5*0.5, c=(0.2,0.2,0.2), label='50%')\n",
    "plt.legend()\n",
    "plt.ylabel('Capacity (Ah)')\n",
    "plt.xlabel('EFC (Ah/Ah)')\n",
    "plt.ylim((1.2, 2.6))\n",
    "plt.grid(False)"
   ]
  },
  {
   "cell_type": "code",
   "execution_count": 13,
   "id": "b8add28f-3c3c-4956-86d3-ca7af209867d",
   "metadata": {},
   "outputs": [
    {
     "data": {
      "application/vnd.jupyter.widget-view+json": {
       "model_id": "ecad40db3f3647a690dce929ac72c526",
       "version_major": 2,
       "version_minor": 0
      },
      "text/plain": [
       "Canvas(toolbar=Toolbar(toolitems=[('Home', 'Reset original view', 'home', 'home'), ('Back', 'Back to previous …"
      ]
     },
     "metadata": {},
     "output_type": "display_data"
    },
    {
     "data": {
      "application/vnd.jupyter.widget-view+json": {
       "model_id": "70bdeb49669e44de9e015caa853c01b5",
       "version_major": 2,
       "version_minor": 0
      },
      "text/plain": [
       "Canvas(toolbar=Toolbar(toolitems=[('Home', 'Reset original view', 'home', 'home'), ('Back', 'Back to previous …"
      ]
     },
     "metadata": {},
     "output_type": "display_data"
    },
    {
     "data": {
      "text/plain": [
       "Text(0.5, 1.0, 'Cell 152098')"
      ]
     },
     "execution_count": 13,
     "metadata": {},
     "output_type": "execute_result"
    }
   ],
   "source": [
    "plt.figure()\n",
    "\n",
    "colors = list(reversed(plt.cm.jet(np.linspace(0,1,len(df_hppc_a['cycle_index'].unique())+1))))\n",
    "\n",
    "for idx, cycle_index in enumerate(reversed(df_hppc_a['cycle_index'].unique())):\n",
    "    \n",
    "    curr_df = df_hppc_a[df_hppc_a['cycle_index'] == cycle_index]\n",
    "    curr_throughput_ah = curr_df['tot_discharge_capacity_ah'].head(1).values[0]\n",
    "    plt.plot(curr_df['capacity_ah'], curr_df['resistance_discharge_ohms'], label=f'{curr_throughput_ah/2.5:.0f} Ah/Ah', marker='o', color=colors[idx])\n",
    "    plt.plot(curr_df['capacity_ah'], curr_df['resistance_charge_ohms'], label=f'', marker='x', linestyle='', color=colors[idx])\n",
    "       \n",
    "plt.legend()\n",
    "plt.xlabel('Capacity (Ah)')\n",
    "plt.ylabel('10s Resistance ($\\Omega$)')\n",
    "plt.ylim((0.02, 0.2))\n",
    "plt.title(cell_a_str)\n",
    "\n",
    "plt.figure()\n",
    "\n",
    "colors = list(reversed(plt.cm.jet(np.linspace(0,1,len(df_hppc_b['cycle_index'].unique())+1))))\n",
    "\n",
    "for idx, cycle_index in enumerate(reversed(df_hppc_b['cycle_index'].unique())):\n",
    "    \n",
    "    curr_df = df_hppc_b[df_hppc_b['cycle_index'] == cycle_index]\n",
    "    curr_throughput_ah = curr_df['tot_discharge_capacity_ah'].head(1).values[0]\n",
    "    plt.plot(curr_df['capacity_ah'], curr_df['resistance_discharge_ohms'], label=f'{curr_throughput_ah/2.5:.0f} Ah/Ah', marker='o', color=colors[idx])\n",
    "    plt.plot(curr_df['capacity_ah'], curr_df['resistance_charge_ohms'], label=f'', marker='x', linestyle='', color=colors[idx])\n",
    "       \n",
    "plt.legend()\n",
    "plt.xlabel('Capacity (Ah)')\n",
    "plt.ylabel('10s Resistance ($\\Omega$)')\n",
    "plt.ylim((0.02, 0.2))\n",
    "plt.title(cell_b_str)"
   ]
  },
  {
   "cell_type": "code",
   "execution_count": 182,
   "id": "8f01cf2c-acd7-4096-9a36-cf570cf089c6",
   "metadata": {},
   "outputs": [
    {
     "data": {
      "application/vnd.jupyter.widget-view+json": {
       "model_id": "0f0d49c86b1e4669bd2347e09312c8c3",
       "version_major": 2,
       "version_minor": 0
      },
      "text/plain": [
       "Canvas(toolbar=Toolbar(toolitems=[('Home', 'Reset original view', 'home', 'home'), ('Back', 'Back to previous …"
      ]
     },
     "metadata": {},
     "output_type": "display_data"
    }
   ],
   "source": [
    "# Plot the parallel test data\n",
    "gg = (0.4, 0.4, 0.4)\n",
    "\n",
    "plt.figure(figsize=(10, 7))\n",
    "# plt.plot(df_rpt_a['tot_discharge_capacity_ah']/2.5, df_rpt_a['c20_discharge_capacity_ah'], ls='--', c='r', marker='o', label=cell_a_str)\n",
    "# plt.plot(df_rpt_b['tot_discharge_capacity_ah']/2.5, df_rpt_b['c20_discharge_capacity_ah'], ls='--', c='b', marker='o', label=cell_b_str)\n",
    "# plt.plot(df_rpt_c['tot_discharge_capacity_ah']/2.5, df_rpt_c['c20_discharge_capacity_ah'], ls='--', c=gg, marker='o', label=cell_c_str)\n",
    "plt.plot(df_rpt_c['tot_discharge_capacity_ah']/2.5 - 428, df_rpt_c['c20_discharge_capacity_ah'], ls='--', c=gg, marker='o', label='Control')\n",
    "plt.plot(df_rpt_c['tot_discharge_capacity_ah']/2.5 - 621, df_rpt_c['c20_discharge_capacity_ah'], ls='--', c=gg, marker='o', label='')\n",
    "plt.plot(df_rpt_p['tot_discharge_capacity_ah']/2.5/2, df_rpt_p['c20_discharge_capacity_ah']/2, ls='--', c='g', marker='o', label=cell_p_str)\n",
    "\n",
    "# Plot the capacity checks on individual cells after the parallel test hit 50% apparent capacity fade\n",
    "\n",
    "# From CYC\n",
    "plt.plot(df_cyc_a3['tot_discharge_capacity_ah']/2.5, df_cyc_a3['discharge_capacity_ah'], c='r', ls='', marker='o', ms=3, label='')\n",
    "plt.plot(df_cyc_b3['tot_discharge_capacity_ah']/2.5, df_cyc_b3['discharge_capacity_ah'], c='b', ls='', marker='o', ms=3, label='')\n",
    "\n",
    "# FROM RPT\n",
    "plt.plot(df_rpt_a2['tot_discharge_capacity_ah']/2.5, df_rpt_a2['c20_discharge_capacity_ah'], ls='--', c='r', marker='s', markersize=10, label=cell_a_str)\n",
    "plt.plot(df_rpt_b2['tot_discharge_capacity_ah']/2.5, df_rpt_b2['c20_discharge_capacity_ah'], ls='--', c='b', marker='s', markersize=10, label=cell_b_str)\n",
    "\n",
    "# plt.plot(df_cyc_c['tot_discharge_capacity_ah']/2.5, df_cyc_c['discharge_capacity_ah'], c=gg, ls='', marker='o', ms=3, label='')\n",
    "\n",
    "\n",
    "plt.plot(df_cyc_c['tot_discharge_capacity_ah']/2.5 - 428, df_cyc_c['discharge_capacity_ah'], c=gg, ls='', marker='o', ms=3, label='')\n",
    "plt.plot(df_cyc_c['tot_discharge_capacity_ah']/2.5 - 621, df_cyc_c['discharge_capacity_ah'], c=gg, ls='', marker='o', ms=3, label='')\n",
    "plt.plot(df_cyc_p['tot_discharge_capacity_ah']/2.5/2, df_cyc_p['discharge_capacity_ah']/2, c='g', ls='', marker='o', ms=3, label='')\n",
    "\n",
    "plt.axhline(y=2.5*0.5, c=(0.2,0.2,0.2), label='50%')\n",
    "plt.legend()\n",
    "plt.ylabel('Capacity (Ah)')\n",
    "plt.xlabel('EFC (Ah/Ah)')\n",
    "plt.xlim((0, 700))\n",
    "plt.ylim((0.7, 2.6))\n",
    "plt.grid(False)"
   ]
  },
  {
   "cell_type": "markdown",
   "id": "1dde50fb-0e75-49f1-9c7c-a73698e6d1a4",
   "metadata": {},
   "source": [
    "# Parse the current-voltage calibration curve for the hall effect current sensor"
   ]
  },
  {
   "cell_type": "markdown",
   "id": "28090ec6-a098-4bc1-a826-53f4b033b8c7",
   "metadata": {},
   "source": [
    "## Process the calibration curve collected on Feb 24, 2023"
   ]
  },
  {
   "cell_type": "code",
   "execution_count": 208,
   "id": "d94eaeac-c632-4388-95d2-879bd10633dc",
   "metadata": {},
   "outputs": [
    {
     "name": "stdout",
     "output_type": "stream",
     "text": [
      "Working on \"UMBL2022FEB_CELL151805_CYC_CURRENTRAMP_1_P45C_5P0PSI_20230224_R1-01-005\"...\n",
      "Initialization complete.\n"
     ]
    }
   ],
   "source": [
    "# Get the input data from the Arbin\n",
    "parser_arb = parsers.CyclingDataParser('UMBL2022FEB_CELL151805', vh,\n",
    "                                                 key='UMBL2022FEB_CELL151805_CYC_CURRENTRAMP_1_P45C_5P0PSI_20230224_R1-01-005',\n",
    "                                                 offs=0)\n",
    "df_arb_calib = parser_arb.df"
   ]
  },
  {
   "cell_type": "code",
   "execution_count": 209,
   "id": "b7dafbcc-8541-4760-a108-327fffa5f0d0",
   "metadata": {},
   "outputs": [],
   "source": [
    "# Get the output data from LabVIEW\n",
    "df_aux_calib = vh.get_aux_data('UMBL2022FEB_CELL151805_CURRENTRAMP_1_P45C_P5P0PSI_20230224_R1_AuxDat_TC4_20230224_094846')\n",
    "\n",
    "# Since the Arbin and the LabVIEW DAQ won't start logging at the exactly the same time, do some manual data inspection to figure out the time offset\n",
    "# Also note that I haven't been successful at using Datetime to synchronize the time axis. Something weird going on beyond just a daylight savings thing (looks \n",
    "# like the data needs to be scaled, not just shifted.)\n",
    "df_aux_calib['test_time_s'] += 43 \n",
    "\n",
    "# I hooked up the hall effect sensor backwards, so flip the sign of the current.\n",
    "df_aux_calib['current_a'] *= -1"
   ]
  },
  {
   "cell_type": "code",
   "execution_count": 224,
   "id": "49eccbee-8947-42fc-92b1-f9bf8a8d2202",
   "metadata": {},
   "outputs": [
    {
     "data": {
      "application/vnd.jupyter.widget-view+json": {
       "model_id": "e68c5e4cdd5f4ce88cee4c5d8421aff5",
       "version_major": 2,
       "version_minor": 0
      },
      "text/plain": [
       "Canvas(toolbar=Toolbar(toolitems=[('Home', 'Reset original view', 'home', 'home'), ('Back', 'Back to previous …"
      ]
     },
     "metadata": {},
     "output_type": "display_data"
    },
    {
     "data": {
      "application/vnd.jupyter.widget-view+json": {
       "model_id": "5ddc4b132911443bb855406188f9803c",
       "version_major": 2,
       "version_minor": 0
      },
      "text/plain": [
       "Canvas(toolbar=Toolbar(toolitems=[('Home', 'Reset original view', 'home', 'home'), ('Back', 'Back to previous …"
      ]
     },
     "metadata": {},
     "output_type": "display_data"
    },
    {
     "data": {
      "application/vnd.jupyter.widget-view+json": {
       "model_id": "60f40500ebf940a7a18e6cd040074f58",
       "version_major": 2,
       "version_minor": 0
      },
      "text/plain": [
       "Canvas(toolbar=Toolbar(toolitems=[('Home', 'Reset original view', 'home', 'home'), ('Back', 'Back to previous …"
      ]
     },
     "metadata": {},
     "output_type": "display_data"
    }
   ],
   "source": [
    "plt.figure()\n",
    "plt.plot(df_aux_calib['test_time_s'], df_aux_calib['current_a'], marker='o', label='Measured (Sensor/LabVIEW)')\n",
    "plt.plot(df_arb_calib['test_time_s'], df_arb_calib['current_a'], marker='o', label='Input (Arbin)')\n",
    "plt.legend()\n",
    "plt.xlabel('Time (s)')\n",
    "plt.ylabel('Current (A)')\n",
    "plt.xlim((0,2000))\n",
    "plt.setp(plt.gca().get_xticklabels(), rotation=45, ha='right', rotation_mode='anchor');\n",
    "\n",
    "xx = np.linspace(0, 2000, 1000)\n",
    "f_y_arbin = interpolate.interp1d(df_arb_calib['test_time_s'], df_arb_calib['current_a'], kind='nearest', bounds_error=False)\n",
    "f_y_labview = interpolate.interp1d(df_aux_calib['test_time_s'], df_aux_calib['current_a'], kind='nearest', bounds_error=False)\n",
    "\n",
    "# Build the calibration curve manually\n",
    "m = 0.1726\n",
    "b = -0.0835\n",
    "\n",
    "xcal = np.linspace(-2.5, 2.5, 100)\n",
    "ycal = m*xcal + b\n",
    "\n",
    "# Make the plot\n",
    "plt.figure()\n",
    "plt.plot(f_y_arbin(xx), f_y_labview(xx), marker='o', ls='', label='Data')\n",
    "plt.plot(xcal, ycal, c='k', label=f'y={m}x+{b}')\n",
    "plt.xlabel('Input Current (A)')\n",
    "plt.ylabel('Output Curent (A)')\n",
    "plt.legend()\n",
    "\n",
    "# Check the result\n",
    "plt.figure()\n",
    "plt.plot(df_aux_calib['test_time_s'], (df_aux_calib['current_a']-b)/m, marker='o', label='Adjusted (Sensor/LabVIEW)')\n",
    "plt.plot(df_arb_calib['test_time_s'], df_arb_calib['current_a'], marker='o', label='Input (Arbin)')\n",
    "plt.legend()\n",
    "plt.xlabel('Time (s)')\n",
    "plt.ylabel('Current (A)')\n",
    "plt.xlim((0,2000))\n",
    "plt.setp(plt.gca().get_xticklabels(), rotation=45, ha='right', rotation_mode='anchor');\n"
   ]
  },
  {
   "cell_type": "markdown",
   "id": "c480925b-dcdd-417b-b7ae-9cbe3cf11ab8",
   "metadata": {},
   "source": [
    "# Parse the Current Timeseries Data\n",
    "\n",
    "Stitch together two data sources:\n",
    "1. Total current applied by Arbin, from the Arbin .res file, logged in Voltaiq\n",
    "2. Branch current on Cell A, measured by the hall effect sensor and logged in Voltaiq"
   ]
  },
  {
   "cell_type": "code",
   "execution_count": 211,
   "id": "c96198f5-bfba-4cd8-9ac1-c6c9e9994ded",
   "metadata": {},
   "outputs": [
    {
     "name": "stdout",
     "output_type": "stream",
     "text": [
      "Working on \"UMBL2022FEB_CELL151805_CYC_1C1CPARALLEL_P45C_5P0PSI_20221206_R1-01-005\"...\n",
      "Initialization complete.\n"
     ]
    }
   ],
   "source": [
    "parser_main = parsers.CyclingDataParser('UMBL2022FEB_CELL151805', vh,\n",
    "                                    key='UMBL2022FEB_CELL151805_CYC_1C1CPARALLEL_P45C_5P0PSI_20221206_R1-01-005',\n",
    "                                    offs=0)\n",
    "\n",
    "df_main = parser_main.df"
   ]
  },
  {
   "cell_type": "code",
   "execution_count": 221,
   "id": "9b613bac-838f-46c3-ae9a-999a2fec54e8",
   "metadata": {},
   "outputs": [],
   "source": [
    "# Name of the Aux data file containing the current data\n",
    "\n",
    "aux_data_name = 'UMBL2022FEB_CELL151805_CYC_1C1CPARALLEL_P45C_5P0PSI_20221206_R2_AuxDat_TC4_20221207_102709'\n",
    "# aux_data_name = 'UMBL2022FEB_CELL151805_CYC_1C1CPARALLEL_P45C_5P0PSI_20221206_R1_AuxDat_TC4_20221206_133337'\n",
    "\n",
    "df_aux = vh.get_aux_data(aux_data_name)\n",
    "df_aux['test_time_s'] += 75600\n",
    "df_aux['test_time_s'] += 623\n",
    "\n",
    "# Why is b not -b here? Because the calibration data flipped the sign, and because the calibration curve is non-linear (it is affine), \n",
    "# we have to change the -b into +b to reflect the curve on the horizontal axis.\n",
    "df_aux['current_a'] = (df_aux['current_a'] + b) / m "
   ]
  },
  {
   "cell_type": "code",
   "execution_count": 226,
   "id": "15a61f90-b068-4ad8-820a-1e811e658a6a",
   "metadata": {},
   "outputs": [],
   "source": [
    "# Calculate the difference, i.e. Ib = I - Ia\n",
    "\n",
    "xx = df_aux['test_time_s']\n",
    "f_y_main = interpolate.interp1d(df_main['test_time_s'], df_main['current_a'], kind='nearest', bounds_error=False)\n",
    "f_y_aux = interpolate.interp1d(df_aux['test_time_s'], df_aux['current_a'], kind='nearest', bounds_error=False)\n",
    "\n",
    "yy = f_y_main(xx) - f_y_aux(xx)"
   ]
  },
  {
   "cell_type": "code",
   "execution_count": 227,
   "id": "b1c77fa0-2b03-4c23-b2f8-dee941045a2a",
   "metadata": {},
   "outputs": [
    {
     "data": {
      "application/vnd.jupyter.widget-view+json": {
       "model_id": "8106a0244c644acd9ea05e4922dded82",
       "version_major": 2,
       "version_minor": 0
      },
      "text/plain": [
       "Canvas(toolbar=Toolbar(toolitems=[('Home', 'Reset original view', 'home', 'home'), ('Back', 'Back to previous …"
      ]
     },
     "metadata": {},
     "output_type": "display_data"
    },
    {
     "data": {
      "text/plain": [
       "<matplotlib.legend.Legend at 0x7fb81c45c340>"
      ]
     },
     "execution_count": 227,
     "metadata": {},
     "output_type": "execute_result"
    }
   ],
   "source": [
    "plt.figure()\n",
    "plt.plot(df_main['test_time_s'], df_main['current_a'], label='Arbin Input', c=(0.5, 0.5, 0.5))\n",
    "plt.plot(df_aux['test_time_s'], df_aux['current_a'], label='Cell 151805', c='r', marker='o', markersize=1.5, ls='')\n",
    "plt.plot(xx, yy, label='Cell 152098', c='b', marker='o', markersize=1.5, ls='')\n",
    "plt.xlabel('Test Time (s)')\n",
    "plt.ylabel('Current (A)')\n",
    "plt.grid(False)\n",
    "plt.legend()"
   ]
  },
  {
   "cell_type": "code",
   "execution_count": null,
   "id": "e7452042-d255-4e93-8b78-2fccafb899d6",
   "metadata": {},
   "outputs": [],
   "source": []
  }
 ],
 "metadata": {
  "kernelspec": {
   "display_name": "Python 3 (ipykernel)",
   "language": "python",
   "name": "python3"
  },
  "language_info": {
   "codemirror_mode": {
    "name": "ipython",
    "version": 3
   },
   "file_extension": ".py",
   "mimetype": "text/x-python",
   "name": "python",
   "nbconvert_exporter": "python",
   "pygments_lexer": "ipython3",
   "version": "3.9.6"
  }
 },
 "nbformat": 4,
 "nbformat_minor": 5
}
