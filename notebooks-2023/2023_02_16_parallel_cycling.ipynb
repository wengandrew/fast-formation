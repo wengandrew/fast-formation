{
 "cells": [
  {
   "cell_type": "markdown",
   "id": "94e349af-b241-4b61-9a8f-dfe35464b3ea",
   "metadata": {},
   "source": [
    "# Process the Parallel Cycling Data\n",
    "\n",
    "2/16/2023"
   ]
  },
  {
   "cell_type": "code",
   "execution_count": 1,
   "id": "dee48878-92a0-4af7-b00e-1c8d5d41eb35",
   "metadata": {},
   "outputs": [],
   "source": [
    "import os, sys\n",
    "from matplotlib import pyplot as plt\n",
    "\n",
    "if os.path.basename(os.getcwd()) == 'notebooks-2023':\n",
    "    os.chdir('../')\n",
    "    sys.path.insert(0, 'src/')\n",
    "    \n",
    "import numpy as np\n",
    "import pandas as pd\n",
    "from matplotlib import pyplot as plt\n",
    "%matplotlib ipympl\n",
    "\n",
    "import src.plotter as plotter\n",
    "import src.vas as vas\n",
    "import src.parsers as parsers\n",
    "\n",
    "%load_ext autoreload\n",
    "%autoreload 2\n",
    "\n",
    "plotter.initialize(plt)"
   ]
  },
  {
   "cell_type": "code",
   "execution_count": 2,
   "id": "59cc35ef-b301-48b3-b505-3b0f5960d58d",
   "metadata": {},
   "outputs": [
    {
     "name": "stdout",
     "output_type": "stream",
     "text": [
      "Initializing Voltaiq Analytic Studio Helper...\n",
      "Initializing test records...\n",
      "Initializing devices...\n",
      "Done.\n"
     ]
    }
   ],
   "source": [
    "# Initialize the helper class\n",
    "vh = vas.VasHelper()"
   ]
  },
  {
   "cell_type": "code",
   "execution_count": null,
   "id": "fdb1a081-74ad-42f1-a436-6fb9385b1a21",
   "metadata": {},
   "outputs": [],
   "source": [
    "# Load the individual cell data"
   ]
  },
  {
   "cell_type": "markdown",
   "id": "4807352f-ddf8-43a5-9cc4-86f51054bff8",
   "metadata": {},
   "source": [
    "# Load the data for the pre-conditioning test for Cell A"
   ]
  },
  {
   "cell_type": "code",
   "execution_count": 38,
   "id": "2e2dd404-974d-478e-911e-38db43fc128c",
   "metadata": {},
   "outputs": [
    {
     "name": "stdout",
     "output_type": "stream",
     "text": [
      "Working on \"UMBL2022FEB_CELL151805_CYC_1C1CR1_P45C_5P0PSI_20220804_R1\"...\n",
      "Initialization complete.\n"
     ]
    }
   ],
   "source": [
    "cell_a_str = 'Cell 151805'\n",
    "\n",
    "parser_cyc_a = parsers.CyclingDataParser('UMBL2022FEB_CELL151805', vh,\n",
    "                                 key='UMBL2022FEB_CELL151805_CYC_1C1CR1_P45C_5P0PSI_20220804_R1',\n",
    "                                 offs=0)\n",
    "\n",
    "df_cyc_a           = parser_cyc_a.get_cycling_info()\n",
    "\n",
    "parser_rpt_a       = parsers.RptDataParser(parser_cyc_a.df_rpt)\n",
    "rpt_start_cycles_a = parser_rpt_a.get_rpt_start_cycles(offs=0)\n",
    "df_rpt_a           = parser_rpt_a.get_rpt_info(rpt_start_cycles_a)\n",
    "\n",
    "rpt_tot_discharge_capacity_ah = []\n",
    "for cycle_index in df_rpt_a['cycle_index']:\n",
    "    rpt_tot_discharge_capacity_ah.append(df_cyc_a['tot_discharge_capacity_ah']\\\n",
    "                                        [df_cyc_a.index == cycle_index].values[0])    \n",
    "df_rpt_a['tot_discharge_capacity_ah'] = rpt_tot_discharge_capacity_ah\n",
    "\n",
    "df_hppc_a = parser_rpt_a.get_hppc_info(rpt_start_cycles_a)\n",
    "\n",
    "hppc_tot_discharge_capacity_ah = []\n",
    "for cycle_index in df_hppc_a['cycle_index']:\n",
    "    hppc_tot_discharge_capacity_ah.append(df_cyc_a['tot_discharge_capacity_ah']\\\n",
    "                                         [df_cyc_a.index == cycle_index].values[0])\n",
    "    \n",
    "df_hppc_a['tot_discharge_capacity_ah'] = hppc_tot_discharge_capacity_ah"
   ]
  },
  {
   "cell_type": "markdown",
   "id": "185a100a-20b5-4f7f-8581-9b411aa92baa",
   "metadata": {},
   "source": [
    "# Load the data for the pre-conditioning test for Cell B"
   ]
  },
  {
   "cell_type": "code",
   "execution_count": 39,
   "id": "0a19e6ab-2a0c-4a00-85d4-06fe90a79d7a",
   "metadata": {},
   "outputs": [
    {
     "name": "stdout",
     "output_type": "stream",
     "text": [
      "Working on \"UMBL2022FEB_CELL152098_CYC_1C1CR1_P45C_5P0PSI_20220923_R1\"...\n",
      "Initialization complete.\n"
     ]
    }
   ],
   "source": [
    "cell_b_str = 'Cell 152098'\n",
    "\n",
    "parser_cyc_b = parsers.CyclingDataParser('UMBL2022FEB_CELL152098', vh,\n",
    "                                 key='UMBL2022FEB_CELL152098_CYC_1C1CR1_P45C_5P0PSI_20220923_R1',\n",
    "                                 offs=0)\n",
    "\n",
    "df_cyc_b           = parser_cyc_b.get_cycling_info()\n",
    "\n",
    "parser_rpt_b       = parsers.RptDataParser(parser_cyc_b.df_rpt)\n",
    "rpt_start_cycles_b = parser_rpt_b.get_rpt_start_cycles(offs=0)\n",
    "df_rpt_b           = parser_rpt_b.get_rpt_info(rpt_start_cycles_b)\n",
    "\n",
    "rpt_tot_discharge_capacity_ah = []\n",
    "for cycle_index in df_rpt_b['cycle_index']:\n",
    "    rpt_tot_discharge_capacity_ah.append(df_cyc_b['tot_discharge_capacity_ah']\\\n",
    "                                         [df_cyc_b.index == cycle_index].values[0])\n",
    "df_rpt_b['tot_discharge_capacity_ah'] = rpt_tot_discharge_capacity_ah\n",
    "\n",
    "df_hppc_b = parser_rpt_b.get_hppc_info(rpt_start_cycles_b)\n",
    "\n",
    "hppc_tot_discharge_capacity_ah = []\n",
    "for cycle_index in df_hppc_b['cycle_index']:\n",
    "    hppc_tot_discharge_capacity_ah.append(df_cyc_b['tot_discharge_capacity_ah']\\\n",
    "                                         [df_cyc_b.index == cycle_index].values[0])\n",
    "    \n",
    "df_hppc_b['tot_discharge_capacity_ah'] = hppc_tot_discharge_capacity_ah"
   ]
  },
  {
   "cell_type": "markdown",
   "id": "d1480b6a-5fd9-4281-875d-5c1bfbf5e082",
   "metadata": {},
   "source": [
    "# Load the data for the control cell C"
   ]
  },
  {
   "cell_type": "code",
   "execution_count": null,
   "id": "9c99cfa1-d4d4-46aa-999c-a9b91bda9864",
   "metadata": {},
   "outputs": [
    {
     "name": "stdout",
     "output_type": "stream",
     "text": [
      "Working on \"UMBL2022FEB_CELL151803_CYC_1C1CR1_P45C_5P0PSI_20220804_R1\"...\n"
     ]
    }
   ],
   "source": [
    "cell_c_str = 'Cell 151803'\n",
    "\n",
    "parser_cyc_c = parsers.CyclingDataParser('UMBL2022FEB_CELL151803', vh,\n",
    "                                 key='UMBL2022FEB_CELL151803_CYC_1C1CR1_P45C_5P0PSI_20220804_R1',\n",
    "                                 offs=0)\n",
    "\n",
    "df_cyc_c           = parser_cyc_c.get_cycling_info()\n",
    "\n",
    "parser_rpt_c       = parsers.RptDataParser(parser_cyc_c.df_rpt)\n",
    "rpt_start_cycles_c = parser_rpt_c.get_rpt_start_cycles(offs=0)\n",
    "df_rpt_c           = parser_rpt_c.get_rpt_info(rpt_start_cycles_c)\n",
    "\n",
    "rpt_tot_discharge_capacity_ah = []\n",
    "for cycle_index in df_rpt_c['cycle_index']:\n",
    "    rpt_tot_discharge_capacity_ah.append(df_cyc_c['tot_discharge_capacity_ah']\\\n",
    "                                        [df_cyc_c.index == cycle_index].values[0])    \n",
    "df_rpt_c['tot_discharge_capacity_ah'] = rpt_tot_discharge_capacity_ah\n",
    "\n",
    "df_hppc_c = parser_rpt_c.get_hppc_info(rpt_start_cycles_c)\n",
    "\n",
    "hppc_tot_discharge_capacity_ah = []\n",
    "for cycle_index in df_hppc_c['cycle_index']:\n",
    "    hppc_tot_discharge_capacity_ah.append(df_cyc_c['tot_discharge_capacity_ah']\\\n",
    "                                         [df_cyc_c.index == cycle_index].values[0])\n",
    "    \n",
    "df_hppc_c['tot_discharge_capacity_ah'] = hppc_tot_discharge_capacity_ah"
   ]
  },
  {
   "cell_type": "markdown",
   "id": "227ca60d-1acf-46ea-8232-cb89cb249b29",
   "metadata": {},
   "source": [
    "# Load the data for the parallel test"
   ]
  },
  {
   "cell_type": "code",
   "execution_count": 40,
   "id": "09326fd4-643e-4000-9953-00baf2cd65d8",
   "metadata": {},
   "outputs": [
    {
     "name": "stdout",
     "output_type": "stream",
     "text": [
      "Working on \"UMBL2022FEB_CELL151805_CYC_1C1CPARALLEL_P45C_5P0PSI_20221206_R1-01-005\"...\n",
      "Initialization complete.\n"
     ]
    }
   ],
   "source": [
    "cell_p_str = 'Parallel'\n",
    "\n",
    "parser_cyc_p = parsers.CyclingDataParser('UMBL2022FEB_CELL151805', vh,\n",
    "                                 key='UMBL2022FEB_CELL151805_CYC_1C1CPARALLEL_P45C_5P0PSI_20221206_R1',\n",
    "                                 offs=0)\n",
    "\n",
    "df_cyc_p           = parser_cyc_p.get_cycling_info()\n",
    "\n",
    "parser_rpt_p       = parsers.RptDataParser(parser_cyc_p.df_rpt)\n",
    "rpt_start_cycles_p = parser_rpt_p.get_rpt_start_cycles(offs=0)\n",
    "df_rpt_p           = parser_rpt_p.get_rpt_info(rpt_start_cycles_p)\n",
    "\n",
    "rpt_tot_discharge_capacity_ah = []\n",
    "for cycle_index in df_rpt_p['cycle_index']:\n",
    "    rpt_tot_discharge_capacity_ah.append(df_cyc_p['tot_discharge_capacity_ah']\\\n",
    "                                         [df_cyc_p.index == cycle_index].values[0])\n",
    "df_rpt_p['tot_discharge_capacity_ah'] = rpt_tot_discharge_capacity_ah\n",
    "\n",
    "df_hppc_p = parser_rpt_p.get_hppc_info(rpt_start_cycles_p)\n",
    "\n",
    "hppc_tot_discharge_capacity_ah = []\n",
    "for cycle_index in df_hppc_p['cycle_index']:\n",
    "    hppc_tot_discharge_capacity_ah.append(df_cyc_p['tot_discharge_capacity_ah']\\\n",
    "                                         [df_cyc_p.index == cycle_index].values[0])\n",
    "    \n",
    "df_hppc_p['tot_discharge_capacity_ah'] = hppc_tot_discharge_capacity_ah"
   ]
  },
  {
   "cell_type": "markdown",
   "id": "3a1f9e63-2a0a-4051-91b5-24ebf2ceacff",
   "metadata": {},
   "source": [
    "# Plot the data during the pre-conditioning"
   ]
  },
  {
   "cell_type": "code",
   "execution_count": 49,
   "id": "6f6ed849-b830-492d-b759-7024427b5a6d",
   "metadata": {},
   "outputs": [
    {
     "data": {
      "application/vnd.jupyter.widget-view+json": {
       "model_id": "40da0e312878451495a52e61539b332b",
       "version_major": 2,
       "version_minor": 0
      },
      "text/plain": [
       "Canvas(toolbar=Toolbar(toolitems=[('Home', 'Reset original view', 'home', 'home'), ('Back', 'Back to previous …"
      ]
     },
     "metadata": {},
     "output_type": "display_data"
    }
   ],
   "source": [
    "gg = (0.4, 0.4, 0.4)\n",
    "\n",
    "plt.figure(figsize=(10, 7))\n",
    "plt.plot(df_rpt_a['tot_discharge_capacity_ah']/2.5, df_rpt_a['c20_discharge_capacity_ah'], ls='--', c='r', marker='o', label=cell_a_str)\n",
    "plt.plot(df_rpt_b['tot_discharge_capacity_ah']/2.5, df_rpt_b['c20_discharge_capacity_ah'], ls='--', c='b', marker='o', label=cell_b_str)\n",
    "plt.plot(df_rpt_c['tot_discharge_capacity_ah']/2.5, df_rpt_c['c20_discharge_capacity_ah'], ls='--', c=gg, marker='o', label=cell_c_str)\n",
    "plt.plot(df_cyc_a['tot_discharge_capacity_ah']/2.5, df_cyc_a['discharge_capacity_ah'], c='r', ls='', marker='o', ms=3, label='')\n",
    "plt.plot(df_cyc_b['tot_discharge_capacity_ah']/2.5, df_cyc_b['discharge_capacity_ah'], c='b', ls='', marker='o', ms=3, label='')\n",
    "plt.plot(df_cyc_c['tot_discharge_capacity_ah']/2.5, df_cyc_c['discharge_capacity_ah'], c=gg, ls='', marker='o', ms=3, label='')\n",
    "\n",
    "plt.axhline(y=2.5*0.5, c=(0.2,0.2,0.2), label='50%')\n",
    "plt.legend()\n",
    "plt.ylabel('Capacity (Ah)')\n",
    "plt.xlabel('EFC (Ah/Ah)')\n",
    "plt.ylim((1.2, 2.6))\n",
    "plt.grid(False)"
   ]
  },
  {
   "cell_type": "code",
   "execution_count": 44,
   "id": "b8add28f-3c3c-4956-86d3-ca7af209867d",
   "metadata": {},
   "outputs": [
    {
     "data": {
      "application/vnd.jupyter.widget-view+json": {
       "model_id": "57e5dbb6854b49aebf2067b67de578a5",
       "version_major": 2,
       "version_minor": 0
      },
      "text/plain": [
       "Canvas(toolbar=Toolbar(toolitems=[('Home', 'Reset original view', 'home', 'home'), ('Back', 'Back to previous …"
      ]
     },
     "metadata": {},
     "output_type": "display_data"
    },
    {
     "data": {
      "application/vnd.jupyter.widget-view+json": {
       "model_id": "3b7c7b170eed43de8af22f245dfa6d14",
       "version_major": 2,
       "version_minor": 0
      },
      "text/plain": [
       "Canvas(toolbar=Toolbar(toolitems=[('Home', 'Reset original view', 'home', 'home'), ('Back', 'Back to previous …"
      ]
     },
     "metadata": {},
     "output_type": "display_data"
    },
    {
     "data": {
      "text/plain": [
       "Text(0.5, 1.0, 'Cell 152098')"
      ]
     },
     "execution_count": 44,
     "metadata": {},
     "output_type": "execute_result"
    }
   ],
   "source": [
    "plt.figure()\n",
    "\n",
    "colors = list(reversed(plt.cm.jet(np.linspace(0,1,len(df_hppc_a['cycle_index'].unique())+1))))\n",
    "\n",
    "for idx, cycle_index in enumerate(reversed(df_hppc_a['cycle_index'].unique())):\n",
    "    \n",
    "    curr_df = df_hppc_a[df_hppc_a['cycle_index'] == cycle_index]\n",
    "    curr_throughput_ah = curr_df['tot_discharge_capacity_ah'].head(1).values[0]\n",
    "    plt.plot(curr_df['capacity_ah'], curr_df['resistance_discharge_ohms'], label=f'{curr_throughput_ah/2.5:.0f} Ah/Ah', marker='o', color=colors[idx])\n",
    "    plt.plot(curr_df['capacity_ah'], curr_df['resistance_charge_ohms'], label=f'', marker='x', linestyle='', color=colors[idx])\n",
    "       \n",
    "plt.legend()\n",
    "plt.xlabel('Capacity (Ah)')\n",
    "plt.ylabel('10s Resistance ($\\Omega$)')\n",
    "plt.ylim((0.04, 0.2))\n",
    "plt.title(cell_a_str)\n",
    "\n",
    "plt.figure()\n",
    "\n",
    "colors = list(reversed(plt.cm.jet(np.linspace(0,1,len(df_hppc_b['cycle_index'].unique())+1))))\n",
    "\n",
    "for idx, cycle_index in enumerate(reversed(df_hppc_b['cycle_index'].unique())):\n",
    "    \n",
    "    curr_df = df_hppc_b[df_hppc_b['cycle_index'] == cycle_index]\n",
    "    curr_throughput_ah = curr_df['tot_discharge_capacity_ah'].head(1).values[0]\n",
    "    plt.plot(curr_df['capacity_ah'], curr_df['resistance_discharge_ohms'], label=f'{curr_throughput_ah/2.5:.0f} Ah/Ah', marker='o', color=colors[idx])\n",
    "    plt.plot(curr_df['capacity_ah'], curr_df['resistance_charge_ohms'], label=f'', marker='x', linestyle='', color=colors[idx])\n",
    "       \n",
    "plt.legend()\n",
    "plt.xlabel('Capacity (Ah)')\n",
    "plt.ylabel('10s Resistance ($\\Omega$)')\n",
    "plt.ylim((0.04, 0.2))\n",
    "plt.title(cell_b_str)"
   ]
  },
  {
   "cell_type": "code",
   "execution_count": 46,
   "id": "8f01cf2c-acd7-4096-9a36-cf570cf089c6",
   "metadata": {},
   "outputs": [
    {
     "data": {
      "application/vnd.jupyter.widget-view+json": {
       "model_id": "1a08476e0ff14d558b22df8339b3ed98",
       "version_major": 2,
       "version_minor": 0
      },
      "text/plain": [
       "Canvas(toolbar=Toolbar(toolitems=[('Home', 'Reset original view', 'home', 'home'), ('Back', 'Back to previous …"
      ]
     },
     "metadata": {},
     "output_type": "display_data"
    }
   ],
   "source": [
    "# Plot the parallel test data\n",
    "gg = (0.4, 0.4, 0.4)\n",
    "\n",
    "plt.figure(figsize=(10, 7))\n",
    "plt.plot(df_rpt_a['tot_discharge_capacity_ah']/2.5, df_rpt_a['c20_discharge_capacity_ah'], ls='--', c=gg, marker='o', label=cell_a_str)\n",
    "plt.plot(df_rpt_b['tot_discharge_capacity_ah']/2.5, df_rpt_b['c20_discharge_capacity_ah'], ls='--', c=gg, marker='o', label=cell_b_str)\n",
    "plt.plot(df_rpt_p['tot_discharge_capacity_ah']/2.5/2, df_rpt_p['c20_discharge_capacity_ah']/2, ls='--', c='r', marker='o', label=cell_p_str)\n",
    "plt.plot(df_cyc_a['tot_discharge_capacity_ah']/2.5, df_cyc_a['discharge_capacity_ah'], c=gg, ls='', marker='o', ms=3, label='')\n",
    "plt.plot(df_cyc_b['tot_discharge_capacity_ah']/2.5, df_cyc_b['discharge_capacity_ah'], c=gg, ls='', marker='o', ms=3, label='')\n",
    "plt.plot(df_cyc_p['tot_discharge_capacity_ah']/2.5/2, df_cyc_p['discharge_capacity_ah']/2, c='r', ls='', marker='o', ms=3, label='')\n",
    "plt.axhline(y=2.5*0.7, c=(0.2,0.2,0.2), label='70%')\n",
    "plt.legend()\n",
    "plt.ylabel('Capacity (Ah)')\n",
    "plt.xlabel('EFC (Ah/Ah)')\n",
    "plt.ylim((1.2, 2.6))\n",
    "plt.grid(False)\n"
   ]
  },
  {
   "cell_type": "code",
   "execution_count": null,
   "id": "81a737c6-df7e-4852-8b8d-5e094b71d704",
   "metadata": {},
   "outputs": [],
   "source": []
  }
 ],
 "metadata": {
  "kernelspec": {
   "display_name": "Python 3 (ipykernel)",
   "language": "python",
   "name": "python3"
  },
  "language_info": {
   "codemirror_mode": {
    "name": "ipython",
    "version": 3
   },
   "file_extension": ".py",
   "mimetype": "text/x-python",
   "name": "python",
   "nbconvert_exporter": "python",
   "pygments_lexer": "ipython3",
   "version": "3.9.6"
  }
 },
 "nbformat": 4,
 "nbformat_minor": 5
}
