{
 "cells": [
  {
   "cell_type": "markdown",
   "id": "94e349af-b241-4b61-9a8f-dfe35464b3ea",
   "metadata": {},
   "source": [
    "# Test Processing of a single cycling data\n",
    "\n",
    "The cycling data will include both RPTs and information during cycling. First, split up these two pieces. Then, for each piece, parse the data.\n",
    "\n",
    "Compile information on UMBLFEB2022 formation cells\n",
    "\n",
    "1/17/2023"
   ]
  },
  {
   "cell_type": "code",
   "execution_count": 20,
   "id": "dee48878-92a0-4af7-b00e-1c8d5d41eb35",
   "metadata": {},
   "outputs": [],
   "source": [
    "import os, sys\n",
    "from matplotlib import pyplot as plt\n",
    "\n",
    "if os.path.basename(os.getcwd()) == 'notebooks-2023':\n",
    "    os.chdir('../')\n",
    "    sys.path.insert(0, 'src/')\n",
    "    \n",
    "import numpy as np\n",
    "import pandas as pd\n",
    "from matplotlib import pyplot as plt\n",
    "%matplotlib ipympl\n",
    "\n",
    "import src.plotter as plotter\n",
    "import src.vas as vas\n",
    "import src.parsers as parsers\n",
    "\n",
    "%load_ext autoreload\n",
    "%autoreload 2\n",
    "\n",
    "plotter.initialize(plt)"
   ]
  },
  {
   "cell_type": "code",
   "execution_count": 3,
   "id": "59cc35ef-b301-48b3-b505-3b0f5960d58d",
   "metadata": {},
   "outputs": [
    {
     "name": "stdout",
     "output_type": "stream",
     "text": [
      "Initializing Voltaiq Analytic Studio Helper...\n",
      "Initializing test records...\n",
      "Initializing devices...\n",
      "Done.\n"
     ]
    }
   ],
   "source": [
    "# Initialize the helper class\n",
    "vh = vas.VasHelper()"
   ]
  },
  {
   "cell_type": "code",
   "execution_count": 16,
   "id": "979228d9-b00c-44f9-8c0a-3fb599060ccd",
   "metadata": {},
   "outputs": [],
   "source": [
    "device_name = 'UMBL2022FEB_CELL152030'\n",
    "parser = parsers.CyclingDataParser(device_name, vh)"
   ]
  },
  {
   "cell_type": "markdown",
   "id": "bbb70f42-dfdc-4986-a228-5088dc26fd27",
   "metadata": {},
   "source": [
    "# First inspect the entire dataset"
   ]
  },
  {
   "cell_type": "code",
   "execution_count": 27,
   "id": "850b14dd-e0d8-4da1-930f-7a54b6ce62f4",
   "metadata": {},
   "outputs": [
    {
     "data": {
      "application/vnd.jupyter.widget-view+json": {
       "model_id": "e2dae4e4ba97405199287defd8ab4bfb",
       "version_major": 2,
       "version_minor": 0
      },
      "text/plain": [
       "Canvas(toolbar=Toolbar(toolitems=[('Home', 'Reset original view', 'home', 'home'), ('Back', 'Back to previous …"
      ]
     },
     "metadata": {},
     "output_type": "display_data"
    }
   ],
   "source": [
    "plot_vars = ['voltage_v', 'cycle_index', 'step_index']\n",
    "xvar = 'test_time_s'\n",
    "nrows = len(plot_vars)\n",
    "\n",
    "fh, axs = plt.subplots(nrows=nrows, ncols=1, \n",
    "                       figsize=(8, nrows * 3), sharex=True)\n",
    "\n",
    "for yvar, ax in zip(plot_vars, axs):\n",
    "    ax.plot(parser.df[xvar], parser.df[yvar])\n",
    "    ax.set_ylabel(yvar)\n",
    "    if ax != axs[-1]:\n",
    "        ax.tick_params(labelbottom=False)\n",
    "    \n",
    "axs[-1].set_xlabel(xvar);"
   ]
  },
  {
   "cell_type": "code",
   "execution_count": 33,
   "id": "3ab9dc10-2bc4-4856-ba7f-4dbca88e1e0f",
   "metadata": {},
   "outputs": [
    {
     "data": {
      "text/html": [
       "<div>\n",
       "<style scoped>\n",
       "    .dataframe tbody tr th:only-of-type {\n",
       "        vertical-align: middle;\n",
       "    }\n",
       "\n",
       "    .dataframe tbody tr th {\n",
       "        vertical-align: top;\n",
       "    }\n",
       "\n",
       "    .dataframe thead th {\n",
       "        text-align: right;\n",
       "    }\n",
       "</style>\n",
       "<table border=\"1\" class=\"dataframe\">\n",
       "  <thead>\n",
       "    <tr style=\"text-align: right;\">\n",
       "      <th></th>\n",
       "      <th>charge_capacity_ah</th>\n",
       "      <th>charge_energy_wh</th>\n",
       "      <th>discharge_capacity_ah</th>\n",
       "      <th>discharge_energy_wh</th>\n",
       "      <th>tot_charge_capacity_ah</th>\n",
       "      <th>tot_charge_energy_wh</th>\n",
       "      <th>tot_discharge_capacity_ah</th>\n",
       "      <th>tot_discharge_energy_wh</th>\n",
       "      <th>charge_cc_time_s</th>\n",
       "      <th>charge_cv_time_s</th>\n",
       "      <th>charge_rest_delta_voltage_v</th>\n",
       "      <th>discharge_cc_time_s</th>\n",
       "      <th>discharge_rest_delta_voltage_v</th>\n",
       "    </tr>\n",
       "    <tr>\n",
       "      <th>cycle_index</th>\n",
       "      <th></th>\n",
       "      <th></th>\n",
       "      <th></th>\n",
       "      <th></th>\n",
       "      <th></th>\n",
       "      <th></th>\n",
       "      <th></th>\n",
       "      <th></th>\n",
       "      <th></th>\n",
       "      <th></th>\n",
       "      <th></th>\n",
       "      <th></th>\n",
       "      <th></th>\n",
       "    </tr>\n",
       "  </thead>\n",
       "  <tbody>\n",
       "    <tr>\n",
       "      <th>1</th>\n",
       "      <td>NaN</td>\n",
       "      <td>NaN</td>\n",
       "      <td>NaN</td>\n",
       "      <td>NaN</td>\n",
       "      <td>0.000000</td>\n",
       "      <td>0.000000</td>\n",
       "      <td>0.161482</td>\n",
       "      <td>0.511116</td>\n",
       "      <td>NaN</td>\n",
       "      <td>NaN</td>\n",
       "      <td>NaN</td>\n",
       "      <td>NaN</td>\n",
       "      <td>NaN</td>\n",
       "    </tr>\n",
       "    <tr>\n",
       "      <th>2</th>\n",
       "      <td>NaN</td>\n",
       "      <td>NaN</td>\n",
       "      <td>NaN</td>\n",
       "      <td>NaN</td>\n",
       "      <td>0.081936</td>\n",
       "      <td>0.268059</td>\n",
       "      <td>0.168439</td>\n",
       "      <td>0.531223</td>\n",
       "      <td>NaN</td>\n",
       "      <td>NaN</td>\n",
       "      <td>NaN</td>\n",
       "      <td>NaN</td>\n",
       "      <td>NaN</td>\n",
       "    </tr>\n",
       "    <tr>\n",
       "      <th>3</th>\n",
       "      <td>NaN</td>\n",
       "      <td>NaN</td>\n",
       "      <td>NaN</td>\n",
       "      <td>NaN</td>\n",
       "      <td>0.163858</td>\n",
       "      <td>0.548809</td>\n",
       "      <td>0.175382</td>\n",
       "      <td>0.553034</td>\n",
       "      <td>NaN</td>\n",
       "      <td>NaN</td>\n",
       "      <td>NaN</td>\n",
       "      <td>NaN</td>\n",
       "      <td>NaN</td>\n",
       "    </tr>\n",
       "    <tr>\n",
       "      <th>4</th>\n",
       "      <td>NaN</td>\n",
       "      <td>NaN</td>\n",
       "      <td>NaN</td>\n",
       "      <td>NaN</td>\n",
       "      <td>0.245795</td>\n",
       "      <td>0.835924</td>\n",
       "      <td>0.182333</td>\n",
       "      <td>0.575806</td>\n",
       "      <td>NaN</td>\n",
       "      <td>NaN</td>\n",
       "      <td>NaN</td>\n",
       "      <td>NaN</td>\n",
       "      <td>NaN</td>\n",
       "    </tr>\n",
       "    <tr>\n",
       "      <th>5</th>\n",
       "      <td>NaN</td>\n",
       "      <td>NaN</td>\n",
       "      <td>NaN</td>\n",
       "      <td>NaN</td>\n",
       "      <td>0.327736</td>\n",
       "      <td>1.124766</td>\n",
       "      <td>0.189288</td>\n",
       "      <td>0.598931</td>\n",
       "      <td>NaN</td>\n",
       "      <td>NaN</td>\n",
       "      <td>NaN</td>\n",
       "      <td>NaN</td>\n",
       "      <td>NaN</td>\n",
       "    </tr>\n",
       "    <tr>\n",
       "      <th>...</th>\n",
       "      <td>...</td>\n",
       "      <td>...</td>\n",
       "      <td>...</td>\n",
       "      <td>...</td>\n",
       "      <td>...</td>\n",
       "      <td>...</td>\n",
       "      <td>...</td>\n",
       "      <td>...</td>\n",
       "      <td>...</td>\n",
       "      <td>...</td>\n",
       "      <td>...</td>\n",
       "      <td>...</td>\n",
       "      <td>...</td>\n",
       "    </tr>\n",
       "    <tr>\n",
       "      <th>1611</th>\n",
       "      <td>NaN</td>\n",
       "      <td>NaN</td>\n",
       "      <td>NaN</td>\n",
       "      <td>NaN</td>\n",
       "      <td>2286.403605</td>\n",
       "      <td>9194.775027</td>\n",
       "      <td>2284.192846</td>\n",
       "      <td>7860.127661</td>\n",
       "      <td>NaN</td>\n",
       "      <td>NaN</td>\n",
       "      <td>NaN</td>\n",
       "      <td>NaN</td>\n",
       "      <td>NaN</td>\n",
       "    </tr>\n",
       "    <tr>\n",
       "      <th>1612</th>\n",
       "      <td>NaN</td>\n",
       "      <td>NaN</td>\n",
       "      <td>NaN</td>\n",
       "      <td>NaN</td>\n",
       "      <td>2287.038497</td>\n",
       "      <td>9197.439459</td>\n",
       "      <td>2284.199794</td>\n",
       "      <td>7860.150892</td>\n",
       "      <td>NaN</td>\n",
       "      <td>NaN</td>\n",
       "      <td>NaN</td>\n",
       "      <td>NaN</td>\n",
       "      <td>NaN</td>\n",
       "    </tr>\n",
       "    <tr>\n",
       "      <th>1613</th>\n",
       "      <td>NaN</td>\n",
       "      <td>NaN</td>\n",
       "      <td>NaN</td>\n",
       "      <td>NaN</td>\n",
       "      <td>2288.937512</td>\n",
       "      <td>9204.618198</td>\n",
       "      <td>2286.127168</td>\n",
       "      <td>7867.248592</td>\n",
       "      <td>NaN</td>\n",
       "      <td>NaN</td>\n",
       "      <td>NaN</td>\n",
       "      <td>NaN</td>\n",
       "      <td>-0.000162</td>\n",
       "    </tr>\n",
       "    <tr>\n",
       "      <th>1614</th>\n",
       "      <td>0.020348</td>\n",
       "      <td>0.085448</td>\n",
       "      <td>1.265846</td>\n",
       "      <td>4.151361</td>\n",
       "      <td>2288.957860</td>\n",
       "      <td>9204.703646</td>\n",
       "      <td>2287.393014</td>\n",
       "      <td>7871.399953</td>\n",
       "      <td>0.000000</td>\n",
       "      <td>479.508844</td>\n",
       "      <td>-0.004379</td>\n",
       "      <td>1823.196963</td>\n",
       "      <td>0.061467</td>\n",
       "    </tr>\n",
       "    <tr>\n",
       "      <th>1615</th>\n",
       "      <td>NaN</td>\n",
       "      <td>NaN</td>\n",
       "      <td>NaN</td>\n",
       "      <td>NaN</td>\n",
       "      <td>2290.200086</td>\n",
       "      <td>9209.909059</td>\n",
       "      <td>2289.252151</td>\n",
       "      <td>7877.390670</td>\n",
       "      <td>366.800332</td>\n",
       "      <td>5107.991970</td>\n",
       "      <td>-0.039410</td>\n",
       "      <td>1796.608517</td>\n",
       "      <td>0.059845</td>\n",
       "    </tr>\n",
       "  </tbody>\n",
       "</table>\n",
       "<p>1615 rows × 13 columns</p>\n",
       "</div>"
      ],
      "text/plain": [
       "             charge_capacity_ah  charge_energy_wh  discharge_capacity_ah  \\\n",
       "cycle_index                                                                \n",
       "1                           NaN               NaN                    NaN   \n",
       "2                           NaN               NaN                    NaN   \n",
       "3                           NaN               NaN                    NaN   \n",
       "4                           NaN               NaN                    NaN   \n",
       "5                           NaN               NaN                    NaN   \n",
       "...                         ...               ...                    ...   \n",
       "1611                        NaN               NaN                    NaN   \n",
       "1612                        NaN               NaN                    NaN   \n",
       "1613                        NaN               NaN                    NaN   \n",
       "1614                   0.020348          0.085448               1.265846   \n",
       "1615                        NaN               NaN                    NaN   \n",
       "\n",
       "             discharge_energy_wh  tot_charge_capacity_ah  \\\n",
       "cycle_index                                                \n",
       "1                            NaN                0.000000   \n",
       "2                            NaN                0.081936   \n",
       "3                            NaN                0.163858   \n",
       "4                            NaN                0.245795   \n",
       "5                            NaN                0.327736   \n",
       "...                          ...                     ...   \n",
       "1611                         NaN             2286.403605   \n",
       "1612                         NaN             2287.038497   \n",
       "1613                         NaN             2288.937512   \n",
       "1614                    4.151361             2288.957860   \n",
       "1615                         NaN             2290.200086   \n",
       "\n",
       "             tot_charge_energy_wh  tot_discharge_capacity_ah  \\\n",
       "cycle_index                                                    \n",
       "1                        0.000000                   0.161482   \n",
       "2                        0.268059                   0.168439   \n",
       "3                        0.548809                   0.175382   \n",
       "4                        0.835924                   0.182333   \n",
       "5                        1.124766                   0.189288   \n",
       "...                           ...                        ...   \n",
       "1611                  9194.775027                2284.192846   \n",
       "1612                  9197.439459                2284.199794   \n",
       "1613                  9204.618198                2286.127168   \n",
       "1614                  9204.703646                2287.393014   \n",
       "1615                  9209.909059                2289.252151   \n",
       "\n",
       "             tot_discharge_energy_wh  charge_cc_time_s  charge_cv_time_s  \\\n",
       "cycle_index                                                                \n",
       "1                           0.511116               NaN               NaN   \n",
       "2                           0.531223               NaN               NaN   \n",
       "3                           0.553034               NaN               NaN   \n",
       "4                           0.575806               NaN               NaN   \n",
       "5                           0.598931               NaN               NaN   \n",
       "...                              ...               ...               ...   \n",
       "1611                     7860.127661               NaN               NaN   \n",
       "1612                     7860.150892               NaN               NaN   \n",
       "1613                     7867.248592               NaN               NaN   \n",
       "1614                     7871.399953          0.000000        479.508844   \n",
       "1615                     7877.390670        366.800332       5107.991970   \n",
       "\n",
       "             charge_rest_delta_voltage_v  discharge_cc_time_s  \\\n",
       "cycle_index                                                     \n",
       "1                                    NaN                  NaN   \n",
       "2                                    NaN                  NaN   \n",
       "3                                    NaN                  NaN   \n",
       "4                                    NaN                  NaN   \n",
       "5                                    NaN                  NaN   \n",
       "...                                  ...                  ...   \n",
       "1611                                 NaN                  NaN   \n",
       "1612                                 NaN                  NaN   \n",
       "1613                                 NaN                  NaN   \n",
       "1614                           -0.004379          1823.196963   \n",
       "1615                           -0.039410          1796.608517   \n",
       "\n",
       "             discharge_rest_delta_voltage_v  \n",
       "cycle_index                                  \n",
       "1                                       NaN  \n",
       "2                                       NaN  \n",
       "3                                       NaN  \n",
       "4                                       NaN  \n",
       "5                                       NaN  \n",
       "...                                     ...  \n",
       "1611                                    NaN  \n",
       "1612                                    NaN  \n",
       "1613                              -0.000162  \n",
       "1614                               0.061467  \n",
       "1615                               0.059845  \n",
       "\n",
       "[1615 rows x 13 columns]"
      ]
     },
     "execution_count": 33,
     "metadata": {},
     "output_type": "execute_result"
    }
   ],
   "source": [
    "df_by_cyc = parser.get_cycling_info()\n",
    "df_by_cyc"
   ]
  },
  {
   "cell_type": "code",
   "execution_count": 32,
   "id": "b7dc1795-2957-467e-bfa1-4f9e4cec18dc",
   "metadata": {},
   "outputs": [
    {
     "data": {
      "application/vnd.jupyter.widget-view+json": {
       "model_id": "2829c1cbd54d41cbb1bc17c782984488",
       "version_major": 2,
       "version_minor": 0
      },
      "text/plain": [
       "Canvas(toolbar=Toolbar(toolitems=[('Home', 'Reset original view', 'home', 'home'), ('Back', 'Back to previous …"
      ]
     },
     "metadata": {},
     "output_type": "display_data"
    }
   ],
   "source": [
    "plot_vars = ['discharge_capacity_ah', \n",
    "             'charge_cc_time_s', \n",
    "             'charge_cv_time_s', \n",
    "             'charge_rest_delta_voltage_v',\n",
    "             'discharge_cc_time_s', \n",
    "             'discharge_rest_delta_voltage_v']\n",
    "\n",
    "xvar = 'tot_discharge_capacity_ah'\n",
    "nrows = len(plot_vars)\n",
    "\n",
    "fh, axs = plt.subplots(nrows=nrows, ncols=1, \n",
    "                       figsize=(12, nrows * 4), sharex=True)\n",
    "\n",
    "for yvar, ax in zip(plot_vars, axs):\n",
    "    ax.plot(df_by_cyc[xvar], df_by_cyc[yvar])\n",
    "    if ax != axs[-1]:\n",
    "        ax.tick_params(labelbottom=False)\n",
    "    if ax == axs[0]:\n",
    "        ax.set_title(f'{device_name} \\n {yvar}')\n",
    "    else:\n",
    "        ax.set_title(yvar)\n",
    "    \n",
    "axs[-1].set_xlabel(xvar);"
   ]
  },
  {
   "cell_type": "markdown",
   "id": "007fc966-5c46-4600-9e04-e3125ddc5a16",
   "metadata": {},
   "source": [
    "# Process the RPT Data"
   ]
  },
  {
   "cell_type": "code",
   "execution_count": 40,
   "id": "7a26f2bc-72b8-441e-b576-ef5194650a0e",
   "metadata": {},
   "outputs": [],
   "source": [
    "df_by_rpt = parser.get_rpt_info()\n",
    "df_by_rpt"
   ]
  },
  {
   "cell_type": "code",
   "execution_count": 42,
   "id": "c71d41ef-745c-4b59-bd1d-b237abf1512c",
   "metadata": {},
   "outputs": [
    {
     "data": {
      "application/vnd.jupyter.widget-view+json": {
       "model_id": "64cf79db9d3d4a37843bd801906d7782",
       "version_major": 2,
       "version_minor": 0
      },
      "text/plain": [
       "Canvas(toolbar=Toolbar(toolitems=[('Home', 'Reset original view', 'home', 'home'), ('Back', 'Back to previous …"
      ]
     },
     "metadata": {},
     "output_type": "display_data"
    },
    {
     "data": {
      "application/vnd.jupyter.widget-view+json": {
       "model_id": "1103e09f3e2f49bba8b7f0f953fa478d",
       "version_major": 2,
       "version_minor": 0
      },
      "text/plain": [
       "Canvas(toolbar=Toolbar(toolitems=[('Home', 'Reset original view', 'home', 'home'), ('Back', 'Back to previous …"
      ]
     },
     "metadata": {},
     "output_type": "display_data"
    }
   ],
   "source": [
    "fh2, axs2 = plt.subplots(nrows=2, ncols=1, figsize=(10, 2 * 4), sharex=True)\n",
    "fh3, axs3 = plt.subplots(nrows=2, ncols=1, figsize=(10, 2 * 4), sharex=True)\n",
    "\n",
    "for cycle_index, row in df_by_rpt.iterrows():\n",
    "    \n",
    "    data = row['dvdq_data'];\n",
    "    \n",
    "    axs2[0].plot(data['chg_q'], data['chg_v'])\n",
    "    axs2[1].plot(data['dch_q'], data['dch_v'])\n",
    "    \n",
    "    axs3[0].plot(data['chg_q'], data['chg_dvdq'])\n",
    "    axs3[1].plot(data['dch_q'], data['dch_dvdq'])\n",
    "\n",
    "    axs3[0].set_ylim([0, 0.75])\n",
    "    axs3[1].set_ylim([-0.75, 0])"
   ]
  },
  {
   "cell_type": "markdown",
   "id": "3247bc02-ec73-4a24-991b-b07fd1e55324",
   "metadata": {},
   "source": [
    "# Plotting Cycling and RPT data together"
   ]
  },
  {
   "cell_type": "code",
   "execution_count": 43,
   "id": "2ce5510b-be18-4346-8315-911ff4fbd4cb",
   "metadata": {},
   "outputs": [
    {
     "data": {
      "application/vnd.jupyter.widget-view+json": {
       "model_id": "0c7cdc72ea1f4efca88f0e9c806003f6",
       "version_major": 2,
       "version_minor": 0
      },
      "text/plain": [
       "Canvas(toolbar=Toolbar(toolitems=[('Home', 'Reset original view', 'home', 'home'), ('Back', 'Back to previous …"
      ]
     },
     "metadata": {},
     "output_type": "display_data"
    },
    {
     "data": {
      "application/vnd.jupyter.widget-view+json": {
       "model_id": "9c3064490d9f4a79b602d744f72687db",
       "version_major": 2,
       "version_minor": 0
      },
      "text/plain": [
       "Canvas(toolbar=Toolbar(toolitems=[('Home', 'Reset original view', 'home', 'home'), ('Back', 'Back to previous …"
      ]
     },
     "metadata": {},
     "output_type": "display_data"
    },
    {
     "data": {
      "application/vnd.jupyter.widget-view+json": {
       "model_id": "d59a99e3ceed4fe79d8637098b6790d3",
       "version_major": 2,
       "version_minor": 0
      },
      "text/plain": [
       "Canvas(toolbar=Toolbar(toolitems=[('Home', 'Reset original view', 'home', 'home'), ('Back', 'Back to previous …"
      ]
     },
     "metadata": {},
     "output_type": "display_data"
    }
   ],
   "source": [
    "plt.figure(figsize=(10, 7))\n",
    "plt.plot(df_by_rpt['tot_discharge_capacity_ah']/2.5, df_by_rpt['c20_discharge_capacity_ah'], marker='o', label='C/20 DCH')\n",
    "plt.plot(df_by_cyc['tot_discharge_capacity_ah']/2.5, df_by_cyc['discharge_capacity_ah'], label='1C DCH')\n",
    "plt.legend()\n",
    "plt.ylabel('Capacity (Ah)')\n",
    "plt.xlabel('Throughput (Ah)')\n",
    "plt.grid(False)\n",
    "plt.title(device_name);\n",
    "\n",
    "plt.figure(figsize=(10, 7))\n",
    "plt.plot(df_by_rpt['tot_discharge_capacity_ah']/2.5, df_by_rpt['deltav_3p0v_2p5hr'], marker='o', label='$\\Delta$V, 3.0V, 2.5hr')\n",
    "plt.legend()\n",
    "plt.ylabel('$\\Delta$ V')\n",
    "plt.xlabel('Throughput (Ah)')\n",
    "plt.grid(False)\n",
    "plt.title(device_name);\n",
    "\n",
    "plt.figure(figsize=(10, 7))\n",
    "plt.plot(df_by_rpt['tot_discharge_capacity_ah']/2.5, df_by_rpt['deltav_4p2v_12hr'], marker='o', label='$\\Delta$V, 4.2V, 12hr')\n",
    "plt.legend()\n",
    "plt.ylabel('$\\Delta$ V')\n",
    "plt.xlabel('Throughput (Ah)')\n",
    "plt.grid(False)\n",
    "plt.title(device_name);"
   ]
  },
  {
   "cell_type": "code",
   "execution_count": 46,
   "id": "73fc8ac1-9594-4861-9bbc-f680fd2154d2",
   "metadata": {},
   "outputs": [
    {
     "data": {
      "application/vnd.jupyter.widget-view+json": {
       "model_id": "c9215c1482524a6785606693efc1528a",
       "version_major": 2,
       "version_minor": 0
      },
      "text/plain": [
       "Canvas(toolbar=Toolbar(toolitems=[('Home', 'Reset original view', 'home', 'home'), ('Back', 'Back to previous …"
      ]
     },
     "metadata": {},
     "output_type": "display_data"
    }
   ],
   "source": [
    "plot_vars = ['voltage_v', 'cycle_index', 'step_index']\n",
    "xvar = 'test_time_s'\n",
    "nrows = len(plot_vars)\n",
    "\n",
    "fh, axs = plt.subplots(nrows=nrows, ncols=1, \n",
    "                       figsize=(12, nrows * 3), sharex=True)\n",
    "\n",
    "\n",
    "for yvar, ax in zip(plot_vars, axs):\n",
    "    ax.plot(parser.df_rpt[xvar], parser.df_rpt[yvar], ls='', marker='o', ms=0.3, c='r')\n",
    "    ax.plot(parser.df_cyc[xvar], parser.df_cyc[yvar], ls='', marker='o', ms=0.3, c='b')\n",
    "    ax.set_ylabel(yvar)\n",
    "    if ax != axs[-1]:\n",
    "        ax.tick_params(labelbottom=False)\n",
    "    \n",
    "axs[-1].set_xlabel(xvar);\n",
    "axs[0].set_ylim((2.7, 4.22))\n",
    "axs[0].set_title(device_name);"
   ]
  },
  {
   "cell_type": "markdown",
   "id": "d46f26fa-269b-4723-b077-4e723ad3dfc6",
   "metadata": {},
   "source": [
    "# Process HPPC data from each RPT"
   ]
  },
  {
   "cell_type": "code",
   "execution_count": 52,
   "id": "be86a199-62cb-4158-b883-0e52007d251a",
   "metadata": {},
   "outputs": [
    {
     "data": {
      "text/html": [
       "<div>\n",
       "<style scoped>\n",
       "    .dataframe tbody tr th:only-of-type {\n",
       "        vertical-align: middle;\n",
       "    }\n",
       "\n",
       "    .dataframe tbody tr th {\n",
       "        vertical-align: top;\n",
       "    }\n",
       "\n",
       "    .dataframe thead th {\n",
       "        text-align: right;\n",
       "    }\n",
       "</style>\n",
       "<table border=\"1\" class=\"dataframe\">\n",
       "  <thead>\n",
       "    <tr style=\"text-align: right;\">\n",
       "      <th></th>\n",
       "      <th>cycle_index</th>\n",
       "      <th>throughput_ah</th>\n",
       "      <th>resistance_discharge_ohms</th>\n",
       "      <th>resistance_charge_ohms</th>\n",
       "      <th>capacity_ah</th>\n",
       "    </tr>\n",
       "  </thead>\n",
       "  <tbody>\n",
       "    <tr>\n",
       "      <th>0</th>\n",
       "      <td>1</td>\n",
       "      <td>0.161482</td>\n",
       "      <td>0.086214</td>\n",
       "      <td>0.071357</td>\n",
       "      <td>0.000000</td>\n",
       "    </tr>\n",
       "    <tr>\n",
       "      <th>1</th>\n",
       "      <td>1</td>\n",
       "      <td>0.161482</td>\n",
       "      <td>0.065927</td>\n",
       "      <td>0.059111</td>\n",
       "      <td>0.074974</td>\n",
       "    </tr>\n",
       "    <tr>\n",
       "      <th>2</th>\n",
       "      <td>1</td>\n",
       "      <td>0.161482</td>\n",
       "      <td>0.057287</td>\n",
       "      <td>0.053531</td>\n",
       "      <td>0.149953</td>\n",
       "    </tr>\n",
       "    <tr>\n",
       "      <th>3</th>\n",
       "      <td>1</td>\n",
       "      <td>0.161482</td>\n",
       "      <td>0.050547</td>\n",
       "      <td>0.048927</td>\n",
       "      <td>0.224938</td>\n",
       "    </tr>\n",
       "    <tr>\n",
       "      <th>4</th>\n",
       "      <td>1</td>\n",
       "      <td>0.161482</td>\n",
       "      <td>0.048276</td>\n",
       "      <td>0.047172</td>\n",
       "      <td>0.299907</td>\n",
       "    </tr>\n",
       "    <tr>\n",
       "      <th>...</th>\n",
       "      <td>...</td>\n",
       "      <td>...</td>\n",
       "      <td>...</td>\n",
       "      <td>...</td>\n",
       "      <td>...</td>\n",
       "    </tr>\n",
       "    <tr>\n",
       "      <th>365</th>\n",
       "      <td>1593</td>\n",
       "      <td>2284.073335</td>\n",
       "      <td>0.212496</td>\n",
       "      <td>0.187780</td>\n",
       "      <td>1.049688</td>\n",
       "    </tr>\n",
       "    <tr>\n",
       "      <th>366</th>\n",
       "      <td>1593</td>\n",
       "      <td>2284.073335</td>\n",
       "      <td>0.212175</td>\n",
       "      <td>0.186858</td>\n",
       "      <td>1.124669</td>\n",
       "    </tr>\n",
       "    <tr>\n",
       "      <th>367</th>\n",
       "      <td>1593</td>\n",
       "      <td>2284.073335</td>\n",
       "      <td>0.211593</td>\n",
       "      <td>0.186080</td>\n",
       "      <td>1.199650</td>\n",
       "    </tr>\n",
       "    <tr>\n",
       "      <th>368</th>\n",
       "      <td>1593</td>\n",
       "      <td>2284.073335</td>\n",
       "      <td>0.211013</td>\n",
       "      <td>NaN</td>\n",
       "      <td>1.274631</td>\n",
       "    </tr>\n",
       "    <tr>\n",
       "      <th>369</th>\n",
       "      <td>1593</td>\n",
       "      <td>2284.073335</td>\n",
       "      <td>0.210494</td>\n",
       "      <td>0.184457</td>\n",
       "      <td>1.349609</td>\n",
       "    </tr>\n",
       "  </tbody>\n",
       "</table>\n",
       "<p>370 rows × 5 columns</p>\n",
       "</div>"
      ],
      "text/plain": [
       "     cycle_index  throughput_ah  resistance_discharge_ohms  \\\n",
       "0              1       0.161482                   0.086214   \n",
       "1              1       0.161482                   0.065927   \n",
       "2              1       0.161482                   0.057287   \n",
       "3              1       0.161482                   0.050547   \n",
       "4              1       0.161482                   0.048276   \n",
       "..           ...            ...                        ...   \n",
       "365         1593    2284.073335                   0.212496   \n",
       "366         1593    2284.073335                   0.212175   \n",
       "367         1593    2284.073335                   0.211593   \n",
       "368         1593    2284.073335                   0.211013   \n",
       "369         1593    2284.073335                   0.210494   \n",
       "\n",
       "     resistance_charge_ohms  capacity_ah  \n",
       "0                  0.071357     0.000000  \n",
       "1                  0.059111     0.074974  \n",
       "2                  0.053531     0.149953  \n",
       "3                  0.048927     0.224938  \n",
       "4                  0.047172     0.299907  \n",
       "..                      ...          ...  \n",
       "365                0.187780     1.049688  \n",
       "366                0.186858     1.124669  \n",
       "367                0.186080     1.199650  \n",
       "368                     NaN     1.274631  \n",
       "369                0.184457     1.349609  \n",
       "\n",
       "[370 rows x 5 columns]"
      ]
     },
     "execution_count": 52,
     "metadata": {},
     "output_type": "execute_result"
    }
   ],
   "source": [
    "df_hppc = parser.get_hppc_info()\n",
    "df_hppc"
   ]
  },
  {
   "cell_type": "code",
   "execution_count": 51,
   "id": "8676f794-68d3-45e6-9b90-ad35daa2ead6",
   "metadata": {},
   "outputs": [
    {
     "data": {
      "application/vnd.jupyter.widget-view+json": {
       "model_id": "2a5a5c82c84840bba1abc2276d323492",
       "version_major": 2,
       "version_minor": 0
      },
      "text/plain": [
       "Canvas(toolbar=Toolbar(toolitems=[('Home', 'Reset original view', 'home', 'home'), ('Back', 'Back to previous …"
      ]
     },
     "metadata": {},
     "output_type": "display_data"
    },
    {
     "data": {
      "text/plain": [
       "Text(0, 0.5, '10s Resistance ($\\\\Omega$)')"
      ]
     },
     "execution_count": 51,
     "metadata": {},
     "output_type": "execute_result"
    }
   ],
   "source": [
    "plt.figure()\n",
    "\n",
    "colors = list(reversed(plt.cm.jet(np.linspace(0,1,len(df_hppc['cycle_index'].unique())+1))))\n",
    "\n",
    "for idx, cycle_index in enumerate(reversed(df_hppc['cycle_index'].unique())):\n",
    "    \n",
    "    curr_df = df_hppc[df_hppc['cycle_index'] == cycle_index]\n",
    "    curr_throughput_ah = curr_df['throughput_ah'].head(1).values[0]\n",
    "    plt.plot(curr_df['capacity_ah'], curr_df['resistance_discharge_ohms'], label=f'{curr_throughput_ah:.0f} Ah', marker='o', color=colors[idx])\n",
    "    plt.plot(curr_df['capacity_ah'], curr_df['resistance_charge_ohms'], label=f'', marker='x', linestyle='', color=colors[idx])\n",
    "       \n",
    "plt.legend()\n",
    "plt.xlabel('Capacity (Ah)')\n",
    "plt.ylabel('10s Resistance ($\\Omega$)')"
   ]
  }
 ],
 "metadata": {
  "kernelspec": {
   "display_name": "Python 3 (ipykernel)",
   "language": "python",
   "name": "python3"
  },
  "language_info": {
   "codemirror_mode": {
    "name": "ipython",
    "version": 3
   },
   "file_extension": ".py",
   "mimetype": "text/x-python",
   "name": "python",
   "nbconvert_exporter": "python",
   "pygments_lexer": "ipython3",
   "version": "3.9.6"
  }
 },
 "nbformat": 4,
 "nbformat_minor": 5
}
