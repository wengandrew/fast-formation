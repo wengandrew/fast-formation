{
 "cells": [
  {
   "cell_type": "markdown",
   "id": "94e349af-b241-4b61-9a8f-dfe35464b3ea",
   "metadata": {},
   "source": [
    "# Test Exporting of Raw Timeseries Data From a Single Device\n",
    "\n",
    "Compile information on UMBLFEB2022 formation cells\n",
    "\n",
    "1/17/2023"
   ]
  },
  {
   "cell_type": "code",
   "execution_count": 1,
   "id": "dee48878-92a0-4af7-b00e-1c8d5d41eb35",
   "metadata": {},
   "outputs": [],
   "source": [
    "import os, sys\n",
    "from matplotlib import pyplot as plt\n",
    "\n",
    "if os.path.basename(os.getcwd()) == 'notebooks-2023':\n",
    "    os.chdir('../')\n",
    "    sys.path.insert(0, 'src/')\n",
    "    \n",
    "import numpy as np\n",
    "import pandas as pd\n",
    "from matplotlib import pyplot as plt\n",
    "\n",
    "import src.plotter as plotter\n",
    "import src.vas as vas"
   ]
  },
  {
   "cell_type": "code",
   "execution_count": 2,
   "id": "a79bf73f-db96-41e8-9153-c63d06c229e2",
   "metadata": {},
   "outputs": [],
   "source": [
    "plotter.initialize(plt)"
   ]
  },
  {
   "cell_type": "code",
   "execution_count": 3,
   "id": "59cc35ef-b301-48b3-b505-3b0f5960d58d",
   "metadata": {},
   "outputs": [
    {
     "name": "stdout",
     "output_type": "stream",
     "text": [
      "Initializing Voltaiq Analytic Studio Helper...\n",
      "Initializing test records...\n",
      "Initializing devices...\n",
      "Done.\n"
     ]
    }
   ],
   "source": [
    "# Initialize the helper class\n",
    "vh = vas.VasHelper()"
   ]
  },
  {
   "cell_type": "code",
   "execution_count": 4,
   "id": "c2044ed5-ffc4-47b8-83bb-e0689d108a87",
   "metadata": {},
   "outputs": [
    {
     "name": "stdout",
     "output_type": "stream",
     "text": [
      "UMBL2022FEB_CELL152098\n",
      "UMBL2022FEB_CELL152097\n",
      "UMBL2022FEB_CELL152028\n",
      "UMBL2022FEB_CELL152030\n",
      "UMBL2022FEB_CELL152032\n",
      "UMBL2022FEB_CELL151805\n",
      "UMBL2022FEB_CELL152029\n",
      "UMBL2022FEB_CELL152016\n",
      "UMBL2022FEB_CELL152023\n",
      "UMBL2022FEB_CELL152064\n",
      "UMBL2022FEB_CELL152027\n",
      "UMBL2022FEB_CELL152071\n",
      "UMBL2022FEB_CELL152021\n",
      "UMBL2022FEB_CELL152020\n",
      "UMBL2022FEB_CELL152018\n",
      "UMBL2022FEB_CELL152017\n",
      "UMBL2022FEB_CELL151806\n",
      "UMBL2022FEB_CELL152054\n",
      "UMBL2022FEB_CELL152046\n",
      "UMBL2022FEB_CELL152042\n",
      "UMBL2022FEB_CELL152045\n",
      "UMBL2022FEB_CELL152033\n",
      "UMBL2022FEB_CELL152087\n",
      "UMBL2022FEB_CELL152088\n",
      "UMBL2022FEB_CELL152051\n",
      "UMBL2022FEB_CELL152078\n",
      "UMBL2022FEB_CELL152057\n",
      "UMBL2022FEB_CELL152041\n",
      "UMBL2022FEB_CELL152039\n",
      "UMBL2022FEB_CELL152072\n",
      "UMBL2022FEB_CELL152084\n",
      "UMBL2022FEB_CELL152048\n",
      "UMBL2022FEB_CELL152065\n",
      "UMBL2022FEB_CELL152091\n",
      "UMBL2022FEB_CELL152094\n",
      "UMBL2022FEB_CELL152036\n",
      "UMBL2022FEB_CELL152047\n",
      "UMBL2022FEB_CELL152019\n",
      "UMBL2022FEB_CELL152011\n",
      "UMBL2022FEB_CELL1512001\n",
      "UMBL2022FEB_CELL152066\n",
      "UMBL2022FEB_CELL152061\n",
      "UMBL2022FEB_CELL152060\n",
      "UMBL2022FEB_CELL152069\n",
      "UMBL2022FEB_CELL152006\n",
      "UMBL2022FEB_CELL152009\n",
      "UMBL2022FEB_CELL152012\n",
      "UMBL2022FEB_CELL152005\n",
      "UMBL2022FEB_CELL152007\n",
      "UMBL2022FEB_CELL152085\n",
      "UMBL2022FEB_CELL152008\n",
      "UMBL2022FEB_CELL152026\n",
      "UMBL2022FEB_CELL152014\n",
      "UMBL2022FEB_CELL152010\n",
      "UMBL2022FEB_CELL152004\n",
      "UMBL2022FEB_CELL152002\n",
      "UMBL2022FEB_CELL151802\n",
      "UMBL2022FEB_CELL151803\n",
      "UMBL2022FEB_CELL151804\n",
      "UMBL2022FEB_CELL152013\n",
      "UMBL2022FEB_CELL152015\n",
      "UMBL2022FEB_CELL152031\n",
      "UMBL2022FEB_CELL152001\n",
      "UMBL2022FEB_CELL152074\n",
      "UMBL2022FEB_CELL152095\n",
      "UMBL2022FEB_CELL151801\n",
      "UMBL2022FEB_CELL15205\n",
      "UMBL2022FEB_152007\n",
      "UMBL2022FEB_CELL152022\n",
      "UMBL2022FEB_CELL152025\n",
      "UMBL2022FEB_CELL152024\n",
      "UMBL2022FEB_CELL152003\n"
     ]
    }
   ],
   "source": [
    "devices = vh.filter_devices('UMBL2022FEB')\n",
    "[print(x) for x in devices];"
   ]
  },
  {
   "cell_type": "code",
   "execution_count": 7,
   "id": "2f5f688e-4e84-4b55-9b8f-ed0f9cec0adf",
   "metadata": {},
   "outputs": [
    {
     "name": "stdout",
     "output_type": "stream",
     "text": [
      "Device UMBL2022FEB_CELL152098 has 32 cycling records and 5 aux files.\n",
      "Device UMBL2022FEB_CELL152097 has 3 cycling records and 15 aux files.\n",
      "Device UMBL2022FEB_CELL152028 has 40 cycling records and 4 aux files.\n",
      "Device UMBL2022FEB_CELL152030 has 40 cycling records and 4 aux files.\n",
      "Device UMBL2022FEB_CELL152032 has 40 cycling records and 6 aux files.\n",
      "Device UMBL2022FEB_CELL151805 has 45 cycling records and 6 aux files.\n",
      "Device UMBL2022FEB_CELL152029 has 40 cycling records and 4 aux files.\n",
      "Device UMBL2022FEB_CELL152016 has 34 cycling records and 9 aux files.\n",
      "Device UMBL2022FEB_CELL152023 has 40 cycling records and 4 aux files.\n",
      "Device UMBL2022FEB_CELL152064 has 32 cycling records and 5 aux files.\n",
      "Device UMBL2022FEB_CELL152027 has 40 cycling records and 5 aux files.\n",
      "Device UMBL2022FEB_CELL152071 has 32 cycling records and 4 aux files.\n",
      "Device UMBL2022FEB_CELL152021 has 0 cycling records and 5 aux files.\n",
      "Device UMBL2022FEB_CELL152020 has 0 cycling records and 6 aux files.\n",
      "Device UMBL2022FEB_CELL152018 has 0 cycling records and 5 aux files.\n",
      "Device UMBL2022FEB_CELL152017 has 37 cycling records and 5 aux files.\n",
      "Device UMBL2022FEB_CELL151806 has 42 cycling records and 5 aux files.\n",
      "Device UMBL2022FEB_CELL152054 has 2 cycling records and 13 aux files.\n",
      "Device UMBL2022FEB_CELL152046 has 2 cycling records and 14 aux files.\n",
      "Device UMBL2022FEB_CELL152042 has 2 cycling records and 14 aux files.\n",
      "Device UMBL2022FEB_CELL152045 has 0 cycling records and 13 aux files.\n",
      "Device UMBL2022FEB_CELL152033 has 2 cycling records and 9 aux files.\n",
      "Device UMBL2022FEB_CELL152087 has 2 cycling records and 14 aux files.\n",
      "Device UMBL2022FEB_CELL152088 has 2 cycling records and 13 aux files.\n",
      "Device UMBL2022FEB_CELL152051 has 2 cycling records and 15 aux files.\n",
      "Device UMBL2022FEB_CELL152078 has 2 cycling records and 12 aux files.\n",
      "Device UMBL2022FEB_CELL152057 has 2 cycling records and 13 aux files.\n",
      "Device UMBL2022FEB_CELL152041 has 2 cycling records and 12 aux files.\n",
      "Device UMBL2022FEB_CELL152039 has 2 cycling records and 13 aux files.\n",
      "Device UMBL2022FEB_CELL152072 has 2 cycling records and 12 aux files.\n",
      "Device UMBL2022FEB_CELL152084 has 2 cycling records and 13 aux files.\n",
      "Device UMBL2022FEB_CELL152048 has 2 cycling records and 9 aux files.\n",
      "Device UMBL2022FEB_CELL152065 has 2 cycling records and 13 aux files.\n",
      "Device UMBL2022FEB_CELL152091 has 2 cycling records and 14 aux files.\n",
      "Device UMBL2022FEB_CELL152094 has 2 cycling records and 12 aux files.\n",
      "Device UMBL2022FEB_CELL152036 has 2 cycling records and 13 aux files.\n",
      "Device UMBL2022FEB_CELL152047 has 2 cycling records and 9 aux files.\n",
      "Device UMBL2022FEB_CELL152019 has 0 cycling records and 6 aux files.\n",
      "Device UMBL2022FEB_CELL152011 has 40 cycling records and 4 aux files.\n",
      "Device UMBL2022FEB_CELL1512001 has 0 cycling records and 1 aux files.\n",
      "Device UMBL2022FEB_CELL152066 has 4 cycling records and 3 aux files.\n",
      "Device UMBL2022FEB_CELL152061 has 6 cycling records and 3 aux files.\n",
      "Device UMBL2022FEB_CELL152060 has 5 cycling records and 3 aux files.\n",
      "Device UMBL2022FEB_CELL152069 has 5 cycling records and 3 aux files.\n",
      "Device UMBL2022FEB_CELL152006 has 40 cycling records and 4 aux files.\n",
      "Device UMBL2022FEB_CELL152009 has 40 cycling records and 5 aux files.\n",
      "Device UMBL2022FEB_CELL152012 has 40 cycling records and 4 aux files.\n",
      "Device UMBL2022FEB_CELL152005 has 39 cycling records and 4 aux files.\n",
      "Device UMBL2022FEB_CELL152007 has 40 cycling records and 4 aux files.\n",
      "Device UMBL2022FEB_CELL152085 has 2 cycling records and 7 aux files.\n",
      "Device UMBL2022FEB_CELL152008 has 40 cycling records and 4 aux files.\n",
      "Device UMBL2022FEB_CELL152026 has 40 cycling records and 4 aux files.\n",
      "Device UMBL2022FEB_CELL152014 has 41 cycling records and 4 aux files.\n",
      "Device UMBL2022FEB_CELL152010 has 40 cycling records and 4 aux files.\n",
      "Device UMBL2022FEB_CELL152004 has 40 cycling records and 5 aux files.\n",
      "Device UMBL2022FEB_CELL152002 has 47 cycling records and 4 aux files.\n",
      "Device UMBL2022FEB_CELL151802 has 41 cycling records and 4 aux files.\n",
      "Device UMBL2022FEB_CELL151803 has 41 cycling records and 5 aux files.\n",
      "Device UMBL2022FEB_CELL151804 has 42 cycling records and 4 aux files.\n",
      "Device UMBL2022FEB_CELL152013 has 40 cycling records and 4 aux files.\n",
      "Device UMBL2022FEB_CELL152015 has 40 cycling records and 4 aux files.\n",
      "Device UMBL2022FEB_CELL152031 has 40 cycling records and 3 aux files.\n",
      "Device UMBL2022FEB_CELL152001 has 35 cycling records and 3 aux files.\n",
      "Device UMBL2022FEB_CELL152074 has 36 cycling records and 23 aux files.\n",
      "Device UMBL2022FEB_CELL152095 has 2 cycling records and 0 aux files.\n",
      "Device UMBL2022FEB_CELL151801 has 8 cycling records and 3 aux files.\n",
      "Device UMBL2022FEB_CELL15205 has 7 cycling records and 41 aux files.\n",
      "Device UMBL2022FEB_152007 has 0 cycling records and 1 aux files.\n",
      "Device UMBL2022FEB_CELL152022 has 6 cycling records and 1 aux files.\n",
      "Device UMBL2022FEB_CELL152025 has 7 cycling records and 3 aux files.\n",
      "Device UMBL2022FEB_CELL152024 has 7 cycling records and 3 aux files.\n",
      "Device UMBL2022FEB_CELL152003 has 7 cycling records and 3 aux files.\n"
     ]
    }
   ],
   "source": [
    "data_list = []\n",
    "\n",
    "for device in devices:\n",
    "\n",
    "    cycler_list, aux_list = vh.get_test_records_for_device(device)\n",
    "\n",
    "    data_list.append((cycler_list, aux_list))\n",
    "\n",
    "    print(f'Device {device} has {len(cycler_list)} cycling records and {len(aux_list)} aux files.')"
   ]
  },
  {
   "cell_type": "code",
   "execution_count": 8,
   "id": "154c1ae9-caae-4177-91fa-5972b5e69972",
   "metadata": {},
   "outputs": [
    {
     "name": "stdout",
     "output_type": "stream",
     "text": [
      "UMBL2022FEB_CELL152003_FORMTAP_1_P25C_5P0PSI_20220711_R1_AuxDat_TC8_20220713_092327\n",
      "UMBL2022FEB_CELL152003_FORMTAP_1_P25C_5P0PSI_20220711_R1_AuxDat_TC8_20220712_215556\n",
      "UMBL2022FEB_CELL152003_FORMTAP_1_P25C_5P0PSI_20220711_R1_AuxDat_TC8_20220713_090808\n",
      "UMBL2022FEB_CELL152003_FORMTAP_1_P25C_5P0PSI_20220711_R1_AuxDat_TC8_20220712_212311\n",
      "UMBL2022FEB_CELL152003_FORMAGING_1_P45C_5P0PSI_20220720_R1_AuxDat_TC8_20220720_200117\n",
      "UMBL2022FEB_CELL152003_FORMTAP_1_P25C_5P0PSI_20220711_R1_AuxDat_TC8_20220713_090653\n",
      "UMBL2022FEB_CELL152003_FORMFAST_1_P25C_5P0PSI_20220713_R1_AuxDat_TC8_20220713_102027\n"
     ]
    }
   ],
   "source": [
    "for test in cycler_list:\n",
    "    \n",
    "    print(test)"
   ]
  },
  {
   "cell_type": "code",
   "execution_count": 10,
   "id": "56e48f0c-1b56-4507-b350-4b4a99d81a3e",
   "metadata": {},
   "outputs": [],
   "source": [
    "df = vh.get_cycler_data('UMBL2022FEB_CELL152028_FORMBASE_1_P25C_0P0PSI_20220713')"
   ]
  },
  {
   "cell_type": "code",
   "execution_count": 11,
   "id": "b19dffcc-cc0b-4ed8-8dc7-376fa1bb0e68",
   "metadata": {},
   "outputs": [
    {
     "data": {
      "text/html": [
       "<div>\n",
       "<style scoped>\n",
       "    .dataframe tbody tr th:only-of-type {\n",
       "        vertical-align: middle;\n",
       "    }\n",
       "\n",
       "    .dataframe tbody tr th {\n",
       "        vertical-align: top;\n",
       "    }\n",
       "\n",
       "    .dataframe thead th {\n",
       "        text-align: right;\n",
       "    }\n",
       "</style>\n",
       "<table border=\"1\" class=\"dataframe\">\n",
       "  <thead>\n",
       "    <tr style=\"text-align: right;\">\n",
       "      <th></th>\n",
       "      <th>voltage</th>\n",
       "      <th>step_time</th>\n",
       "      <th>current</th>\n",
       "      <th>test_time</th>\n",
       "      <th>step_index</th>\n",
       "      <th>cycle_index</th>\n",
       "      <th>datetime</th>\n",
       "    </tr>\n",
       "  </thead>\n",
       "  <tbody>\n",
       "    <tr>\n",
       "      <th>0</th>\n",
       "      <td>0.904511</td>\n",
       "      <td>0.062406</td>\n",
       "      <td>0.0</td>\n",
       "      <td>0.062405</td>\n",
       "      <td>1</td>\n",
       "      <td>1</td>\n",
       "      <td>2022-07-13 10:06:56-04:00</td>\n",
       "    </tr>\n",
       "    <tr>\n",
       "      <th>1</th>\n",
       "      <td>0.904511</td>\n",
       "      <td>10.064103</td>\n",
       "      <td>0.0</td>\n",
       "      <td>10.064102</td>\n",
       "      <td>1</td>\n",
       "      <td>1</td>\n",
       "      <td>2022-07-13 10:07:06-04:00</td>\n",
       "    </tr>\n",
       "    <tr>\n",
       "      <th>2</th>\n",
       "      <td>0.904511</td>\n",
       "      <td>20.078106</td>\n",
       "      <td>0.0</td>\n",
       "      <td>20.078105</td>\n",
       "      <td>1</td>\n",
       "      <td>1</td>\n",
       "      <td>2022-07-13 10:07:16-04:00</td>\n",
       "    </tr>\n",
       "    <tr>\n",
       "      <th>3</th>\n",
       "      <td>0.904511</td>\n",
       "      <td>30.086667</td>\n",
       "      <td>0.0</td>\n",
       "      <td>30.086667</td>\n",
       "      <td>1</td>\n",
       "      <td>1</td>\n",
       "      <td>2022-07-13 10:07:26-04:00</td>\n",
       "    </tr>\n",
       "    <tr>\n",
       "      <th>4</th>\n",
       "      <td>0.904674</td>\n",
       "      <td>40.090590</td>\n",
       "      <td>0.0</td>\n",
       "      <td>40.090589</td>\n",
       "      <td>1</td>\n",
       "      <td>1</td>\n",
       "      <td>2022-07-13 10:07:36-04:00</td>\n",
       "    </tr>\n",
       "    <tr>\n",
       "      <th>...</th>\n",
       "      <td>...</td>\n",
       "      <td>...</td>\n",
       "      <td>...</td>\n",
       "      <td>...</td>\n",
       "      <td>...</td>\n",
       "      <td>...</td>\n",
       "      <td>...</td>\n",
       "    </tr>\n",
       "    <tr>\n",
       "      <th>61833</th>\n",
       "      <td>3.391653</td>\n",
       "      <td>21569.757127</td>\n",
       "      <td>0.0</td>\n",
       "      <td>557318.004996</td>\n",
       "      <td>28</td>\n",
       "      <td>39</td>\n",
       "      <td>2022-07-19 20:56:25-04:00</td>\n",
       "    </tr>\n",
       "    <tr>\n",
       "      <th>61834</th>\n",
       "      <td>3.391490</td>\n",
       "      <td>21579.763322</td>\n",
       "      <td>0.0</td>\n",
       "      <td>557328.011191</td>\n",
       "      <td>28</td>\n",
       "      <td>39</td>\n",
       "      <td>2022-07-19 20:56:35-04:00</td>\n",
       "    </tr>\n",
       "    <tr>\n",
       "      <th>61835</th>\n",
       "      <td>3.391490</td>\n",
       "      <td>21589.766284</td>\n",
       "      <td>0.0</td>\n",
       "      <td>557338.014153</td>\n",
       "      <td>28</td>\n",
       "      <td>39</td>\n",
       "      <td>2022-07-19 20:56:45-04:00</td>\n",
       "    </tr>\n",
       "    <tr>\n",
       "      <th>61836</th>\n",
       "      <td>3.391490</td>\n",
       "      <td>21599.777474</td>\n",
       "      <td>0.0</td>\n",
       "      <td>557348.025343</td>\n",
       "      <td>28</td>\n",
       "      <td>39</td>\n",
       "      <td>2022-07-19 20:56:55-04:00</td>\n",
       "    </tr>\n",
       "    <tr>\n",
       "      <th>61837</th>\n",
       "      <td>3.391490</td>\n",
       "      <td>21600.005811</td>\n",
       "      <td>0.0</td>\n",
       "      <td>557348.253680</td>\n",
       "      <td>28</td>\n",
       "      <td>39</td>\n",
       "      <td>2022-07-19 20:56:56-04:00</td>\n",
       "    </tr>\n",
       "  </tbody>\n",
       "</table>\n",
       "<p>61838 rows × 7 columns</p>\n",
       "</div>"
      ],
      "text/plain": [
       "        voltage     step_time  current      test_time  step_index  \\\n",
       "0      0.904511      0.062406      0.0       0.062405           1   \n",
       "1      0.904511     10.064103      0.0      10.064102           1   \n",
       "2      0.904511     20.078106      0.0      20.078105           1   \n",
       "3      0.904511     30.086667      0.0      30.086667           1   \n",
       "4      0.904674     40.090590      0.0      40.090589           1   \n",
       "...         ...           ...      ...            ...         ...   \n",
       "61833  3.391653  21569.757127      0.0  557318.004996          28   \n",
       "61834  3.391490  21579.763322      0.0  557328.011191          28   \n",
       "61835  3.391490  21589.766284      0.0  557338.014153          28   \n",
       "61836  3.391490  21599.777474      0.0  557348.025343          28   \n",
       "61837  3.391490  21600.005811      0.0  557348.253680          28   \n",
       "\n",
       "       cycle_index                  datetime  \n",
       "0                1 2022-07-13 10:06:56-04:00  \n",
       "1                1 2022-07-13 10:07:06-04:00  \n",
       "2                1 2022-07-13 10:07:16-04:00  \n",
       "3                1 2022-07-13 10:07:26-04:00  \n",
       "4                1 2022-07-13 10:07:36-04:00  \n",
       "...            ...                       ...  \n",
       "61833           39 2022-07-19 20:56:25-04:00  \n",
       "61834           39 2022-07-19 20:56:35-04:00  \n",
       "61835           39 2022-07-19 20:56:45-04:00  \n",
       "61836           39 2022-07-19 20:56:55-04:00  \n",
       "61837           39 2022-07-19 20:56:56-04:00  \n",
       "\n",
       "[61838 rows x 7 columns]"
      ]
     },
     "execution_count": 11,
     "metadata": {},
     "output_type": "execute_result"
    }
   ],
   "source": [
    "df"
   ]
  },
  {
   "cell_type": "code",
   "execution_count": 12,
   "id": "850b14dd-e0d8-4da1-930f-7a54b6ce62f4",
   "metadata": {},
   "outputs": [
    {
     "data": {
      "text/plain": [
       "[<matplotlib.lines.Line2D at 0x7f905b8d5fa0>]"
      ]
     },
     "execution_count": 12,
     "metadata": {},
     "output_type": "execute_result"
    },
    {
     "data": {
      "image/png": "[encoded data removed]",
      "text/plain": [
       "<Figure size 1008x864 with 1 Axes>"
      ]
     },
     "metadata": {
      "needs_background": "light"
     },
     "output_type": "display_data"
    }
   ],
   "source": [
    "plt.plot(df['test_time'], df['voltage'])"
   ]
  },
  {
   "cell_type": "code",
   "execution_count": 18,
   "id": "85aaa0cc-c7e2-4248-8c84-3cd8a9f7060f",
   "metadata": {},
   "outputs": [
    {
     "name": "stderr",
     "output_type": "stream",
     "text": [
      "E0130 17:02:19.484912195     396 hpack_parser.cc:1240]       Error parsing metadata: error=invalid value key=content-type value=text/plain\n"
     ]
    },
    {
     "ename": "FlightUnavailableError",
     "evalue": "Flight returned unavailable error, with message: Received http2 header with status: 504",
     "output_type": "error",
     "traceback": [
      "\u001b[0;31m---------------------------------------------------------------------------\u001b[0m",
      "\u001b[0;31mFlightUnavailableError\u001b[0m                    Traceback (most recent call last)",
      "Cell \u001b[0;32mIn [18], line 6\u001b[0m\n\u001b[1;32m      3\u001b[0m test_name1 \u001b[38;5;241m=\u001b[39m \u001b[38;5;124m'\u001b[39m\u001b[38;5;124mUMBL2022FEB_CELL152028_CYC_1C1CR1_P45C_5P0PSI_20220804_R1\u001b[39m\u001b[38;5;124m'\u001b[39m\n\u001b[1;32m      4\u001b[0m test_name2 \u001b[38;5;241m=\u001b[39m \u001b[38;5;124m'\u001b[39m\u001b[38;5;124mUMBL2022FEB_CELL152028_CYC_1C1CR1_P45C_P5P0PSI_20220804_R7_AuxDat_TC27_20221019_095916\u001b[39m\u001b[38;5;124m'\u001b[39m;\n\u001b[0;32m----> 6\u001b[0m df1 \u001b[38;5;241m=\u001b[39m \u001b[43mvh\u001b[49m\u001b[38;5;241;43m.\u001b[39;49m\u001b[43mget_aux_data\u001b[49m\u001b[43m(\u001b[49m\u001b[43mtest_name1\u001b[49m\u001b[43m)\u001b[49m\n\u001b[1;32m      7\u001b[0m df2 \u001b[38;5;241m=\u001b[39m vh\u001b[38;5;241m.\u001b[39mget_aux_data(test_name2)\n\u001b[1;32m      9\u001b[0m df \u001b[38;5;241m=\u001b[39m pd\u001b[38;5;241m.\u001b[39mDataFrame()\n",
      "File \u001b[0;32m~/fast-formation/src/vas.py:119\u001b[0m, in \u001b[0;36mVasHelper.get_aux_data\u001b[0;34m(self, test_name)\u001b[0m\n\u001b[1;32m    109\u001b[0m \u001b[38;5;28;01mdef\u001b[39;00m \u001b[38;5;21mget_aux_data\u001b[39m(\u001b[38;5;28mself\u001b[39m, test_name):\n\u001b[1;32m    110\u001b[0m     \u001b[38;5;124;03m\"\"\"\u001b[39;00m\n\u001b[1;32m    111\u001b[0m \u001b[38;5;124;03m    Return a Pandas DataFrame from a file containing 'aux'iliary data, which includes\u001b[39;00m\n\u001b[1;32m    112\u001b[0m \u001b[38;5;124;03m    the LDC expansion sensor data, temperature sensor data, and others.\u001b[39;00m\n\u001b[0;32m   (...)\u001b[0m\n\u001b[1;32m    116\u001b[0m \u001b[38;5;124;03m    test_name (str): the name of a test\u001b[39;00m\n\u001b[1;32m    117\u001b[0m \u001b[38;5;124;03m    \"\"\"\u001b[39;00m\n\u001b[0;32m--> 119\u001b[0m     test_record \u001b[38;5;241m=\u001b[39m \u001b[38;5;28mself\u001b[39m\u001b[38;5;241m.\u001b[39m_get_test_record(test_name)\n\u001b[1;32m    121\u001b[0m     reader \u001b[38;5;241m=\u001b[39m test_record\u001b[38;5;241m.\u001b[39mmake_time_series_reader()\n\u001b[1;32m    123\u001b[0m     reader\u001b[38;5;241m.\u001b[39madd_trace_keys(\u001b[38;5;124m'\u001b[39m\u001b[38;5;124mh_test_time\u001b[39m\u001b[38;5;124m'\u001b[39m,\n\u001b[1;32m    124\u001b[0m                           \u001b[38;5;124m'\u001b[39m\u001b[38;5;124mh_datapoint_time\u001b[39m\u001b[38;5;124m'\u001b[39m,\n\u001b[1;32m    125\u001b[0m                           \u001b[38;5;124m'\u001b[39m\u001b[38;5;124maux_vdf_ldcref_none_0\u001b[39m\u001b[38;5;124m'\u001b[39m,\n\u001b[0;32m   (...)\u001b[0m\n\u001b[1;32m    129\u001b[0m                           \u001b[38;5;124m'\u001b[39m\u001b[38;5;124maux_vdf_ambienttemperature_celsius_0\u001b[39m\u001b[38;5;124m'\u001b[39m\n\u001b[1;32m    130\u001b[0m                           )\n",
      "File \u001b[0;32m/opt/conda/lib/python3.9/site-packages/voltaiq_studio/studio_logger.py:29\u001b[0m, in \u001b[0;36mstudio_log.<locals>.outer.<locals>.inner\u001b[0;34m(*args, **kwargs)\u001b[0m\n\u001b[1;32m     27\u001b[0m \u001b[38;5;28;01mexcept\u001b[39;00m \u001b[38;5;167;01mException\u001b[39;00m \u001b[38;5;28;01mas\u001b[39;00m e:\n\u001b[1;32m     28\u001b[0m     logger\u001b[38;5;241m.\u001b[39mexception(e)\n\u001b[0;32m---> 29\u001b[0m     \u001b[38;5;28;01mraise\u001b[39;00m e\n",
      "File \u001b[0;32m/opt/conda/lib/python3.9/site-packages/voltaiq_studio/studio_logger.py:25\u001b[0m, in \u001b[0;36mstudio_log.<locals>.outer.<locals>.inner\u001b[0;34m(*args, **kwargs)\u001b[0m\n\u001b[1;32m     23\u001b[0m     params \u001b[38;5;241m=\u001b[39m process_params(\u001b[38;5;241m*\u001b[39margs, \u001b[38;5;241m*\u001b[39m\u001b[38;5;241m*\u001b[39mkwargs)\n\u001b[1;32m     24\u001b[0m     logger\u001b[38;5;241m.\u001b[39mdebug(\u001b[38;5;124mf\u001b[39m\u001b[38;5;124m'\u001b[39m\u001b[38;5;124mStudio user \u001b[39m\u001b[38;5;132;01m{\u001b[39;00mstudio_username\u001b[38;5;132;01m}\u001b[39;00m\u001b[38;5;124m: \u001b[39m\u001b[38;5;132;01m{\u001b[39;00mparams\u001b[38;5;132;01m}\u001b[39;00m\u001b[38;5;124m'\u001b[39m)\n\u001b[0;32m---> 25\u001b[0m     \u001b[38;5;28;01mreturn\u001b[39;00m \u001b[43mfunc\u001b[49m\u001b[43m(\u001b[49m\u001b[38;5;241;43m*\u001b[39;49m\u001b[43margs\u001b[49m\u001b[43m,\u001b[49m\u001b[43m \u001b[49m\u001b[38;5;241;43m*\u001b[39;49m\u001b[38;5;241;43m*\u001b[39;49m\u001b[43mkwargs\u001b[49m\u001b[43m)\u001b[49m\n\u001b[1;32m     27\u001b[0m \u001b[38;5;28;01mexcept\u001b[39;00m \u001b[38;5;167;01mException\u001b[39;00m \u001b[38;5;28;01mas\u001b[39;00m e:\n\u001b[1;32m     28\u001b[0m     logger\u001b[38;5;241m.\u001b[39mexception(e)\n",
      "File \u001b[0;32m/opt/conda/lib/python3.9/site-packages/voltaiq_studio/flight/time_series/reader.py:370\u001b[0m, in \u001b[0;36mTimeSeriesReader.add_trace_keys\u001b[0;34m(self, *trace_keys)\u001b[0m\n\u001b[1;32m    368\u001b[0m query \u001b[38;5;241m=\u001b[39m TimeSeriesQuery(\u001b[38;5;241m*\u001b[39m\u001b[38;5;241m*\u001b[39m\u001b[38;5;28mself\u001b[39m\u001b[38;5;241m.\u001b[39m_query\u001b[38;5;241m.\u001b[39mto_query())\n\u001b[1;32m    369\u001b[0m query\u001b[38;5;241m.\u001b[39mtrace_keys \u001b[38;5;241m+\u001b[39m\u001b[38;5;241m=\u001b[39m [k \u001b[38;5;28;01mfor\u001b[39;00m k \u001b[38;5;129;01min\u001b[39;00m trace_keys \u001b[38;5;28;01mif\u001b[39;00m k \u001b[38;5;129;01mnot\u001b[39;00m \u001b[38;5;129;01min\u001b[39;00m query\u001b[38;5;241m.\u001b[39mtrace_keys]\n\u001b[0;32m--> 370\u001b[0m \u001b[38;5;28;43mself\u001b[39;49m\u001b[38;5;241;43m.\u001b[39;49m\u001b[43m_query\u001b[49m \u001b[38;5;241m=\u001b[39m query\n",
      "File \u001b[0;32m/opt/conda/lib/python3.9/site-packages/voltaiq_studio/flight/time_series/reader.py:96\u001b[0m, in \u001b[0;36mTimeSeriesReader._query\u001b[0;34m(self, query)\u001b[0m\n\u001b[1;32m     94\u001b[0m missing_trace, missing_info \u001b[38;5;241m=\u001b[39m \u001b[38;5;28mself\u001b[39m\u001b[38;5;241m.\u001b[39m_missing_columns\n\u001b[1;32m     95\u001b[0m \u001b[38;5;28;01mif\u001b[39;00m \u001b[38;5;28mlen\u001b[39m(missing_trace \u001b[38;5;241m+\u001b[39m missing_info) \u001b[38;5;241m>\u001b[39m \u001b[38;5;241m0\u001b[39m:\n\u001b[0;32m---> 96\u001b[0m     \u001b[38;5;28;43mself\u001b[39;49m\u001b[38;5;241;43m.\u001b[39;49m\u001b[43m__query_and_merge\u001b[49m\u001b[43m(\u001b[49m\u001b[43m)\u001b[49m\n\u001b[1;32m     97\u001b[0m \u001b[38;5;28mself\u001b[39m\u001b[38;5;241m.\u001b[39m__scanner \u001b[38;5;241m=\u001b[39m \u001b[38;5;28mself\u001b[39m\u001b[38;5;241m.\u001b[39m__make_scanner(\u001b[38;5;28mself\u001b[39m\u001b[38;5;241m.\u001b[39mdataset, \u001b[38;5;28mself\u001b[39m\u001b[38;5;241m.\u001b[39m__query)\n",
      "File \u001b[0;32m/opt/conda/lib/python3.9/site-packages/voltaiq_studio/flight/time_series/reader.py:237\u001b[0m, in \u001b[0;36mTimeSeriesReader.__query_and_merge\u001b[0;34m(self)\u001b[0m\n\u001b[1;32m    233\u001b[0m \u001b[38;5;124;03m\"\"\"Query for new columns and new data points (h_datapoint_num > current max).\u001b[39;00m\n\u001b[1;32m    234\u001b[0m \u001b[38;5;124;03mMerge the results into a single datset\u001b[39;00m\n\u001b[1;32m    235\u001b[0m \u001b[38;5;124;03m\"\"\"\u001b[39;00m\n\u001b[1;32m    236\u001b[0m dataset \u001b[38;5;241m=\u001b[39m \u001b[38;5;28mself\u001b[39m\u001b[38;5;241m.\u001b[39mdataset\n\u001b[0;32m--> 237\u001b[0m new_datapoints_reader \u001b[38;5;241m=\u001b[39m \u001b[38;5;28;43mself\u001b[39;49m\u001b[38;5;241;43m.\u001b[39;49m\u001b[43m__get_for_new_datapoints\u001b[49m\u001b[43m(\u001b[49m\u001b[43m)\u001b[49m\n\u001b[1;32m    238\u001b[0m \u001b[38;5;66;03m# If there is a data set, look for new columns and merge them into the data set\u001b[39;00m\n\u001b[1;32m    239\u001b[0m \u001b[38;5;66;03m# Then look for new rows and append them onto the data set\u001b[39;00m\n\u001b[1;32m    240\u001b[0m \u001b[38;5;28;01mif\u001b[39;00m dataset \u001b[38;5;129;01mis\u001b[39;00m \u001b[38;5;129;01mnot\u001b[39;00m \u001b[38;5;28;01mNone\u001b[39;00m:\n",
      "File \u001b[0;32m/opt/conda/lib/python3.9/site-packages/voltaiq_studio/flight/time_series/reader.py:230\u001b[0m, in \u001b[0;36mTimeSeriesReader.__get_for_new_datapoints\u001b[0;34m(self)\u001b[0m\n\u001b[1;32m    224\u001b[0m \u001b[38;5;28;01mif\u001b[39;00m \u001b[38;5;28mself\u001b[39m\u001b[38;5;241m.\u001b[39m_max_datapoint \u001b[38;5;129;01mis\u001b[39;00m \u001b[38;5;129;01mnot\u001b[39;00m \u001b[38;5;28;01mNone\u001b[39;00m:\n\u001b[1;32m    225\u001b[0m     new_data_query\u001b[38;5;241m.\u001b[39mfilter_trace(\n\u001b[1;32m    226\u001b[0m         DATAPOINT_INDEX_COL,\n\u001b[1;32m    227\u001b[0m         TraceFilterOperation\u001b[38;5;241m.\u001b[39mGREATER_THAN,\n\u001b[1;32m    228\u001b[0m         \u001b[38;5;28mself\u001b[39m\u001b[38;5;241m.\u001b[39m_max_datapoint,\n\u001b[1;32m    229\u001b[0m     )\n\u001b[0;32m--> 230\u001b[0m \u001b[38;5;28;01mreturn\u001b[39;00m \u001b[43mfetch_flight\u001b[49m\u001b[43m(\u001b[49m\u001b[43mnew_data_query\u001b[49m\u001b[43m)\u001b[49m\n",
      "File \u001b[0;32m/opt/conda/lib/python3.9/site-packages/voltaiq_studio/flight/request.py:79\u001b[0m, in \u001b[0;36mfetch_flight\u001b[0;34m(query)\u001b[0m\n\u001b[1;32m     73\u001b[0m description \u001b[38;5;241m=\u001b[39m fl\u001b[38;5;241m.\u001b[39mFlightDescriptor\u001b[38;5;241m.\u001b[39mfor_command(\n\u001b[1;32m     74\u001b[0m     json\u001b[38;5;241m.\u001b[39mdumps(command) \u001b[38;5;28;01mif\u001b[39;00m \u001b[38;5;28misinstance\u001b[39m(command, \u001b[38;5;28mdict\u001b[39m) \u001b[38;5;28;01melse\u001b[39;00m command\n\u001b[1;32m     75\u001b[0m )\n\u001b[1;32m     77\u001b[0m root_client \u001b[38;5;241m=\u001b[39m __get_client(__get_root_location())\n\u001b[0;32m---> 79\u001b[0m flight_info \u001b[38;5;241m=\u001b[39m \u001b[43mroot_client\u001b[49m\u001b[38;5;241;43m.\u001b[39;49m\u001b[43mget_flight_info\u001b[49m\u001b[43m(\u001b[49m\u001b[43mdescription\u001b[49m\u001b[43m)\u001b[49m\n\u001b[1;32m     80\u001b[0m \u001b[38;5;66;03m# TODO refactor to support parallelization, not currently implemented on the server and\u001b[39;00m\n\u001b[1;32m     81\u001b[0m \u001b[38;5;66;03m# thus not currently needed\u001b[39;00m\n\u001b[1;32m     82\u001b[0m \u001b[38;5;28;01mreturn\u001b[39;00m root_client\u001b[38;5;241m.\u001b[39mdo_get(flight_info\u001b[38;5;241m.\u001b[39mendpoints[\u001b[38;5;241m0\u001b[39m]\u001b[38;5;241m.\u001b[39mticket)\n",
      "File \u001b[0;32m/opt/conda/lib/python3.9/site-packages/pyarrow/_flight.pyx:1401\u001b[0m, in \u001b[0;36mpyarrow._flight.FlightClient.get_flight_info\u001b[0;34m()\u001b[0m\n",
      "File \u001b[0;32m/opt/conda/lib/python3.9/site-packages/pyarrow/_flight.pyx:70\u001b[0m, in \u001b[0;36mpyarrow._flight.check_flight_status\u001b[0;34m()\u001b[0m\n",
      "\u001b[0;31mFlightUnavailableError\u001b[0m: Flight returned unavailable error, with message: Received http2 header with status: 504"
     ]
    }
   ],
   "source": [
    "# Testing on one test\n",
    "\n",
    "test_name1 = 'UMBL2022FEB_CELL152028_CYC_1C1CR1_P45C_5P0PSI_20220804_R1'\n",
    "test_name2 = 'UMBL2022FEB_CELL152028_CYC_1C1CR1_P45C_P5P0PSI_20220804_R7_AuxDat_TC27_20221019_095916';\n",
    "\n",
    "df1 = vh.get_aux_data(test_name1)\n",
    "df2 = vh.get_aux_data(test_name2)\n",
    "\n",
    "df = pd.DataFrame()\n",
    "\n",
    "df = pd.concat([df1, df2])\n",
    "\n",
    "df = pd.concat([pd.DataFrame(), df1])\n",
    "df"
   ]
  },
  {
   "cell_type": "code",
   "execution_count": 15,
   "id": "79e7db4c-93a8-4c57-899a-ff5829489903",
   "metadata": {},
   "outputs": [
    {
     "name": "stdout",
     "output_type": "stream",
     "text": [
      "Processing UMBL2022FEB_CELL152028_CYC_1C1CR1_P45C_5P0PSI_20220804_R1\n"
     ]
    },
    {
     "ename": "FlightInternalError",
     "evalue": "Flight returned internal error, with message: Received RST_STREAM with error code 2. gRPC client debug context: {\"created\":\"@1675097818.177114636\",\"description\":\"Error received from peer ipv4:3.23.158.161:443\",\"file\":\"/opt/vcpkg/buildtrees/grpc/src/85a295989c-6cf7bf442d.clean/src/core/lib/surface/call.cc\",\"file_line\":903,\"grpc_message\":\"Received RST_STREAM with error code 2\",\"grpc_status\":13}. Client context: OK",
     "output_type": "error",
     "traceback": [
      "\u001b[0;31m---------------------------------------------------------------------------\u001b[0m",
      "\u001b[0;31mFlightInternalError\u001b[0m                       Traceback (most recent call last)",
      "Cell \u001b[0;32mIn [15], line 1\u001b[0m\n\u001b[0;32m----> 1\u001b[0m df \u001b[38;5;241m=\u001b[39m \u001b[43mvh\u001b[49m\u001b[38;5;241;43m.\u001b[39;49m\u001b[43mget_aux_data_compiled\u001b[49m\u001b[43m(\u001b[49m\u001b[38;5;124;43m'\u001b[39;49m\u001b[38;5;124;43mUMBL2022FEB_CELL152028\u001b[39;49m\u001b[38;5;124;43m'\u001b[39;49m\u001b[43m)\u001b[49m\n",
      "File \u001b[0;32m~/fast-formation/src/vas.py:160\u001b[0m, in \u001b[0;36mget_aux_data_compiled\u001b[0;34m(self, device_name)\u001b[0m\n\u001b[1;32m    150\u001b[0m \u001b[38;5;28;01mdef\u001b[39;00m \u001b[38;5;21mget_aux_data_compiled\u001b[39m(\u001b[38;5;28mself\u001b[39m, device_name):\n\u001b[1;32m    151\u001b[0m     \u001b[38;5;124;03m\"\"\"\u001b[39;00m\n\u001b[1;32m    152\u001b[0m \u001b[38;5;124;03m    Returns a single DataFrame holding the AuxData for a device,\u001b[39;00m\n\u001b[1;32m    153\u001b[0m \u001b[38;5;124;03m    stitched together and sorted by time\u001b[39;00m\n\u001b[0;32m   (...)\u001b[0m\n\u001b[1;32m    157\u001b[0m \u001b[38;5;124;03m    device_name (str): the name of a device\u001b[39;00m\n\u001b[1;32m    158\u001b[0m \u001b[38;5;124;03m    \"\"\"\u001b[39;00m\n\u001b[0;32m--> 160\u001b[0m     _, aux_list \u001b[38;5;241m=\u001b[39m \u001b[38;5;28mself\u001b[39m\u001b[38;5;241m.\u001b[39mget_test_records_for_device(device_name)\n\u001b[1;32m    162\u001b[0m     df \u001b[38;5;241m=\u001b[39m pd\u001b[38;5;241m.\u001b[39mDataFrame()\n\u001b[1;32m    164\u001b[0m     \u001b[38;5;28;01mfor\u001b[39;00m test_record \u001b[38;5;129;01min\u001b[39;00m aux_list:\n",
      "File \u001b[0;32m~/fast-formation/src/vas.py:117\u001b[0m, in \u001b[0;36mVasHelper.get_aux_data\u001b[0;34m(self, test_name)\u001b[0m\n\u001b[1;32m    109\u001b[0m \u001b[38;5;28;01mdef\u001b[39;00m \u001b[38;5;21mget_aux_data\u001b[39m(\u001b[38;5;28mself\u001b[39m, test_name):\n\u001b[1;32m    110\u001b[0m     \u001b[38;5;124;03m\"\"\"\u001b[39;00m\n\u001b[1;32m    111\u001b[0m \u001b[38;5;124;03m    Return a Pandas DataFrame from a file containing 'aux'iliary data, which includes\u001b[39;00m\n\u001b[1;32m    112\u001b[0m \u001b[38;5;124;03m    the LDC expansion sensor data, temperature sensor data, and others.\u001b[39;00m\n\u001b[1;32m    113\u001b[0m \u001b[38;5;124;03m    \u001b[39;00m\n\u001b[1;32m    114\u001b[0m \u001b[38;5;124;03m    Parameters\u001b[39;00m\n\u001b[1;32m    115\u001b[0m \u001b[38;5;124;03m    ---------\u001b[39;00m\n\u001b[1;32m    116\u001b[0m \u001b[38;5;124;03m    test_name (str): the name of a test\u001b[39;00m\n\u001b[0;32m--> 117\u001b[0m \u001b[38;5;124;03m    \"\"\"\u001b[39;00m\n\u001b[1;32m    119\u001b[0m     test_record \u001b[38;5;241m=\u001b[39m \u001b[38;5;28mself\u001b[39m\u001b[38;5;241m.\u001b[39m_get_test_record(test_name)\n\u001b[1;32m    121\u001b[0m     reader \u001b[38;5;241m=\u001b[39m test_record\u001b[38;5;241m.\u001b[39mmake_time_series_reader()\n",
      "File \u001b[0;32m/opt/conda/lib/python3.9/site-packages/voltaiq_studio/test_record/test_record.py:201\u001b[0m, in \u001b[0;36mTestRecord.make_time_series_reader\u001b[0;34m(self)\u001b[0m\n\u001b[1;32m    193\u001b[0m \u001b[38;5;124;03m\"\"\"Get a time series reader for this test record\u001b[39;00m\n\u001b[1;32m    194\u001b[0m \n\u001b[1;32m    195\u001b[0m \u001b[38;5;124;03mReturns\u001b[39;00m\n\u001b[0;32m   (...)\u001b[0m\n\u001b[1;32m    198\u001b[0m \u001b[38;5;124;03m    A TimeSeriesReader for this test record.\u001b[39;00m\n\u001b[1;32m    199\u001b[0m \u001b[38;5;124;03m\"\"\"\u001b[39;00m\n\u001b[1;32m    200\u001b[0m \u001b[38;5;28;01mtry\u001b[39;00m:\n\u001b[0;32m--> 201\u001b[0m     \u001b[38;5;28;01mreturn\u001b[39;00m \u001b[43mTimeSeriesReader\u001b[49m\u001b[43m(\u001b[49m\u001b[38;5;28;43mself\u001b[39;49m\u001b[43m)\u001b[49m\n\u001b[1;32m    202\u001b[0m \u001b[38;5;28;01mexcept\u001b[39;00m (\u001b[38;5;167;01mIndexError\u001b[39;00m, \u001b[38;5;167;01mRuntimeError\u001b[39;00m):\n\u001b[1;32m    203\u001b[0m     cm\u001b[38;5;241m.\u001b[39mdelete_entry(\u001b[38;5;28mself\u001b[39m)\n",
      "File \u001b[0;32m/opt/conda/lib/python3.9/site-packages/voltaiq_studio/flight/time_series/reader.py:75\u001b[0m, in \u001b[0;36mTimeSeriesReader.__init__\u001b[0;34m(self, test_record, id)\u001b[0m\n\u001b[1;32m     72\u001b[0m     GLOBAL_CONFIG\u001b[38;5;241m.\u001b[39mCACHE_PATH\u001b[38;5;241m.\u001b[39mmkdir(parents\u001b[38;5;241m=\u001b[39m\u001b[38;5;28;01mTrue\u001b[39;00m)\n\u001b[1;32m     73\u001b[0m \u001b[38;5;28mself\u001b[39m\u001b[38;5;241m.\u001b[39m_cache_dir \u001b[38;5;241m=\u001b[39m GLOBAL_CONFIG\u001b[38;5;241m.\u001b[39mCACHE_PATH \u001b[38;5;241m/\u001b[39m test_record\u001b[38;5;241m.\u001b[39muuid\n\u001b[0;32m---> 75\u001b[0m \u001b[38;5;28;43mself\u001b[39;49m\u001b[38;5;241;43m.\u001b[39;49m\u001b[43m__query_and_merge\u001b[49m\u001b[43m(\u001b[49m\u001b[43m)\u001b[49m\n\u001b[1;32m     76\u001b[0m \u001b[38;5;28mself\u001b[39m\u001b[38;5;241m.\u001b[39m__scanner \u001b[38;5;241m=\u001b[39m \u001b[38;5;28mself\u001b[39m\u001b[38;5;241m.\u001b[39m__make_scanner(\u001b[38;5;28mself\u001b[39m\u001b[38;5;241m.\u001b[39mdataset, \u001b[38;5;28mself\u001b[39m\u001b[38;5;241m.\u001b[39m__query)\n",
      "File \u001b[0;32m/opt/conda/lib/python3.9/site-packages/voltaiq_studio/flight/time_series/reader.py:244\u001b[0m, in \u001b[0;36mTimeSeriesReader.__query_and_merge\u001b[0;34m(self)\u001b[0m\n\u001b[1;32m    242\u001b[0m     \u001b[38;5;28;01mif\u001b[39;00m cols_reader \u001b[38;5;129;01mis\u001b[39;00m \u001b[38;5;129;01mnot\u001b[39;00m \u001b[38;5;28;01mNone\u001b[39;00m \u001b[38;5;129;01mand\u001b[39;00m \u001b[38;5;28mlen\u001b[39m(dataset\u001b[38;5;241m.\u001b[39mfiles) \u001b[38;5;241m>\u001b[39m \u001b[38;5;241m0\u001b[39m:\n\u001b[1;32m    243\u001b[0m         dh\u001b[38;5;241m.\u001b[39mmerge_reader(dataset, cols_reader)\n\u001b[0;32m--> 244\u001b[0m     \u001b[43mdh\u001b[49m\u001b[38;5;241;43m.\u001b[39;49m\u001b[43mappend_reader\u001b[49m\u001b[43m(\u001b[49m\u001b[43mdataset\u001b[49m\u001b[43m,\u001b[49m\u001b[43m \u001b[49m\u001b[43mnew_datapoints_reader\u001b[49m\u001b[43m)\u001b[49m\n\u001b[1;32m    245\u001b[0m \u001b[38;5;66;03m# If there is no data set, then the new rows are the full data set,\u001b[39;00m\n\u001b[1;32m    246\u001b[0m \u001b[38;5;66;03m# Write them to a new data set\u001b[39;00m\n\u001b[1;32m    247\u001b[0m \u001b[38;5;28;01melse\u001b[39;00m:\n\u001b[1;32m    248\u001b[0m     dh\u001b[38;5;241m.\u001b[39mwrite_new_dataset(\u001b[38;5;28mself\u001b[39m\u001b[38;5;241m.\u001b[39m_cache_dir, new_datapoints_reader)\n",
      "File \u001b[0;32m/opt/conda/lib/python3.9/site-packages/voltaiq_studio/flight/dataset_helpers.py:397\u001b[0m, in \u001b[0;36mappend_reader\u001b[0;34m(dataset, reader)\u001b[0m\n\u001b[1;32m    395\u001b[0m diff \u001b[38;5;241m=\u001b[39m PARTITION_SIZE \u001b[38;5;241m-\u001b[39m lf_meta_data\u001b[38;5;241m.\u001b[39mnum_rows\n\u001b[1;32m    396\u001b[0m current \u001b[38;5;241m=\u001b[39m pq\u001b[38;5;241m.\u001b[39mread_table(path)\n\u001b[0;32m--> 397\u001b[0m additional \u001b[38;5;241m=\u001b[39m \u001b[43miterator\u001b[49m\u001b[38;5;241;43m.\u001b[39;49m\u001b[43mnext_table\u001b[49m\u001b[43m(\u001b[49m\u001b[43mdiff\u001b[49m\u001b[43m)\u001b[49m\n\u001b[1;32m    398\u001b[0m table \u001b[38;5;241m=\u001b[39m th\u001b[38;5;241m.\u001b[39mconcat_tables(current, additional) \u001b[38;5;28;01mif\u001b[39;00m additional \u001b[38;5;129;01mis\u001b[39;00m \u001b[38;5;129;01mnot\u001b[39;00m \u001b[38;5;28;01mNone\u001b[39;00m \u001b[38;5;28;01melse\u001b[39;00m current\n\u001b[1;32m    399\u001b[0m Path(path)\u001b[38;5;241m.\u001b[39munlink()\n",
      "File \u001b[0;32m/opt/conda/lib/python3.9/site-packages/voltaiq_studio/flight/dataset_helpers.py:93\u001b[0m, in \u001b[0;36mReaderIterator.next_table\u001b[0;34m(self, table_len)\u001b[0m\n\u001b[1;32m     91\u001b[0m \u001b[38;5;28;01mwhile\u001b[39;00m \u001b[38;5;28;01mTrue\u001b[39;00m:\n\u001b[1;32m     92\u001b[0m     \u001b[38;5;28;01mtry\u001b[39;00m:\n\u001b[0;32m---> 93\u001b[0m         c_data: pa\u001b[38;5;241m.\u001b[39mRecordBatch \u001b[38;5;241m=\u001b[39m \u001b[38;5;28;43mself\u001b[39;49m\u001b[38;5;241;43m.\u001b[39;49m\u001b[43mreader\u001b[49m\u001b[38;5;241;43m.\u001b[39;49m\u001b[43mread_chunk\u001b[49m\u001b[43m(\u001b[49m\u001b[43m)\u001b[49m\u001b[38;5;241m.\u001b[39mdata\n\u001b[1;32m     94\u001b[0m     \u001b[38;5;28;01mexcept\u001b[39;00m \u001b[38;5;167;01mStopIteration\u001b[39;00m:\n\u001b[1;32m     95\u001b[0m         \u001b[38;5;28mself\u001b[39m\u001b[38;5;241m.\u001b[39m__exhausted \u001b[38;5;241m=\u001b[39m \u001b[38;5;28;01mTrue\u001b[39;00m\n",
      "File \u001b[0;32m/opt/conda/lib/python3.9/site-packages/pyarrow/_flight.pyx:903\u001b[0m, in \u001b[0;36mpyarrow._flight._MetadataRecordBatchReader.read_chunk\u001b[0;34m()\u001b[0m\n",
      "File \u001b[0;32m/opt/conda/lib/python3.9/site-packages/pyarrow/_flight.pyx:57\u001b[0m, in \u001b[0;36mpyarrow._flight.check_flight_status\u001b[0;34m()\u001b[0m\n",
      "\u001b[0;31mFlightInternalError\u001b[0m: Flight returned internal error, with message: Received RST_STREAM with error code 2. gRPC client debug context: {\"created\":\"@1675097818.177114636\",\"description\":\"Error received from peer ipv4:3.23.158.161:443\",\"file\":\"/opt/vcpkg/buildtrees/grpc/src/85a295989c-6cf7bf442d.clean/src/core/lib/surface/call.cc\",\"file_line\":903,\"grpc_message\":\"Received RST_STREAM with error code 2\",\"grpc_status\":13}. Client context: OK"
     ]
    }
   ],
   "source": [
    "df = vh.get_aux_data_compiled('UMBL2022FEB_CELL152028')"
   ]
  },
  {
   "cell_type": "code",
   "execution_count": null,
   "id": "d56d8258-df7d-4fe6-a1ef-e5f96acbacd1",
   "metadata": {},
   "outputs": [],
   "source": [
    "plt.plot(df['datetime'], df['temperature'])"
   ]
  }
 ],
 "metadata": {
  "kernelspec": {
   "display_name": "Python 3 (ipykernel)",
   "language": "python",
   "name": "python3"
  },
  "language_info": {
   "codemirror_mode": {
    "name": "ipython",
    "version": 3
   },
   "file_extension": ".py",
   "mimetype": "text/x-python",
   "name": "python",
   "nbconvert_exporter": "python",
   "pygments_lexer": "ipython3",
   "version": "3.9.6"
  }
 },
 "nbformat": 4,
 "nbformat_minor": 5
}
