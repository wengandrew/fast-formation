{
 "cells": [
  {
   "cell_type": "markdown",
   "id": "7f02bb26-a5b4-449f-9c27-60b1f2cec6c0",
   "metadata": {},
   "source": [
    "# Test using Globus for transferring files from Voltaiq to external sources\n",
    "\n",
    "https://globus-sdk-python.readthedocs.io/en/stable/examples/minimal_transfer_script.html"
   ]
  },
  {
   "cell_type": "code",
   "execution_count": 13,
   "id": "3ae7edfb-f30d-4662-9f19-e3494ae7203f",
   "metadata": {},
   "outputs": [],
   "source": [
    "import globus_sdk\n",
    "from globus_sdk.scopes import TransferScopes\n",
    "from globus_sdk import TransferClient, LocalGlobusConnectPersonal\n"
   ]
  },
  {
   "cell_type": "code",
   "execution_count": 7,
   "id": "f9e1b722-188a-4852-a901-ebe6ad20a506",
   "metadata": {},
   "outputs": [
    {
     "name": "stdout",
     "output_type": "stream",
     "text": [
      "Please go to this URL and login:\n",
      "\n",
      "https://auth.globus.org/v2/oauth2/authorize?client_id=61338d24-54d5-408f-a10d-66c06b59f6d2&redirect_uri=https%3A%2F%2Fauth.globus.org%2Fv2%2Fweb%2Fauth-code&scope=urn%3Aglobus%3Aauth%3Ascope%3Atransfer.api.globus.org%3Aall&state=_default&response_type=code&code_challenge=qZlFdExAyXKYXt_wQ4wWFxOQTRJjTQCyK77xOgbu2g8&code_challenge_method=S256&access_type=online\n",
      "\n"
     ]
    }
   ],
   "source": [
    "CLIENT_ID = '61338d24-54d5-408f-a10d-66c06b59f6d2'\n",
    "\n",
    "auth_client = globus_sdk.NativeAppAuthClient(CLIENT_ID)\n",
    "\n",
    "# requested_scopes specifies a list of scopes to request\n",
    "# instead of the defaults, only request access to the Transfer API\n",
    "auth_client.oauth2_start_flow(requested_scopes=TransferScopes.all)\n",
    "authorize_url = auth_client.oauth2_get_authorize_url()\n",
    "print(f\"Please go to this URL and login:\\n\\n{authorize_url}\\n\")"
   ]
  },
  {
   "cell_type": "code",
   "execution_count": 8,
   "id": "3c64a198-f17b-42ad-865c-72500e06b5c0",
   "metadata": {},
   "outputs": [],
   "source": [
    "auth_code = '5lbUK2Cvu7BzNrFVcPfD8tLJxORDsK'"
   ]
  },
  {
   "cell_type": "code",
   "execution_count": 9,
   "id": "59cbf554-11be-485a-93fd-527c732d99be",
   "metadata": {},
   "outputs": [],
   "source": [
    "tokens = auth_client.oauth2_exchange_code_for_tokens(auth_code)\n",
    "transfer_tokens = tokens.by_resource_server[\"transfer.api.globus.org\"]"
   ]
  },
  {
   "cell_type": "code",
   "execution_count": 10,
   "id": "97630b39-1922-4e7a-bc87-f059df81330c",
   "metadata": {},
   "outputs": [],
   "source": [
    "# construct an AccessTokenAuthorizer and use it to construct the\n",
    "# TransferClient\n",
    "transfer_client = globus_sdk.TransferClient(\n",
    "    authorizer=globus_sdk.AccessTokenAuthorizer(transfer_tokens[\"access_token\"])\n",
    ")"
   ]
  },
  {
   "cell_type": "code",
   "execution_count": 11,
   "id": "b761ea8f-a475-4481-95de-8fd8fa505673",
   "metadata": {},
   "outputs": [],
   "source": [
    "# Globus Tutorial Endpoint 1\n",
    "source_endpoint_id = \"ddb59aef-6d04-11e5-ba46-22000b92c6ec\"\n",
    "# Globus Tutorial Endpoint 2\n",
    "dest_endpoint_id = \"ddb59af0-6d04-11e5-ba46-22000b92c6ec\""
   ]
  },
  {
   "cell_type": "code",
   "execution_count": 12,
   "id": "acbdbad0-636b-454c-8ac7-73ad1cdfd1fb",
   "metadata": {},
   "outputs": [
    {
     "name": "stdout",
     "output_type": "stream",
     "text": [
      "submitted transfer, task_id=8ad97130-a240-11ed-a2a4-8383522b48d9\n"
     ]
    }
   ],
   "source": [
    "# create a Transfer task consisting of one or more items\n",
    "task_data = globus_sdk.TransferData(\n",
    "    transfer_client, source_endpoint_id, dest_endpoint_id\n",
    ")\n",
    "task_data.add_item(\n",
    "    \"/share/godata/file1.txt\",  # source\n",
    "    \"/~/minimal-example-transfer-script-destination.txt\",  # dest\n",
    ")\n",
    "\n",
    "# submit, getting back the task ID\n",
    "task_doc = transfer_client.submit_transfer(task_data)\n",
    "task_id = task_doc[\"task_id\"]\n",
    "print(f\"submitted transfer, task_id={task_id}\")"
   ]
  },
  {
   "cell_type": "markdown",
   "id": "bc16b78a-6bd7-441c-b0d7-a645a46babde",
   "metadata": {},
   "source": [
    "# Set up local endpoint"
   ]
  },
  {
   "cell_type": "code",
   "execution_count": 16,
   "id": "b3e958f3-5c2d-4f02-9cf4-b9637bbd7a5e",
   "metadata": {},
   "outputs": [
    {
     "ename": "TransferAPIError",
     "evalue": "('GET', 'https://transfer.api.globus.org/v0.10/operation/endpoint/None/ls', 'Bearer', 404, 'EndpointNotFound', \"No such endpoint with legacy name 'None'\", 'pmw3GvudD')",
     "output_type": "error",
     "traceback": [
      "\u001b[0;31m---------------------------------------------------------------------------\u001b[0m",
      "\u001b[0;31mTransferAPIError\u001b[0m                          Traceback (most recent call last)",
      "Cell \u001b[0;32mIn [16], line 4\u001b[0m\n\u001b[1;32m      1\u001b[0m local_ep \u001b[38;5;241m=\u001b[39m LocalGlobusConnectPersonal()\n\u001b[1;32m      2\u001b[0m ep_id \u001b[38;5;241m=\u001b[39m local_ep\u001b[38;5;241m.\u001b[39mendpoint_id\n\u001b[0;32m----> 4\u001b[0m \u001b[38;5;28;01mfor\u001b[39;00m file \u001b[38;5;129;01min\u001b[39;00m \u001b[43mtransfer_client\u001b[49m\u001b[38;5;241;43m.\u001b[39;49m\u001b[43moperation_ls\u001b[49m\u001b[43m(\u001b[49m\u001b[43mep_id\u001b[49m\u001b[43m)\u001b[49m:\n\u001b[1;32m      5\u001b[0m     \u001b[38;5;28mprint\u001b[39m(\u001b[38;5;124m\"\u001b[39m\u001b[38;5;124mLocal file: \u001b[39m\u001b[38;5;124m\"\u001b[39m, f[\u001b[38;5;124m'\u001b[39m\u001b[38;5;124mname\u001b[39m\u001b[38;5;124m'\u001b[39m])\n",
      "File \u001b[0;32m/opt/conda/lib/python3.9/site-packages/globus_sdk/services/transfer/client.py:1123\u001b[0m, in \u001b[0;36mTransferClient.operation_ls\u001b[0;34m(self, endpoint_id, path, show_hidden, orderby, filter, query_params)\u001b[0m\n\u001b[1;32m   1119\u001b[0m     query_params[\u001b[38;5;124m\"\u001b[39m\u001b[38;5;124mfilter\u001b[39m\u001b[38;5;124m\"\u001b[39m] \u001b[38;5;241m=\u001b[39m _format_filter(\u001b[38;5;28mfilter\u001b[39m)\n\u001b[1;32m   1121\u001b[0m log\u001b[38;5;241m.\u001b[39minfo(\u001b[38;5;124mf\u001b[39m\u001b[38;5;124m\"\u001b[39m\u001b[38;5;124mTransferClient.operation_ls(\u001b[39m\u001b[38;5;132;01m{\u001b[39;00mendpoint_id\u001b[38;5;132;01m}\u001b[39;00m\u001b[38;5;124m, \u001b[39m\u001b[38;5;132;01m{\u001b[39;00mquery_params\u001b[38;5;132;01m}\u001b[39;00m\u001b[38;5;124m)\u001b[39m\u001b[38;5;124m\"\u001b[39m)\n\u001b[1;32m   1122\u001b[0m \u001b[38;5;28;01mreturn\u001b[39;00m IterableTransferResponse(\n\u001b[0;32m-> 1123\u001b[0m     \u001b[38;5;28;43mself\u001b[39;49m\u001b[38;5;241;43m.\u001b[39;49m\u001b[43mget\u001b[49m\u001b[43m(\u001b[49m\u001b[38;5;124;43mf\u001b[39;49m\u001b[38;5;124;43m\"\u001b[39;49m\u001b[38;5;124;43moperation/endpoint/\u001b[39;49m\u001b[38;5;132;43;01m{\u001b[39;49;00m\u001b[43mendpoint_id\u001b[49m\u001b[38;5;132;43;01m}\u001b[39;49;00m\u001b[38;5;124;43m/ls\u001b[39;49m\u001b[38;5;124;43m\"\u001b[39;49m\u001b[43m,\u001b[49m\u001b[43m \u001b[49m\u001b[43mquery_params\u001b[49m\u001b[38;5;241;43m=\u001b[39;49m\u001b[43mquery_params\u001b[49m\u001b[43m)\u001b[49m\n\u001b[1;32m   1124\u001b[0m )\n",
      "File \u001b[0;32m/opt/conda/lib/python3.9/site-packages/globus_sdk/client.py:135\u001b[0m, in \u001b[0;36mBaseClient.get\u001b[0;34m(self, path, query_params, headers)\u001b[0m\n\u001b[1;32m    126\u001b[0m \u001b[38;5;124;03m\"\"\"\u001b[39;00m\n\u001b[1;32m    127\u001b[0m \u001b[38;5;124;03mMake a GET request to the specified path.\u001b[39;00m\n\u001b[1;32m    128\u001b[0m \n\u001b[0;32m   (...)\u001b[0m\n\u001b[1;32m    132\u001b[0m \u001b[38;5;124;03m<globus_sdk.response.GlobusHTTPResponse>` object\u001b[39;00m\n\u001b[1;32m    133\u001b[0m \u001b[38;5;124;03m\"\"\"\u001b[39;00m\n\u001b[1;32m    134\u001b[0m log\u001b[38;5;241m.\u001b[39mdebug(\u001b[38;5;124mf\u001b[39m\u001b[38;5;124m\"\u001b[39m\u001b[38;5;124mGET to \u001b[39m\u001b[38;5;132;01m{\u001b[39;00mpath\u001b[38;5;132;01m}\u001b[39;00m\u001b[38;5;124m with query_params \u001b[39m\u001b[38;5;132;01m{\u001b[39;00mquery_params\u001b[38;5;132;01m}\u001b[39;00m\u001b[38;5;124m\"\u001b[39m)\n\u001b[0;32m--> 135\u001b[0m \u001b[38;5;28;01mreturn\u001b[39;00m \u001b[38;5;28;43mself\u001b[39;49m\u001b[38;5;241;43m.\u001b[39;49m\u001b[43mrequest\u001b[49m\u001b[43m(\u001b[49m\u001b[38;5;124;43m\"\u001b[39;49m\u001b[38;5;124;43mGET\u001b[39;49m\u001b[38;5;124;43m\"\u001b[39;49m\u001b[43m,\u001b[49m\u001b[43m \u001b[49m\u001b[43mpath\u001b[49m\u001b[43m,\u001b[49m\u001b[43m \u001b[49m\u001b[43mquery_params\u001b[49m\u001b[38;5;241;43m=\u001b[39;49m\u001b[43mquery_params\u001b[49m\u001b[43m,\u001b[49m\u001b[43m \u001b[49m\u001b[43mheaders\u001b[49m\u001b[38;5;241;43m=\u001b[39;49m\u001b[43mheaders\u001b[49m\u001b[43m)\u001b[49m\n",
      "File \u001b[0;32m/opt/conda/lib/python3.9/site-packages/globus_sdk/client.py:310\u001b[0m, in \u001b[0;36mBaseClient.request\u001b[0;34m(self, method, path, query_params, data, headers, encoding, allow_redirects, stream)\u001b[0m\n\u001b[1;32m    307\u001b[0m     \u001b[38;5;28;01mreturn\u001b[39;00m GlobusHTTPResponse(r, \u001b[38;5;28mself\u001b[39m)\n\u001b[1;32m    309\u001b[0m log\u001b[38;5;241m.\u001b[39mdebug(\u001b[38;5;124mf\u001b[39m\u001b[38;5;124m\"\u001b[39m\u001b[38;5;124mrequest completed with (error) response code: \u001b[39m\u001b[38;5;132;01m{\u001b[39;00mr\u001b[38;5;241m.\u001b[39mstatus_code\u001b[38;5;132;01m}\u001b[39;00m\u001b[38;5;124m\"\u001b[39m)\n\u001b[0;32m--> 310\u001b[0m \u001b[38;5;28;01mraise\u001b[39;00m \u001b[38;5;28mself\u001b[39m\u001b[38;5;241m.\u001b[39merror_class(r)\n",
      "\u001b[0;31mTransferAPIError\u001b[0m: ('GET', 'https://transfer.api.globus.org/v0.10/operation/endpoint/None/ls', 'Bearer', 404, 'EndpointNotFound', \"No such endpoint with legacy name 'None'\", 'pmw3GvudD')"
     ]
    }
   ],
   "source": [
    "local_ep = LocalGlobusConnectPersonal()\n",
    "\n",
    "ep_id = local_ep.endpoint_id\n",
    "\n",
    "for file in transfer_client.operation_ls(ep_id):\n",
    "    print(\"Local file: \", f['name'])"
   ]
  },
  {
   "cell_type": "code",
   "execution_count": 23,
   "id": "9829f698-3118-40b9-b130-e085de1e3d94",
   "metadata": {},
   "outputs": [],
   "source": [
    "local_ep.endpoint_id"
   ]
  }
 ],
 "metadata": {
  "kernelspec": {
   "display_name": "Python 3 (ipykernel)",
   "language": "python",
   "name": "python3"
  },
  "language_info": {
   "codemirror_mode": {
    "name": "ipython",
    "version": 3
   },
   "file_extension": ".py",
   "mimetype": "text/x-python",
   "name": "python",
   "nbconvert_exporter": "python",
   "pygments_lexer": "ipython3",
   "version": "3.9.6"
  }
 },
 "nbformat": 4,
 "nbformat_minor": 5
}
