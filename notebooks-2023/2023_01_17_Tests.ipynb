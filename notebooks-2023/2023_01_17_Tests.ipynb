{
 "cells": [
  {
   "cell_type": "markdown",
   "id": "94e349af-b241-4b61-9a8f-dfe35464b3ea",
   "metadata": {},
   "source": [
    "# Test notebook\n",
    "\n",
    "Compile information on formation cells\n",
    "\n",
    "1/17/2023"
   ]
  },
  {
   "cell_type": "code",
   "execution_count": 44,
   "id": "dee48878-92a0-4af7-b00e-1c8d5d41eb35",
   "metadata": {},
   "outputs": [],
   "source": [
    "import voltaiq_studio as vs\n",
    "from matplotlib import pyplot as plt"
   ]
  },
  {
   "cell_type": "code",
   "execution_count": 3,
   "id": "4505ca94-fa1e-4dd6-9cc9-6a6d166874de",
   "metadata": {},
   "outputs": [],
   "source": [
    "trs = vs.get_test_records()"
   ]
  },
  {
   "cell_type": "code",
   "execution_count": 21,
   "id": "2a76f48f-772a-4585-a6fc-1fd5a9794bc5",
   "metadata": {},
   "outputs": [],
   "source": [
    "devices = vs.get_devices()"
   ]
  },
  {
   "cell_type": "code",
   "execution_count": 50,
   "id": "4cf59d8d-8fbd-4f92-ae7f-c0e985da910f",
   "metadata": {},
   "outputs": [
    {
     "data": {
      "text/plain": [
       "TestRecord(id=16521, uuid='c917a8a8-66b3-4199-a2e7-0bcc8e199924', name='UMBL2022FEB_CELL152041_RPT_1_P25C_5P0PSI_20230113_R0_CH108_20230113103955_34_4_4_2818580215', device_id=3249, start_time=datetime.datetime(2023, 1, 13, 10, 39, 55, tzinfo=datetime.timezone(datetime.timedelta(days=-1, seconds=68400))), total_cycles=15, status='DONE', time_series_query=TimeSeriesQuery(id=16521, action='time_series', trace_keys=[], info_keys=[], cycle_numbers=[], cycle_ranges=[], step_indexes=[], step_types=[], trace_filters=[]), cycle_stat_query=CycleStatQuery(test_record_id=16521, test_record_uuid='c917a8a8-66b3-4199-a2e7-0bcc8e199924', action='cycle_stat'))"
      ]
     },
     "execution_count": 50,
     "metadata": {},
     "output_type": "execute_result"
    }
   ],
   "source": [
    "tr = trs[7]\n",
    "tr"
   ]
  },
  {
   "cell_type": "code",
   "execution_count": 51,
   "id": "56e48f0c-1b56-4507-b350-4b4a99d81a3e",
   "metadata": {},
   "outputs": [
    {
     "data": {
      "text/html": [
       "<div>\n",
       "<style scoped>\n",
       "    .dataframe tbody tr th:only-of-type {\n",
       "        vertical-align: middle;\n",
       "    }\n",
       "\n",
       "    .dataframe tbody tr th {\n",
       "        vertical-align: top;\n",
       "    }\n",
       "\n",
       "    .dataframe thead th {\n",
       "        text-align: right;\n",
       "    }\n",
       "</style>\n",
       "<table border=\"1\" class=\"dataframe\">\n",
       "  <thead>\n",
       "    <tr style=\"text-align: right;\">\n",
       "      <th></th>\n",
       "      <th>h_current</th>\n",
       "      <th>h_potential</th>\n",
       "      <th>h_test_time</th>\n",
       "      <th>i_cycle_num</th>\n",
       "    </tr>\n",
       "  </thead>\n",
       "  <tbody>\n",
       "    <tr>\n",
       "      <th>284230</th>\n",
       "      <td>0.0</td>\n",
       "      <td>2.8110</td>\n",
       "      <td>219922.0</td>\n",
       "      <td>15</td>\n",
       "    </tr>\n",
       "    <tr>\n",
       "      <th>284231</th>\n",
       "      <td>0.0</td>\n",
       "      <td>2.8113</td>\n",
       "      <td>219923.0</td>\n",
       "      <td>15</td>\n",
       "    </tr>\n",
       "    <tr>\n",
       "      <th>284232</th>\n",
       "      <td>0.0</td>\n",
       "      <td>2.8113</td>\n",
       "      <td>219924.0</td>\n",
       "      <td>15</td>\n",
       "    </tr>\n",
       "    <tr>\n",
       "      <th>284233</th>\n",
       "      <td>0.0</td>\n",
       "      <td>2.8112</td>\n",
       "      <td>219925.0</td>\n",
       "      <td>15</td>\n",
       "    </tr>\n",
       "    <tr>\n",
       "      <th>284234</th>\n",
       "      <td>0.0</td>\n",
       "      <td>2.8114</td>\n",
       "      <td>219926.0</td>\n",
       "      <td>15</td>\n",
       "    </tr>\n",
       "  </tbody>\n",
       "</table>\n",
       "</div>"
      ],
      "text/plain": [
       "        h_current  h_potential  h_test_time  i_cycle_num\n",
       "284230        0.0       2.8110     219922.0           15\n",
       "284231        0.0       2.8113     219923.0           15\n",
       "284232        0.0       2.8113     219924.0           15\n",
       "284233        0.0       2.8112     219925.0           15\n",
       "284234        0.0       2.8114     219926.0           15"
      ]
     },
     "execution_count": 51,
     "metadata": {},
     "output_type": "execute_result"
    }
   ],
   "source": [
    "tr = trs[7]\n",
    "\n",
    "reader = tr.make_time_series_reader()\n",
    "reader.add_trace_keys('h_current', 'h_potential', 'h_test_time')\n",
    "reader.add_info_keys('i_cycle_num')\n",
    "df = reader.read_pandas()\n",
    "df.tail()"
   ]
  },
  {
   "cell_type": "code",
   "execution_count": 52,
   "id": "3263a232-2606-4547-9581-316d16e0902e",
   "metadata": {},
   "outputs": [
    {
     "data": {
      "text/plain": [
       "<Figure size 432x288 with 0 Axes>"
      ]
     },
     "metadata": {},
     "output_type": "display_data"
    }
   ],
   "source": [
    "fh = plt.figure()\n"
   ]
  },
  {
   "cell_type": "code",
   "execution_count": 53,
   "id": "8d55efd4-1fd3-4c54-801e-fb70b4bbd833",
   "metadata": {},
   "outputs": [
    {
     "data": {
      "text/plain": [
       "[<matplotlib.lines.Line2D at 0x7f24ae698cd0>]"
      ]
     },
     "execution_count": 53,
     "metadata": {},
     "output_type": "execute_result"
    },
    {
     "data": {
      "image/png": "[encoded data removed]",
      "text/plain": [
       "<Figure size 432x288 with 1 Axes>"
      ]
     },
     "metadata": {
      "needs_background": "light"
     },
     "output_type": "display_data"
    }
   ],
   "source": [
    "plt.plot(df['h_test_time'], df['h_potential'])"
   ]
  },
  {
   "cell_type": "code",
   "execution_count": null,
   "id": "2a9ef6fa-c9dc-4e24-ab3a-3aac3325a300",
   "metadata": {},
   "outputs": [],
   "source": []
  }
 ],
 "metadata": {
  "kernelspec": {
   "display_name": "Python 3 (ipykernel)",
   "language": "python",
   "name": "python3"
  },
  "language_info": {
   "codemirror_mode": {
    "name": "ipython",
    "version": 3
   },
   "file_extension": ".py",
   "mimetype": "text/x-python",
   "name": "python",
   "nbconvert_exporter": "python",
   "pygments_lexer": "ipython3",
   "version": "3.9.6"
  }
 },
 "nbformat": 4,
 "nbformat_minor": 5
}
