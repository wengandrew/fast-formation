{
 "cells": [
  {
   "cell_type": "markdown",
   "metadata": {},
   "source": [
    "# Extracting (1C) post cycling capacity of cells\n",
    "\n",
    "Author: Roger Ho"
   ]
  },
  {
   "cell_type": "markdown",
   "metadata": {},
   "source": [
    "this notebook aims to extract the 1C capacity of cells after accelerated cycle life testing. the function used here is an excerpt from `eol.py`, a class that encapsulates end-of-life cell data/characteristics\n",
    "\n",
    "caveats:\n",
    "- c/20 capacity diagnostic tests are ran at set intervals\n",
    "- c/20 capacity tests take much longer to run, meaning high chance final cycle is c/20 test"
   ]
  },
  {
   "cell_type": "markdown",
   "metadata": {},
   "source": [
    "import standard libraries and `FormationCell` from `formation.py` for data encapsulation"
   ]
  },
  {
   "cell_type": "code",
   "execution_count": 5,
   "metadata": {},
   "outputs": [],
   "source": [
    "# import FormationCell from formation\n",
    "import numpy as np\n",
    "import pandas as pd\n",
    "import math\n",
    "\n",
    "# configure paths\n",
    "import sys\n",
    "import os\n",
    "\n",
    "if os.path.basename(os.getcwd()) == 'rho':\n",
    "    print('changing path...')\n",
    "    os.chdir('../../../')\n",
    "    sys.path.insert(0, 'src/')\n",
    "    \n",
    "from formation import FormationCell"
   ]
  },
  {
   "cell_type": "markdown",
   "metadata": {},
   "source": [
    "define function for extracting post cycling capacities. basic logic is:\n",
    "1. get aging cycle data\n",
    "2. grab last N (currently N = 8) capacities from the last N cycles\n",
    "3. if coefficient of variation is too high (> 0.1), then\n",
    "\n",
    "+ <ol type=\"a\">\n",
    "    <li>calculate interquartile range (IQR)</li>\n",
    "    <li>estimate upper bounds using IQR</li>\n",
    "    <li>prune anomalies using upper bound</li>\n",
    "</ol>\n",
    "\n",
    "first define function to prune data with IQR"
   ]
  },
  {
   "cell_type": "code",
   "execution_count": 6,
   "metadata": {},
   "outputs": [],
   "source": [
    "def prune_anomalies(list_in):\n",
    "    q75,q25 = np.percentile(list_in,[75,25])\n",
    "    intr_qr = q75-q25\n",
    "    \n",
    "    qmax = q75+(1.5*intr_qr)\n",
    "    qmin = q25-(1.5*intr_qr)\n",
    "    \n",
    "    # prune using IQE\n",
    "    pruned_list = [cap for cap in list_in if (cap < qmax and cap > qmin)]\n",
    "    \n",
    "    return pruned_list"
   ]
  },
  {
   "cell_type": "code",
   "execution_count": 7,
   "metadata": {},
   "outputs": [],
   "source": [
    "def get_post_cycling_capacity(cellid):\n",
    "    # init formation cell\n",
    "    formation_cell = FormationCell(cellid)\n",
    "    df = formation_cell.get_aging_data_cycles() # get formation data\n",
    "\n",
    "    # plotting for verification\n",
    "    # cycle_numbers = np.unique(df['Cycle Number'])\n",
    "    \n",
    "    # for cycle in cycle_numbers:\n",
    "    #     cycle_df = df[df['Cycle Number'] == cycle]\n",
    "    #     print(cycle_df['Discharge Capacity (Ah)'])\n",
    "        \n",
    "    #     fig, ax = plt.subplots()\n",
    "    #     ax.plot(cycle_df['Cycle Net Capacity (Ah)'])\n",
    "    #     plt.show()\n",
    "        \n",
    "    # index for cycle containing the final discharge capacity\n",
    "    CYCLE_INDEX_LAST = np.max(df['Cycle Number'])\n",
    "\n",
    "    # save last N measured capacities to list\n",
    "    N = 12 # 12 is min number to prune away 3 anomalies (max that i've seen)\n",
    "    last_N_capacities = list()\n",
    "\n",
    "    # get capacities of last 5 cycles\n",
    "    for i in range(CYCLE_INDEX_LAST - N + 1, CYCLE_INDEX_LAST + 1):\n",
    "        cycle_discharge_capacity = np.max(df[df['Cycle Number'] == i]['Discharge Capacity (Ah)'])\n",
    "        # only append if not nan (empty dfs give nan)\n",
    "        if not math.isnan(cycle_discharge_capacity):\n",
    "            last_N_capacities.append(cycle_discharge_capacity)\n",
    "\n",
    "    # check for c/20 tests using coefficient of variation\n",
    "    CV = np.std(last_N_capacities) / np.mean(last_N_capacities)\n",
    "    if CV > 0.1: # significant\n",
    "        # calculate IQR\n",
    "        q75,q25 = np.percentile(last_N_capacities,[75,25])\n",
    "        intr_qr = q75-q25\n",
    "        \n",
    "        qmax = q75+(1.5*intr_qr)\n",
    "        qmin = q25-(1.5*intr_qr)\n",
    "        \n",
    "        # prune using IQE\n",
    "        last_N_capacities = prune_anomalies(last_N_capacities)\n",
    "        \n",
    "        # print num of pruned entries\n",
    "        # print(f'{N - len(last_N_capacities)} entries pruned when getting post cycling capacity')\n",
    "        \n",
    "        # recalculating COV\n",
    "        CV = np.std(last_N_capacities) / np.mean(last_N_capacities)\n",
    "    \n",
    "    if CV > 0.1: # prune till ok\n",
    "        print(f'\\nWARNING: high coefficient of variation of ', CV, ' pruning again...')\n",
    "        last_N_capacities = prune_anomalies(last_N_capacities)\n",
    "        CV = np.std(last_N_capacities) / np.mean(last_N_capacities)\n",
    "        print(f'last {N} capacities, pruned: {last_N_capacities}')\n",
    "        q75,q25 = np.percentile(last_N_capacities,[75,25])\n",
    "        intr_qr = q75-q25\n",
    "        print(\"cutoff was \", q75+(1.5*intr_qr),'\\n')\n",
    "    \n",
    "    # final capacity is now last of the list\n",
    "    final_discharge_capacity = last_N_capacities[-1]\n",
    "\n",
    "    # return\n",
    "    return final_discharge_capacity"
   ]
  },
  {
   "cell_type": "markdown",
   "metadata": {},
   "source": [
    "run for all 40 cells and save to dataframe"
   ]
  },
  {
   "cell_type": "code",
   "execution_count": 8,
   "metadata": {},
   "outputs": [
    {
     "name": "stdout",
     "output_type": "stream",
     "text": [
      "cell 1 :  0.2314204852\n",
      "cell 2 :  0.0642911201\n",
      "\n",
      "WARNING: high coefficient of variation of  0.10954635629137335  pruning again...\n",
      "last 12 capacities, pruned: [0.7113994469, 0.6722224121, 0.6419788624, 0.6106689008, 0.5857907865, 0.5690297784, 0.5526177191, 0.5415908429, 0.5300898549, 0.5181741898, 0.5138489764, 0.5107416296]\n",
      "cutoff was  0.7555745700625 \n",
      "\n",
      "cell 3 :  0.5107416296\n",
      "cell 4 :  0.2933887219\n",
      "cell 5 :  0.1798601926\n",
      "cell 6 :  0.0221319587\n",
      "cell 7 :  0.0953049287\n",
      "cell 8 :  0.1521974505\n",
      "cell 9 :  0.0632311733\n",
      "cell 10 :  0.035035103\n",
      "cell 11 :  1.1378696223\n",
      "cell 12 :  1.040720425\n",
      "cell 13 :  0.858923615\n",
      "cell 14 :  0.8852171388\n",
      "cell 15 :  0.762523983799999\n",
      "cell 16 :  0.827490672500002\n",
      "cell 17 :  0.4921636331\n",
      "cell 18 :  0.7377981774\n",
      "cell 19 :  0.9007932441\n",
      "cell 20 :  0.4747772034\n",
      "cell 21 :  1.2186329858\n",
      "cell 22 :  0.4240728364\n",
      "cell 23 :  1.0329127909\n",
      "cell 24 :  0.9867838941\n",
      "cell 25 :  0.9628010554\n",
      "cell 26 :  1.1036038029\n",
      "cell 27 :  1.1740315535\n",
      "cell 28 :  0.8437031887\n",
      "\n",
      "WARNING: high coefficient of variation of  0.13149611296880656  pruning again...\n",
      "last 12 capacities, pruned: [0.5783187567, 0.5697737562, 0.5663832842, 0.5387862622, 0.5120056692, 0.4903664653, 0.4708404529, 0.4531907717, 0.4378451396, 0.4247642189, 0.4068446352, 0.3862850597]\n",
      "cutoff was  0.7123514301124999 \n",
      "\n",
      "cell 29 :  0.3862850597\n",
      "cell 30 :  1.182938454\n",
      "cell 31 :  0.2676547286\n",
      "cell 32 :  0.8675148623\n",
      "\n",
      "WARNING: high coefficient of variation of  0.23964614981432178  pruning again...\n",
      "last 12 capacities, pruned: [0.4858041369, 0.4307615053, 0.3975884226, 0.3732171817, 0.359003975, 0.3501428461, 0.3427959165, 0.3407748591, 0.339800576]\n",
      "cutoff was  0.47977718174999995 \n",
      "\n",
      "cell 33 :  0.339800576\n",
      "cell 34 :  1.1265266812\n",
      "cell 35 :  0.880312676\n",
      "\n",
      "WARNING: high coefficient of variation of  0.13066572074330457  pruning again...\n",
      "last 12 capacities, pruned: [0.6531310152, 0.6254813081, 0.5978974903, 0.5716434382, 0.5472984652, 0.5231247726, 0.4972393522, 0.4750735756, 0.4539478722, 0.4341783055]\n",
      "cutoff was  0.7574124135624998 \n",
      "\n",
      "cell 36 :  0.4341783055\n",
      "\n",
      "WARNING: high coefficient of variation of  0.13770400985806003  pruning again...\n",
      "last 12 capacities, pruned: [0.952011009, 0.913861095, 0.8746511593, 0.8333016488, 0.7949015094, 0.7522353479, 0.7164487729, 0.6768109102, 0.6387334181, 0.6055471487, 0.766526992699999]\n",
      "cutoff was  1.0899962478 \n",
      "\n",
      "cell 37 :  0.766526992699999\n",
      "cell 38 :  0.5688586141\n",
      "\n",
      "WARNING: high coefficient of variation of  0.13013994737995216  pruning again...\n",
      "last 12 capacities, pruned: [0.6259092415, 0.6016499758, 0.5759489717, 0.5515908056, 0.5253104664, 0.4982071951, 0.4793658605, 0.456146724, 0.435053969, 0.4205181481]\n",
      "cutoff was  0.7317213132499999 \n",
      "\n",
      "cell 39 :  0.4205181481\n",
      "cell 40 :  0.9574621258\n"
     ]
    }
   ],
   "source": [
    "for i in range(1, 41):\n",
    "    print(\"cell\",i,\": \", get_post_cycling_capacity(i))"
   ]
  }
 ],
 "metadata": {
  "interpreter": {
   "hash": "c199df51d7f6345fb2f3104ab7e2050e26207be5c10c585f14deb3b317452306"
  },
  "kernelspec": {
   "display_name": "Python 3.8.8 64-bit ('battery': conda)",
   "language": "python",
   "name": "python3"
  },
  "language_info": {
   "codemirror_mode": {
    "name": "ipython",
    "version": 3
   },
   "file_extension": ".py",
   "mimetype": "text/x-python",
   "name": "python",
   "nbconvert_exporter": "python",
   "pygments_lexer": "ipython3",
   "version": "3.8.8"
  },
  "orig_nbformat": 4
 },
 "nbformat": 4,
 "nbformat_minor": 2
}
