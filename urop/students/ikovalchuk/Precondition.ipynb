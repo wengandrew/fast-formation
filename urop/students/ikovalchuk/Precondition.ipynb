{
 "cells": [
  {
   "cell_type": "code",
   "execution_count": 13,
   "id": "3c7fa364",
   "metadata": {},
   "outputs": [],
   "source": [
    "## Import all diferent libraries\n",
    "import os, sys\n",
    "\n",
    "if os.path.basename(os.getcwd()) == 'notebooks':\n",
    "    os.chdir('../')\n",
    "    sys.path.insert(0, 'src/')\n",
    "\n",
    "import numpy as np\n",
    "import pandas as pd\n",
    "import glob\n",
    "import yaml\n",
    "import pprint\n",
    "from datetime import datetime\n",
    "from scipy.stats import ttest_ind\n",
    "import seaborn as sns\n",
    "from matplotlib import pyplot as plt\n",
    "import re\n"
   ]
  },
  {
   "cell_type": "code",
   "execution_count": 68,
   "id": "e946cc98",
   "metadata": {},
   "outputs": [
    {
     "data": {
      "text/plain": [
       "[['/Users/iaro/project/data/2021-08-post-mortem-biologic-pc/20210817_coin_graphite_cell7_precondition_2_CA7.mpt',\n",
       "  '/Users/iaro/project/data/2021-08-post-mortem-biologic-pc/20210817_coin_graphite_cell7_precondition_3_CA7.mpt',\n",
       "  '/Users/iaro/project/data/2021-08-post-mortem-biologic-pc/20210817_coin_graphite_cell7_precondition_4_CA7.mpt',\n",
       "  '/Users/iaro/project/data/2021-08-post-mortem-biologic-pc/20210817_coin_graphite_cell7_precondition_CA7.mpt',\n",
       "  '/Users/iaro/project/data/2021-08-post-mortem-biologic-pc/20210817_coin_lfp_cell4_precondition_CA2_CA4.mpt',\n",
       "  '/Users/iaro/project/data/2021-08-post-mortem-biologic-pc/20210817_coin_lfp_cell5_precondition_2_CA4.mpt',\n",
       "  '/Users/iaro/project/data/2021-08-post-mortem-biologic-pc/20210817_coin_lfp_cell5_precondition_3_CA4.mpt',\n",
       "  '/Users/iaro/project/data/2021-08-post-mortem-biologic-pc/20210817_coin_lfp_cell5_precondition_CA4.mpt',\n",
       "  '/Users/iaro/project/data/2021-08-post-mortem-biologic-pc/20210817_coin_nmc111_cell2_precondition_2_CA2.mpt',\n",
       "  '/Users/iaro/project/data/2021-08-post-mortem-biologic-pc/20210822_coin_graphite_cell8_precondition_1_CA8.mpt',\n",
       "  '/Users/iaro/project/data/2021-08-post-mortem-biologic-pc/20210822_coin_graphite_cell8_precondition_2_CA8.mpt',\n",
       "  '/Users/iaro/project/data/2021-08-post-mortem-biologic-pc/20210822_coin_lfp_cell6_precondition_1_CA4.mpt',\n",
       "  '/Users/iaro/project/data/2021-08-post-mortem-biologic-pc/20210825_coin_nmc111_cell2_precondition_3_CA2.mpt']]"
      ]
     },
     "execution_count": 68,
     "metadata": {},
     "output_type": "execute_result"
    }
   ],
   "source": [
    "##gets access to file path and gets data\n",
    "\n",
    "paths = yaml.load(open('../../../paths.yaml', 'r'), Loader=yaml.FullLoader)\n",
    "\n",
    "DATA_FOLDER = paths['data'] + '2021-08-post-mortem-biologic-pc/'\n",
    "FILE_GROUP_REGEX_LIST = ['*coin*cell*precondition*.mpt*']\n",
    "## sorts every file that has coin and hppc in the folder. datafolder is a path to the folder \n",
    "file_paths = [sorted(glob.glob(f'{DATA_FOLDER}{f}')) for f in FILE_GROUP_REGEX_LIST]\n",
    "\n",
    "file_paths"
   ]
  },
  {
   "cell_type": "code",
   "execution_count": 57,
   "id": "d8a8e581",
   "metadata": {},
   "outputs": [],
   "source": [
    "def Quantity(df):\n",
    "    cycles_num=np.unique(df['cycle number'])\n",
    "    Time=[]\n",
    "    Voltage=[]\n",
    "    Current=[]\n",
    "    #Resistance=[]\n",
    "    Capacity_T=[]\n",
    "    Capacity_C=[]\n",
    "    for a in cycles_num:\n",
    "        i=np.where(df['cycle number']==a)\n",
    "        for d in i[0][1:-1]:\n",
    "            if df.loc[d,'I/mA']<0:\n",
    "                time1= df.loc[d-1, 'time/s']\n",
    "                time2= df.loc[d, 'time/s']\n",
    "                current_=abs(df.loc[d, 'I/mA'])\n",
    "                Capacity_T.append(current_*(time2-time1)/3600) \n",
    "        Capacity_C.append(np.sum(Capacity_T))\n",
    "        Capacity_T.clear    \n",
    "    return Capacity_C"
   ]
  },
  {
   "cell_type": "code",
   "execution_count": 67,
   "id": "4e94a3de",
   "metadata": {},
   "outputs": [
    {
     "data": {
      "text/plain": [
       "<matplotlib.legend.Legend at 0x127e60640>"
      ]
     },
     "execution_count": 67,
     "metadata": {},
     "output_type": "execute_result"
    },
    {
     "data": {
      "image/png": "[encoded data removed]",
      "text/plain": [
       "<Figure size 432x288 with 1 Axes>"
      ]
     },
     "metadata": {
      "needs_background": "light"
     },
     "output_type": "display_data"
    }
   ],
   "source": [
    "plt.figure()\n",
    "plt.xlabel('Cycles')\n",
    "plt.ylabel('Capacity(mA*h)')\n",
    "for file1 in file_paths[0]:\n",
    "    k=np.where(file_paths[0]== file1)\n",
    "    num_header_lines = 106\n",
    "    df = pd.read_csv(file1, header=num_header_lines, sep='\\t', encoding='ISO-8859-1')\n",
    "    if df.columns[0]!='mode':\n",
    "        df=pd.read_csv(file1, header=num_header_lines-1 , sep='\\t', encoding='ISO-8859-1')\n",
    "    if df.columns[0]!='mode':\n",
    "        df=pd.read_csv(file1, header=num_header_lines-2 , sep='\\t', encoding='ISO-8859-1')\n",
    "    if df.columns[0]!='mode':\n",
    "        df=pd.read_csv(file1, header=num_header_lines-3 , sep='\\t', encoding='ISO-8859-1')\n",
    "    if df.columns[0]!='mode':\n",
    "        df=pd.read_csv(file1, header=num_header_lines-5 , sep='\\t', encoding='ISO-8859-1')\n",
    "    Capacity= Quantity(df)\n",
    "    Cycles=range(len(Capacity)+1)\n",
    "    plt.plot(Cycles[1:], Capacity, label=file1[67:])\n",
    "plt.legend()\n"
   ]
  },
  {
   "cell_type": "markdown",
   "id": "dc0f39ce",
   "metadata": {},
   "source": [
    "##### "
   ]
  }
 ],
 "metadata": {
  "kernelspec": {
   "display_name": "Python 3 (ipykernel)",
   "language": "python",
   "name": "python3"
  },
  "language_info": {
   "codemirror_mode": {
    "name": "ipython",
    "version": 3
   },
   "file_extension": ".py",
   "mimetype": "text/x-python",
   "name": "python",
   "nbconvert_exporter": "python",
   "pygments_lexer": "ipython3",
   "version": "3.9.7"
  }
 },
 "nbformat": 4,
 "nbformat_minor": 5
}
