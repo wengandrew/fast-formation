{
 "cells": [
  {
   "cell_type": "code",
   "execution_count": 17,
   "id": "262d4de4",
   "metadata": {},
   "outputs": [],
   "source": [
    "import numpy as np\n",
    "from matplotlib import pyplot as plt"
   ]
  },
  {
   "cell_type": "code",
   "execution_count": 11,
   "id": "440d5272",
   "metadata": {},
   "outputs": [],
   "source": [
    "def NMC_ocp_PeymanMPM(sto):\n",
    "    \"\"\"\n",
    "    Nickel Managanese Cobalt Oxide (NMC) Open Circuit Potential (OCP) as a\n",
    "    function of the stochiometry. The fit is taken from Peyman MPM.\n",
    "    References\n",
    "    ----------\n",
    "    Peyman MPM manuscript (to be submitted)\n",
    "    Parameters\n",
    "    ----------\n",
    "    sto : :class:`pybamm.Symbol`\n",
    "       Stochiometry of material (li-fraction)\n",
    "    \"\"\"\n",
    "\n",
    "    u_eq = (\n",
    "        4.3452\n",
    "        - 1.6518 * sto\n",
    "        + 1.6225 * (sto ** 2)\n",
    "        - 2.0843 * (sto ** 3)\n",
    "        + 3.5146 * (sto ** 4)\n",
    "        - 2.2166 * (sto ** 5)\n",
    "        - 0.5623e-4 * np.exp(109.451 * sto - 100.006)\n",
    "    )\n",
    "\n",
    "    return u_eq"
   ]
  },
  {
   "cell_type": "code",
   "execution_count": 12,
   "id": "819171dc",
   "metadata": {},
   "outputs": [],
   "source": [
    "def graphite_ocp_PeymanMPM(sto):\n",
    "    \"\"\"\n",
    "    Graphite Open Circuit Potential (OCP) as a function of the\n",
    "    stochiometry. The fit is taken from Peyman MPM [1].\n",
    "    References\n",
    "    ----------\n",
    "    .. [1] Peyman Mohtat et al, MPM (to be submitted)\n",
    "    \"\"\"\n",
    "\n",
    "    u_eq = (\n",
    "        0.063\n",
    "        + 0.8 * np.exp(-75 * (sto + 0.001))\n",
    "        - 0.0120 * np.tanh((sto - 0.127) / 0.016)\n",
    "        - 0.0118 * np.tanh((sto - 0.155) / 0.016)\n",
    "        - 0.0035 * np.tanh((sto - 0.220) / 0.020)\n",
    "        - 0.0095 * np.tanh((sto - 0.190) / 0.013)\n",
    "        - 0.0145 * np.tanh((sto - 0.490) / 0.020)\n",
    "        - 0.0800 * np.tanh((sto - 1.030) / 0.055)\n",
    "    )\n",
    "\n",
    "    return u_eq"
   ]
  },
  {
   "cell_type": "code",
   "execution_count": 28,
   "id": "f2610207",
   "metadata": {},
   "outputs": [],
   "source": [
    "Cn = 5.97 # Ah\n",
    "Cp = 5.97 # Ah\n",
    "\n",
    "nLi = 0.19 # moles\n",
    "\n",
    "F = 96500 # C mol-1"
   ]
  },
  {
   "cell_type": "code",
   "execution_count": 29,
   "id": "5e77aeae",
   "metadata": {},
   "outputs": [],
   "source": [
    "y100 = np.arange(0.1, 0.4, 100)"
   ]
  },
  {
   "cell_type": "code",
   "execution_count": 30,
   "id": "0ec666d7",
   "metadata": {},
   "outputs": [],
   "source": [
    "sto_vec = np.linspace(0, 1, 100)"
   ]
  },
  {
   "cell_type": "code",
   "execution_count": 31,
   "id": "8bc54786",
   "metadata": {},
   "outputs": [],
   "source": [
    "Up = NMC_ocp_PeymanMPM(sto_vec)\n",
    "Un = graphite_ocp_PeymanMPM(sto_vec)"
   ]
  },
  {
   "cell_type": "code",
   "execution_count": 32,
   "id": "b5a668c0",
   "metadata": {},
   "outputs": [
    {
     "data": {
      "text/plain": [
       "[<matplotlib.lines.Line2D at 0x7f83405e8f70>]"
      ]
     },
     "execution_count": 32,
     "metadata": {},
     "output_type": "execute_result"
    },
    {
     "data": {
      "image/png": "[encoded data removed]",
      "text/plain": [
       "<Figure size 432x288 with 1 Axes>"
      ]
     },
     "metadata": {
      "needs_background": "light"
     },
     "output_type": "display_data"
    },
    {
     "data": {
      "image/png": "[encoded data removed]",
      "text/plain": [
       "<Figure size 432x288 with 1 Axes>"
      ]
     },
     "metadata": {
      "needs_background": "light"
     },
     "output_type": "display_data"
    }
   ],
   "source": [
    "plt.figure()\n",
    "plt.plot(sto_vec, Up)\n",
    "plt.figure()\n",
    "plt.plot(sto_vec, Un)"
   ]
  },
  {
   "cell_type": "code",
   "execution_count": 35,
   "id": "f22d7141",
   "metadata": {},
   "outputs": [],
   "source": [
    "y100_vec = np.linspace(0, 0.1, 10)\n",
    "\n",
    "x100 = ( nLi * F / 3600 - y100_vec * Cp ) / Cn\n",
    "Vmax = NMC_ocp_PeymanMPM(y100_vec) - graphite_ocp_PeymanMPM(x100)"
   ]
  },
  {
   "cell_type": "code",
   "execution_count": 36,
   "id": "e1682cf2",
   "metadata": {},
   "outputs": [
    {
     "data": {
      "text/plain": [
       "[<matplotlib.lines.Line2D at 0x7f83403694f0>]"
      ]
     },
     "execution_count": 36,
     "metadata": {},
     "output_type": "execute_result"
    },
    {
     "data": {
      "image/png": "[encoded data removed]",
      "text/plain": [
       "<Figure size 432x288 with 1 Axes>"
      ]
     },
     "metadata": {
      "needs_background": "light"
     },
     "output_type": "display_data"
    }
   ],
   "source": [
    "plt.figure()\n",
    "plt.plot(y100_vec, Vmax)"
   ]
  },
  {
   "cell_type": "code",
   "execution_count": null,
   "id": "2eb7da5b",
   "metadata": {},
   "outputs": [],
   "source": []
  }
 ],
 "metadata": {
  "kernelspec": {
   "display_name": "Python 3",
   "language": "python",
   "name": "python3"
  },
  "language_info": {
   "codemirror_mode": {
    "name": "ipython",
    "version": 3
   },
   "file_extension": ".py",
   "mimetype": "text/x-python",
   "name": "python",
   "nbconvert_exporter": "python",
   "pygments_lexer": "ipython3",
   "version": "3.8.8"
  }
 },
 "nbformat": 4,
 "nbformat_minor": 5
}
