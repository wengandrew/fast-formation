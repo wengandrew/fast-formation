{
 "cells": [
  {
   "cell_type": "markdown",
   "metadata": {},
   "source": [
    "# Manufacturing Features\n",
    "\n",
    "Created: 08/25/2022\n",
    "\n",
    "Author: Andrew Weng"
   ]
  },
  {
   "cell_type": "code",
   "execution_count": 2,
   "metadata": {},
   "outputs": [],
   "source": [
    "import os, sys\n",
    "\n",
    "if os.path.basename(os.getcwd()) == 'notebooks':\n",
    "    os.chdir('../')\n",
    "    sys.path.insert(0, 'src/')\n",
    "\n",
    "import pybamm\n",
    "\n",
    "import pandas as pd\n",
    "import numpy as np\n",
    "from matplotlib import pyplot as plt\n",
    "\n",
    "from src.formation import FormationCell"
   ]
  },
  {
   "cell_type": "markdown",
   "metadata": {},
   "source": [
    "## Figure: Concept Illustration\n",
    "\n",
    "Import the latest formation data which will include:\n",
    "\n",
    "1. Formation charge/discharge\n",
    "2. C/20 charge/discharge\n",
    "3. HPPC\n",
    "3. Aging\n",
    "\n"
   ]
  },
  {
   "cell_type": "code",
   "execution_count": null,
   "metadata": {},
   "outputs": [],
   "source": [
    "# Import the data"
   ]
  },
  {
   "cell_type": "markdown",
   "metadata": {},
   "source": [
    "## Figure: Thermodynamic Signals\n",
    "\n",
    "Make a clear plot of a C/20 charge and the half cell potential curves."
   ]
  },
  {
   "cell_type": "code",
   "execution_count": null,
   "metadata": {},
   "outputs": [],
   "source": []
  }
 ],
 "metadata": {
  "kernelspec": {
   "display_name": "Python 3.8.8 ('base')",
   "language": "python",
   "name": "python3"
  },
  "language_info": {
   "codemirror_mode": {
    "name": "ipython",
    "version": 3
   },
   "file_extension": ".py",
   "mimetype": "text/x-python",
   "name": "python",
   "nbconvert_exporter": "python",
   "pygments_lexer": "ipython3",
   "version": "3.8.8"
  },
  "orig_nbformat": 4,
  "vscode": {
   "interpreter": {
    "hash": "83723d20c1bf42930bd744c9e3454b60d358178f2a4189329051dfbfd3873b4d"
   }
  }
 },
 "nbformat": 4,
 "nbformat_minor": 2
}
