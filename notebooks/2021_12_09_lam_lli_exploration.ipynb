{
 "cells": [
  {
   "cell_type": "markdown",
   "id": "d474af10",
   "metadata": {},
   "source": [
    "# Unraveling LAM and LLI\n",
    "\n",
    "Andrew Weng\n",
    "\n",
    "Dec 9, 2021\n",
    "\n",
    "Use basic analytical equations for LAM and LLI to explore the relationship between graphical voltage features and the underlying math.\n",
    "\n",
    "The idea is: usually people start from the graphs and try to recover LAM and LLI. In this work, we start from the fundamental math behind LAM and LLI and construct the graphs using a toy model. We show how the graphical features map to the LAM and LLI. We will show that LLI cannot be directly attributed to SEI reaction mechanisms in the presence of LAM."
   ]
  },
  {
   "cell_type": "code",
   "execution_count": 1,
   "id": "bbdeba7b",
   "metadata": {},
   "outputs": [],
   "source": [
    "import os, sys\n",
    "\n",
    "if os.path.basename(os.getcwd()) == 'notebooks':\n",
    "    os.chdir('../')\n",
    "    sys.path.insert(0, 'src/')\n",
    "\n",
    "import numpy as np\n",
    "import pandas as pd\n",
    "import glob, re, pprint, random\n",
    "from datetime import datetime\n",
    "import pprint\n",
    "\n",
    "from scipy.stats import pearsonr, ttest_ind\n",
    "from scipy.signal import savgol_filter\n",
    "from scipy import interpolate\n",
    "\n",
    "from sklearn.linear_model import LinearRegression\n",
    "import seaborn as sns\n",
    "from matplotlib import pyplot as plt\n",
    "\n",
    "from src.formation import FormationCell\n",
    "from src.utils import get_label_registry\n",
    "\n",
    "import warnings\n",
    "warnings.filterwarnings('ignore')"
   ]
  },
  {
   "cell_type": "code",
   "execution_count": 2,
   "id": "58c3147e",
   "metadata": {},
   "outputs": [],
   "source": [
    "pd.set_option('display.max_columns', 500)\n",
    "pd.set_option('display.max_rows', 50)"
   ]
  },
  {
   "cell_type": "code",
   "execution_count": 3,
   "id": "00c53637",
   "metadata": {},
   "outputs": [],
   "source": [
    "# Configure plot settings\n",
    "plt.rc('font', **{'family'     : 'sans-serif',\n",
    "                  'sans-serif' : ['Arial'],\n",
    "                  'size': 18\n",
    "                  })\n",
    "plt.rc('figure', **{'autolayout' : True,\n",
    "                    'figsize'    : (7, 5),\n",
    "                    'facecolor'  : 'white',\n",
    "                    'dpi'        : 150\n",
    "                    })\n",
    "plt.rc('xtick', labelsize='medium')\n",
    "plt.rc('ytick', labelsize='medium')\n",
    "plt.rc('axes',  labelsize='medium', grid=False)\n",
    "plt.rc('axes',  titlesize='medium')\n",
    "plt.rc('legend', fontsize='medium')"
   ]
  },
  {
   "cell_type": "code",
   "execution_count": null,
   "id": "31bedf71",
   "metadata": {},
   "outputs": [],
   "source": [
    "def "
   ]
  }
 ],
 "metadata": {
  "kernelspec": {
   "display_name": "Python 3",
   "language": "python",
   "name": "python3"
  },
  "language_info": {
   "codemirror_mode": {
    "name": "ipython",
    "version": 3
   },
   "file_extension": ".py",
   "mimetype": "text/x-python",
   "name": "python",
   "nbconvert_exporter": "python",
   "pygments_lexer": "ipython3",
   "version": "3.8.8"
  }
 },
 "nbformat": 4,
 "nbformat_minor": 5
}
