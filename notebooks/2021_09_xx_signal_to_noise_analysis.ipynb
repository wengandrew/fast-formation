{
 "cells": [
  {
   "cell_type": "markdown",
   "metadata": {},
   "source": [
    "# Signal to noise analysis\n",
    "\n",
    "Does RLS really have better signal to noise (sensitivity) for detecting QLLI compared to Qd?\n",
    "\n",
    "To answer this question, let's consider the resolution limit of either measurement when considering a certain equipment spec"
   ]
  },
  {
   "cell_type": "code",
   "execution_count": 1,
   "metadata": {},
   "outputs": [],
   "source": [
    "import numpy as np\n",
    "import pandas as pd"
   ]
  },
  {
   "cell_type": "code",
   "execution_count": 2,
   "metadata": {},
   "outputs": [],
   "source": [
    "# Define some parameters\n",
    "\n",
    "# Percent of full scale range, voltage\n",
    "voltage_precision_perc = 0.02\n",
    "\n",
    "# Voltage full scale range in Volts\n",
    "voltage_fsr = 5\n",
    "\n",
    "# Percent of full scale range, current\n",
    "current_precision_perc = 0.02 \n",
    "\n",
    "# Current full scale range in Ameres\n",
    "current_fsr = 5 \n",
    "\n",
    "# Calculate the errors\n",
    "current_err = current_fsr * current_precision_perc / 100\n",
    "voltage_err = voltage_fsr * voltage_precision_perc / 100\n",
    "\n",
    "# Linearization of sensitivity of Q_LLI to RLS and Qd\n",
    "\n",
    "# mohm/mah\n",
    "rls_per_qlli_vec = np.array([14, 9, 5, 1])/40\n",
    "soc_vec = [2, 5, 7, 10]\n",
    "\n",
    "# mah/mah\n",
    "qd_per_qlli = 36/40 # Assuming no LAM"
   ]
  },
  {
   "cell_type": "code",
   "execution_count": 3,
   "metadata": {},
   "outputs": [
    {
     "name": "stdout",
     "output_type": "stream",
     "text": [
      "0.001\n",
      "0.001\n"
     ]
    }
   ],
   "source": [
    "print(current_err)\n",
    "print(voltage_err)"
   ]
  },
  {
   "cell_type": "code",
   "execution_count": 4,
   "metadata": {},
   "outputs": [],
   "source": [
    "# Resistance calculation\n",
    "voltage_meas = 0.1\n",
    "current_meas = 2.37\n",
    "\n",
    "resistance_lo = (voltage_meas - voltage_err) / (current_meas + current_err)\n",
    "resistance_hi = (voltage_meas + voltage_err) / (current_meas - current_err)\n",
    "\n",
    "resistance_resolution = resistance_hi - resistance_lo"
   ]
  },
  {
   "cell_type": "code",
   "execution_count": 5,
   "metadata": {},
   "outputs": [],
   "source": [
    "# Capacity calculation\n",
    "current_meas = 2.37 / 10 # C/10 discharge\n",
    "duration_hours = 10\n",
    "\n",
    "# Assume we do constant current charging.\n",
    "# Ignore CV contributions\n",
    "capacity_lo = (current_meas - current_err) * duration_hours\n",
    "capacity_hi = (current_meas + current_err) * duration_hours\n",
    "\n",
    "capacity_resolution = capacity_hi - capacity_lo"
   ]
  },
  {
   "cell_type": "code",
   "execution_count": 6,
   "metadata": {},
   "outputs": [],
   "source": [
    "resistance_resolution_mohms = resistance_resolution * 1000\n",
    "capacity_resolution_mah = capacity_resolution * 1000"
   ]
  },
  {
   "cell_type": "code",
   "execution_count": 7,
   "metadata": {},
   "outputs": [
    {
     "data": {
      "text/plain": [
       "0.8794888425090047"
      ]
     },
     "execution_count": 7,
     "metadata": {},
     "output_type": "execute_result"
    }
   ],
   "source": [
    "resistance_resolution_mohms"
   ]
  },
  {
   "cell_type": "code",
   "execution_count": 8,
   "metadata": {},
   "outputs": [
    {
     "data": {
      "text/plain": [
       "20.000000000000018"
      ]
     },
     "execution_count": 8,
     "metadata": {},
     "output_type": "execute_result"
    }
   ],
   "source": [
    "capacity_resolution_mah"
   ]
  },
  {
   "cell_type": "code",
   "execution_count": 9,
   "metadata": {},
   "outputs": [
    {
     "name": "stdout",
     "output_type": "stream",
     "text": [
      "SOC = 2% : 2.513 mAh\n",
      "SOC = 5% : 3.909 mAh\n",
      "SOC = 7% : 7.036 mAh\n",
      "SOC = 10% : 35.180 mAh\n"
     ]
    }
   ],
   "source": [
    "for rls_per_qlli, soc in zip(rls_per_qlli_vec, soc_vec):\n",
    "    qlli_resolution_by_rls_mah = resistance_resolution_mohms / rls_per_qlli\n",
    "    print(f'SOC = {soc}% : {qlli_resolution_by_rls_mah:.3f} mAh')\n",
    "\n"
   ]
  },
  {
   "cell_type": "code",
   "execution_count": 10,
   "metadata": {},
   "outputs": [
    {
     "data": {
      "text/plain": [
       "22.222222222222243"
      ]
     },
     "execution_count": 10,
     "metadata": {},
     "output_type": "execute_result"
    }
   ],
   "source": [
    "qlli_resolution_by_qd_mah = capacity_resolution_mah / qd_per_qlli\n",
    "qlli_resolution_by_qd_mah"
   ]
  }
 ],
 "metadata": {
  "kernelspec": {
   "display_name": "Python 3",
   "language": "python",
   "name": "python3"
  },
  "language_info": {
   "codemirror_mode": {
    "name": "ipython",
    "version": 3
   },
   "file_extension": ".py",
   "mimetype": "text/x-python",
   "name": "python",
   "nbconvert_exporter": "python",
   "pygments_lexer": "ipython3",
   "version": "3.8.8"
  }
 },
 "nbformat": 4,
 "nbformat_minor": 4
}
