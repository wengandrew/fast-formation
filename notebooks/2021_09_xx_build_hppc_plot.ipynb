{
 "cells": [
  {
   "cell_type": "markdown",
   "metadata": {},
   "source": [
    "# Build HPPC Plot\n",
    "\n",
    "Make a plot to show what the HPPC test looks like"
   ]
  },
  {
   "cell_type": "code",
   "execution_count": 1,
   "metadata": {},
   "outputs": [],
   "source": [
    "import os, sys\n",
    "\n",
    "if os.path.basename(os.getcwd()) == 'notebooks':\n",
    "    os.chdir('../')\n",
    "    sys.path.insert(0, 'src/')\n",
    "    \n",
    "import numpy as np\n",
    "import pandas as pd\n",
    "import glob\n",
    "import yaml\n",
    "from datetime import datetime\n",
    "import seaborn as sns\n",
    "from matplotlib import pyplot as plt\n",
    "import re"
   ]
  },
  {
   "cell_type": "markdown",
   "metadata": {},
   "source": [
    "## Configure plot settings"
   ]
  },
  {
   "cell_type": "code",
   "execution_count": 2,
   "metadata": {},
   "outputs": [],
   "source": [
    "# Configure plot settings\n",
    "plt.rc('font', **{'family'     : 'sans-serif',\n",
    "                  'sans-serif' : ['Helvetica'],\n",
    "                  'size': 26\n",
    "                  })\n",
    "plt.rc('figure', **{'autolayout' : True,\n",
    "                    'figsize'    : (10, 8)\n",
    "                    })\n",
    "plt.rc('xtick', labelsize='medium')\n",
    "plt.rc('ytick', labelsize='medium')\n",
    "plt.rc('axes',  labelsize='medium', grid=True)\n",
    "plt.rc('axes',  titlesize='medium')\n",
    "plt.rc('legend', fontsize='medium')\n",
    "plt.rc('image',  cmap='gray')\n",
    "\n",
    "DPI = 600\n",
    "VOLTAGE_LIMITS = (2.95, 4.25)\n",
    "CAPACITY_LIMITS = (0, 3)\n",
    "\n",
    "ORANGE = (1, 0.5, 0)\n",
    "BLUE = (0, 0.5, 1)\n",
    "BLACK = (0.0, 0.0, 0.0)\n",
    "GREEN = (0, 0.75, 0)\n",
    "ORANGE = (1, 0.5, 0)"
   ]
  },
  {
   "cell_type": "markdown",
   "metadata": {},
   "source": [
    "## Configure project file path settings"
   ]
  },
  {
   "cell_type": "code",
   "execution_count": 3,
   "metadata": {},
   "outputs": [],
   "source": [
    "paths = yaml.load(open('paths.yaml', 'r'), Loader=yaml.FullLoader)\n",
    "\n",
    "PROJECT_FOLDER = '2020-10-aging-test-timeseries/'\n",
    "\n",
    "GROUP_LIST = ['Baseline HT', 'Baseline RT', 'MicroForm HT', 'MicroForm RT']\n",
    "FORMATION_TYPE = ['Baseline', 'Baseline', 'MicroForm', 'MicroForm']\n",
    "TEST_TEMPERATURE = ['HT', 'RT', 'HT', 'RT']\n",
    "FILE_GROUP_REGEX_LIST = ['UM_Internal_0620_-_BL_Form_-_HT-_Cycling_Cell_[0-9]*.[0-9]*.csv',\n",
    "                         'UM_Internal_0620_-_BL_Form_-_Cycling_Cell_[0-9]*.[0-9]*.csv',\n",
    "                         'UM_Internal_0620_-_Micro_Form_-_HT-_Cycling_Cell_[0-9]*.[0-9]*.csv',\n",
    "                         'UM_Internal_0620_-_Micro_Form_-_Cycling_Cell_[0-9]*.[0-9]*.csv']\n",
    "\n",
    "STEP_INDEX_C3_CHARGE = 7\n",
    "STEP_INDEX_C3_DISCHARGE = 10\n",
    "STEP_INDEX_C20_CHARGE = 13\n",
    "STEP_INDEX_C20_DISCHARGE = 16\n",
    "STEP_INDEX_HPPC_CHARGE = 22\n",
    "STEP_INDEX_HPPC_DISCHARGE = 24\n",
    "\n",
    "DATA_PATH = paths['data']\n",
    "OUTPUT_PATH = paths['outputs']\n"
   ]
  },
  {
   "cell_type": "code",
   "execution_count": 4,
   "metadata": {
    "tags": []
   },
   "outputs": [],
   "source": [
    "fpath_group_list = [sorted(glob.glob(f'{DATA_PATH}{PROJECT_FOLDER}{f}')) for f in FILE_GROUP_REGEX_LIST]"
   ]
  },
  {
   "cell_type": "markdown",
   "metadata": {},
   "source": [
    "## Load resources"
   ]
  },
  {
   "cell_type": "code",
   "execution_count": 5,
   "metadata": {},
   "outputs": [],
   "source": [
    "def process_hppc_pulses(df_raw_data):\n",
    "    \"\"\" \n",
    "    Takes in raw data and returns a data structure holding processed HPPC pulse information\n",
    "    \n",
    "    Uses step indices to infer start and end of each pulse.\n",
    "\n",
    "    Args:\n",
    "      df_raw_data (Pandas DataFrame)\n",
    "\n",
    "    Returns a tuple (cycle indices, results)\n",
    "        cycle indices (list) refers to the HPPC cycles\n",
    "        results (list) is a list of Pandas DataFrames. Each DataFrame holds the contents \n",
    "           of the HPPC test result for the given cycle index \n",
    "    \"\"\"\n",
    "\n",
    "\n",
    "    df_hppc = df_raw_data[df_raw_data['Step Index'] == STEP_INDEX_HPPC_DISCHARGE]\n",
    "    hppc_cycle_indices = np.unique(df_hppc['Cycle Number'])\n",
    "\n",
    "    all_results = list()\n",
    "\n",
    "    # Loop through each diagnostic test\n",
    "    for curr_cyc in hppc_cycle_indices:\n",
    "\n",
    "        curr_df = df_raw_data[df_raw_data['Cycle Number'] == curr_cyc]\n",
    "        \n",
    "        # Process each pulse \n",
    "        pulse_list = []\n",
    "        for idx, point in enumerate(curr_df['Step Index'].values):\n",
    "            \n",
    "            if idx == 0: \n",
    "                continue\n",
    "\n",
    "            # Detect pulse start\n",
    "            if point == STEP_INDEX_HPPC_DISCHARGE \\\n",
    "                and curr_df['Step Index'].iloc[idx-1] != STEP_INDEX_HPPC_DISCHARGE:\n",
    "\n",
    "                capacity = curr_df['Charge Capacity (Ah)'].iloc[idx-1]\n",
    "                voltage_0 = curr_df['Potential (V)'].iloc[idx-1]\n",
    "\n",
    "                # Detect pulse end\n",
    "                voltage_1 = voltage_0\n",
    "                jdx = idx + 1\n",
    "                while True:\n",
    "                    jdx += 1\n",
    "                    if curr_df['Step Index'].iloc[jdx] != STEP_INDEX_HPPC_DISCHARGE:\n",
    "                        voltage_1 = curr_df['Potential (V)'].iloc[jdx-1]\n",
    "                        break\n",
    "\n",
    "                duration_in_seconds = curr_df['Test Time (s)'].iloc[jdx] - \\\n",
    "                                      curr_df['Test Time (s)'].iloc[idx]\n",
    "                \n",
    "                current = np.abs(np.mean(curr_df['Current (A)'].iloc[idx:jdx]))\n",
    "                resistance = (voltage_0 - voltage_1)/current\n",
    "\n",
    "                result = dict()\n",
    "                result['capacity'] = capacity\n",
    "                result['voltage'] = voltage_0\n",
    "                result['resistance'] = resistance\n",
    "                result['current'] = current\n",
    "                result['duration_in_seconds'] = duration_in_seconds\n",
    "\n",
    "                pulse_list.append(result)\n",
    "\n",
    "        result = pd.DataFrame(pulse_list)\n",
    "\n",
    "        all_results.append(result)\n",
    "\n",
    "    return (hppc_cycle_indices, all_results)"
   ]
  },
  {
   "cell_type": "code",
   "execution_count": 6,
   "metadata": {
    "tags": []
   },
   "outputs": [
    {
     "name": "stdout",
     "output_type": "stream",
     "text": [
      "Loading raw data from /Users/aweng/Documents/fast-formation/data/2020-10-aging-test-timeseries/UM_Internal_0620_-_BL_Form_-_HT-_Cycling_Cell_1.022.csv...\n",
      "Loading raw data from /Users/aweng/Documents/fast-formation/data/2020-10-aging-test-timeseries/UM_Internal_0620_-_BL_Form_-_HT-_Cycling_Cell_10.031.csv...\n",
      "Loading raw data from /Users/aweng/Documents/fast-formation/data/2020-10-aging-test-timeseries/UM_Internal_0620_-_BL_Form_-_HT-_Cycling_Cell_2.023.csv...\n",
      "Loading raw data from /Users/aweng/Documents/fast-formation/data/2020-10-aging-test-timeseries/UM_Internal_0620_-_BL_Form_-_HT-_Cycling_Cell_3.024.csv...\n",
      "Loading raw data from /Users/aweng/Documents/fast-formation/data/2020-10-aging-test-timeseries/UM_Internal_0620_-_BL_Form_-_HT-_Cycling_Cell_4.025.csv...\n",
      "Loading raw data from /Users/aweng/Documents/fast-formation/data/2020-10-aging-test-timeseries/UM_Internal_0620_-_BL_Form_-_HT-_Cycling_Cell_5.026.csv...\n",
      "Loading raw data from /Users/aweng/Documents/fast-formation/data/2020-10-aging-test-timeseries/UM_Internal_0620_-_BL_Form_-_HT-_Cycling_Cell_6.027.csv...\n",
      "Loading raw data from /Users/aweng/Documents/fast-formation/data/2020-10-aging-test-timeseries/UM_Internal_0620_-_BL_Form_-_HT-_Cycling_Cell_7.028.csv...\n",
      "Loading raw data from /Users/aweng/Documents/fast-formation/data/2020-10-aging-test-timeseries/UM_Internal_0620_-_BL_Form_-_HT-_Cycling_Cell_8.029.csv...\n",
      "Loading raw data from /Users/aweng/Documents/fast-formation/data/2020-10-aging-test-timeseries/UM_Internal_0620_-_BL_Form_-_HT-_Cycling_Cell_9.030.csv...\n",
      "Loading raw data from /Users/aweng/Documents/fast-formation/data/2020-10-aging-test-timeseries/UM_Internal_0620_-_BL_Form_-_Cycling_Cell_11.001.csv...\n",
      "Loading raw data from /Users/aweng/Documents/fast-formation/data/2020-10-aging-test-timeseries/UM_Internal_0620_-_BL_Form_-_Cycling_Cell_12.002.csv...\n",
      "Loading raw data from /Users/aweng/Documents/fast-formation/data/2020-10-aging-test-timeseries/UM_Internal_0620_-_BL_Form_-_Cycling_Cell_13.003.csv...\n",
      "Loading raw data from /Users/aweng/Documents/fast-formation/data/2020-10-aging-test-timeseries/UM_Internal_0620_-_BL_Form_-_Cycling_Cell_14.004.csv...\n",
      "Loading raw data from /Users/aweng/Documents/fast-formation/data/2020-10-aging-test-timeseries/UM_Internal_0620_-_BL_Form_-_Cycling_Cell_15.005.csv...\n",
      "Loading raw data from /Users/aweng/Documents/fast-formation/data/2020-10-aging-test-timeseries/UM_Internal_0620_-_BL_Form_-_Cycling_Cell_16.006.csv...\n",
      "Loading raw data from /Users/aweng/Documents/fast-formation/data/2020-10-aging-test-timeseries/UM_Internal_0620_-_BL_Form_-_Cycling_Cell_17.007.csv...\n",
      "Loading raw data from /Users/aweng/Documents/fast-formation/data/2020-10-aging-test-timeseries/UM_Internal_0620_-_BL_Form_-_Cycling_Cell_18.008.csv...\n",
      "Loading raw data from /Users/aweng/Documents/fast-formation/data/2020-10-aging-test-timeseries/UM_Internal_0620_-_BL_Form_-_Cycling_Cell_19.010.csv...\n",
      "Loading raw data from /Users/aweng/Documents/fast-formation/data/2020-10-aging-test-timeseries/UM_Internal_0620_-_BL_Form_-_Cycling_Cell_20.011.csv...\n",
      "Loading raw data from /Users/aweng/Documents/fast-formation/data/2020-10-aging-test-timeseries/UM_Internal_0620_-_Micro_Form_-_HT-_Cycling_Cell_31.032.csv...\n",
      "Loading raw data from /Users/aweng/Documents/fast-formation/data/2020-10-aging-test-timeseries/UM_Internal_0620_-_Micro_Form_-_HT-_Cycling_Cell_32.033.csv...\n",
      "Loading raw data from /Users/aweng/Documents/fast-formation/data/2020-10-aging-test-timeseries/UM_Internal_0620_-_Micro_Form_-_HT-_Cycling_Cell_33.034.csv...\n",
      "Loading raw data from /Users/aweng/Documents/fast-formation/data/2020-10-aging-test-timeseries/UM_Internal_0620_-_Micro_Form_-_HT-_Cycling_Cell_34.035.csv...\n",
      "Loading raw data from /Users/aweng/Documents/fast-formation/data/2020-10-aging-test-timeseries/UM_Internal_0620_-_Micro_Form_-_HT-_Cycling_Cell_35.036.csv...\n",
      "Loading raw data from /Users/aweng/Documents/fast-formation/data/2020-10-aging-test-timeseries/UM_Internal_0620_-_Micro_Form_-_HT-_Cycling_Cell_36.037.csv...\n",
      "Loading raw data from /Users/aweng/Documents/fast-formation/data/2020-10-aging-test-timeseries/UM_Internal_0620_-_Micro_Form_-_HT-_Cycling_Cell_37.038.csv...\n",
      "Loading raw data from /Users/aweng/Documents/fast-formation/data/2020-10-aging-test-timeseries/UM_Internal_0620_-_Micro_Form_-_HT-_Cycling_Cell_38.039.csv...\n",
      "Loading raw data from /Users/aweng/Documents/fast-formation/data/2020-10-aging-test-timeseries/UM_Internal_0620_-_Micro_Form_-_HT-_Cycling_Cell_39.040.csv...\n",
      "Loading raw data from /Users/aweng/Documents/fast-formation/data/2020-10-aging-test-timeseries/UM_Internal_0620_-_Micro_Form_-_HT-_Cycling_Cell_40.041.csv...\n",
      "Loading raw data from /Users/aweng/Documents/fast-formation/data/2020-10-aging-test-timeseries/UM_Internal_0620_-_Micro_Form_-_Cycling_Cell_21.012.csv...\n",
      "Loading raw data from /Users/aweng/Documents/fast-formation/data/2020-10-aging-test-timeseries/UM_Internal_0620_-_Micro_Form_-_Cycling_Cell_22.013.csv...\n",
      "Loading raw data from /Users/aweng/Documents/fast-formation/data/2020-10-aging-test-timeseries/UM_Internal_0620_-_Micro_Form_-_Cycling_Cell_23.014.csv...\n",
      "Loading raw data from /Users/aweng/Documents/fast-formation/data/2020-10-aging-test-timeseries/UM_Internal_0620_-_Micro_Form_-_Cycling_Cell_24.015.csv...\n",
      "Loading raw data from /Users/aweng/Documents/fast-formation/data/2020-10-aging-test-timeseries/UM_Internal_0620_-_Micro_Form_-_Cycling_Cell_25.016.csv...\n",
      "Loading raw data from /Users/aweng/Documents/fast-formation/data/2020-10-aging-test-timeseries/UM_Internal_0620_-_Micro_Form_-_Cycling_Cell_26.017.csv...\n",
      "Loading raw data from /Users/aweng/Documents/fast-formation/data/2020-10-aging-test-timeseries/UM_Internal_0620_-_Micro_Form_-_Cycling_Cell_27.018.csv...\n",
      "Loading raw data from /Users/aweng/Documents/fast-formation/data/2020-10-aging-test-timeseries/UM_Internal_0620_-_Micro_Form_-_Cycling_Cell_28.019.csv...\n",
      "Loading raw data from /Users/aweng/Documents/fast-formation/data/2020-10-aging-test-timeseries/UM_Internal_0620_-_Micro_Form_-_Cycling_Cell_29.020.csv...\n",
      "Loading raw data from /Users/aweng/Documents/fast-formation/data/2020-10-aging-test-timeseries/UM_Internal_0620_-_Micro_Form_-_Cycling_Cell_30.021.csv...\n",
      "Done\n"
     ]
    }
   ],
   "source": [
    "# Create a dictionary of values\n",
    "#\n",
    "# - key: group (e.g. 'Baseline HT')\n",
    "#   - key: cellid \n",
    "#     - values\n",
    "\n",
    "data = dict()\n",
    "\n",
    "for group_name, file_list in zip(GROUP_LIST, fpath_group_list):\n",
    "\n",
    "    curr_data = dict()\n",
    "    for file_path in file_list:\n",
    "\n",
    "        print(f'Loading raw data from {file_path}...')\n",
    "        \n",
    "        # Get raw data\n",
    "        df_raw_data = pd.read_csv(file_path)\n",
    "        # Do a bit of post-processing\n",
    "        df_raw_data['Timestamp'] = pd.to_datetime(df_raw_data['Timestamp'], unit='ms')\n",
    "        df_raw_data['Cycle Number'] += 1\n",
    "\n",
    "        # Get cellid\n",
    "        cellid = re.findall('\\_[0-9]*.\\.', file_path)\n",
    "        cellid = int(cellid[0][1:-1])\n",
    "        \n",
    "        # Get cycle-by-cycle data, derived from raw data DataFrame\n",
    "        df_cycle = df_raw_data \\\n",
    "                   .groupby('Cycle Number', as_index=False) \\\n",
    "                   .agg({\n",
    "                       'Charge Capacity (Ah)': max, \n",
    "                       'Discharge Capacity (Ah)': max,\n",
    "                       'Timestamp': min\n",
    "                       })\n",
    "\n",
    "        # Define coulombic efficiency cycle by cycle\n",
    "        df_cycle['Coulombic Efficiency (%)'] = df_cycle['Discharge Capacity (Ah)']/df_cycle['Charge Capacity (Ah)']*100\n",
    "        # Drop cycles with 0 charge capacity\n",
    "        df_cycle = df_cycle[df_cycle['Charge Capacity (Ah)'] != 0]\n",
    "\n",
    "        ## Get the features, cycle by cycle; derived from raw data DataFrame\n",
    "        features_by_cycle_dict = dict()\n",
    "        for n in df_raw_data['Cycle Number'].unique().tolist():\n",
    "            iloc = df_raw_data['Cycle Number'] == n\n",
    "            if max(df_raw_data['Charge Capacity (Ah)'][iloc]) == 0:\n",
    "                continue\n",
    "            features_dict = dict()\n",
    "            features_dict['n'] = n\n",
    "            features_dict['Q'] = df_raw_data['Charge Capacity (Ah)'][iloc]\n",
    "            features_dict['V'] = df_raw_data['Potential (V)'][iloc]\n",
    "            features_dict['dQdV'] = df_raw_data['dQ/dV (Ah/V)'][iloc]\n",
    "            features_dict['Qd'] = df_raw_data['Discharge Capacity (Ah)'][iloc]\n",
    "            features_by_cycle_dict[n] = features_dict\n",
    "\n",
    "        # Package the data\n",
    "        features = dict()\n",
    "        features['raw'] = df_raw_data\n",
    "        features['cycle'] = df_cycle\n",
    "        features['features'] = features_dict\n",
    "        features['hppc'] = process_hppc_pulses(df_raw_data)\n",
    "\n",
    "        # Assignment into dict value\n",
    "        curr_data[cellid] = features\n",
    "\n",
    "    data[group_name] = curr_data\n",
    "\n",
    "print('Done')\n"
   ]
  },
  {
   "cell_type": "markdown",
   "metadata": {},
   "source": [
    "## View available data"
   ]
  },
  {
   "cell_type": "code",
   "execution_count": 7,
   "metadata": {
    "tags": []
   },
   "outputs": [
    {
     "name": "stdout",
     "output_type": "stream",
     "text": [
      "Group: Baseline HT\n",
      " -> cellids: dict_keys([1, 10, 2, 3, 4, 5, 6, 7, 8, 9])\n",
      "\n",
      "Group: Baseline RT\n",
      " -> cellids: dict_keys([11, 12, 13, 14, 15, 16, 17, 18, 19, 20])\n",
      "\n",
      "Group: MicroForm HT\n",
      " -> cellids: dict_keys([31, 32, 33, 34, 35, 36, 37, 38, 39, 40])\n",
      "\n",
      "Group: MicroForm RT\n",
      " -> cellids: dict_keys([21, 22, 23, 24, 25, 26, 27, 28, 29, 30])\n",
      "\n"
     ]
    }
   ],
   "source": [
    "for group in data.keys():\n",
    "    print(f'Group: {group}')\n",
    "    print(f' -> cellids: {data[group].keys()}')\n",
    "    print('')"
   ]
  },
  {
   "cell_type": "code",
   "execution_count": 8,
   "metadata": {
    "tags": []
   },
   "outputs": [],
   "source": [
    "GROUP = 'Baseline HT'\n",
    "CELLID = 1\n",
    "\n",
    "feature = data[GROUP][CELLID]"
   ]
  },
  {
   "cell_type": "markdown",
   "metadata": {},
   "source": [
    "## Plot an example of the HPPC pulsetrain \n",
    "\n",
    "Show how DC resistance is calculated from this"
   ]
  },
  {
   "cell_type": "code",
   "execution_count": 9,
   "metadata": {},
   "outputs": [
    {
     "data": {
      "image/png": "[encoded data removed]",
      "text/plain": [
       "<Figure size 504x504 with 2 Axes>"
      ]
     },
     "metadata": {
      "needs_background": "light"
     },
     "output_type": "display_data"
    },
    {
     "data": {
      "image/png": "[encoded data removed]",
      "text/plain": [
       "<Figure size 504x504 with 2 Axes>"
      ]
     },
     "metadata": {
      "needs_background": "light"
     },
     "output_type": "display_data"
    }
   ],
   "source": [
    "voltage = feature['raw']['Potential (V)']\n",
    "current = feature['raw']['Current (A)']\n",
    "time_in_seconds = feature['raw']['Test Time (s)']\n",
    "\n",
    "# Zoomed out\n",
    "fig, (ax1, ax2) = plt.subplots(2, 1, sharex=True, figsize=(7,7))\n",
    "\n",
    "XLIM_MIN = 180000\n",
    "XLIM_SPAN = 32*60*60\n",
    "\n",
    "ax1.plot(time_in_seconds, voltage, color='black')\n",
    "ax1.set_ylabel('Voltage (V)')\n",
    "\n",
    "ax2.plot(time_in_seconds, current, color='black')\n",
    "ax2.set_xlabel('Test Time (s)')\n",
    "ax2.set_ylabel('Current (A)')\n",
    "\n",
    "plt.xlim((XLIM_MIN, XLIM_MIN + XLIM_SPAN))\n",
    "plt.show()\n",
    "\n",
    "# Zoomed in\n",
    "fig, (ax1, ax2) = plt.subplots(2, 1, sharex=True, figsize=(7,7))\n",
    "\n",
    "XLIM_MIN = 195850\n",
    "XLIM_MAX = 196650\n",
    "YLIM_VOLTAGE = (3.35, 3.52)\n",
    "\n",
    "ax1.plot(time_in_seconds, voltage, 'o-', markersize=3, color='black')\n",
    "ax1.set_ylabel('Voltage (V)')\n",
    "ax1.set_ylim(YLIM_VOLTAGE)\n",
    "\n",
    "ax2.plot(time_in_seconds, current, 'o-', markersize=3, color='black')\n",
    "ax2.set_xlabel('Test Time (s)')\n",
    "ax2.set_ylabel('Current (A)')\n",
    "\n",
    "plt.xlim((XLIM_MIN, XLIM_MAX))\n",
    "plt.show()\n"
   ]
  }
 ],
 "metadata": {
  "kernelspec": {
   "display_name": "Python 3",
   "language": "python",
   "name": "python3"
  },
  "language_info": {
   "codemirror_mode": {
    "name": "ipython",
    "version": 3
   },
   "file_extension": ".py",
   "mimetype": "text/x-python",
   "name": "python",
   "nbconvert_exporter": "python",
   "pygments_lexer": "ipython3",
   "version": "3.8.8"
  }
 },
 "nbformat": 4,
 "nbformat_minor": 4
}
